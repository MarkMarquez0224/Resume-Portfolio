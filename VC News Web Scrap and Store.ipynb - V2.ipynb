{
 "cells": [
  {
   "cell_type": "code",
   "execution_count": 1,
   "metadata": {},
   "outputs": [
    {
     "name": "stdout",
     "output_type": "stream",
     "text": [
      "Requirement already satisfied: pyodbc in c:\\users\\marky\\anaconda3\\envs\\geo_env\\lib\\site-packages (4.0.30)\n",
      "Note: you may need to restart the kernel to use updated packages.\n"
     ]
    }
   ],
   "source": [
    "pip install pyodbc"
   ]
  },
  {
   "cell_type": "code",
   "execution_count": 2,
   "metadata": {},
   "outputs": [
    {
     "name": "stdout",
     "output_type": "stream",
     "text": [
      "Requirement already satisfied: openpyxl in c:\\users\\marky\\anaconda3\\envs\\geo_env\\lib\\site-packages (3.0.3)\n",
      "Requirement already satisfied: et-xmlfile in c:\\users\\marky\\anaconda3\\envs\\geo_env\\lib\\site-packages (from openpyxl) (1.0.1)\n",
      "Requirement already satisfied: jdcal in c:\\users\\marky\\anaconda3\\envs\\geo_env\\lib\\site-packages (from openpyxl) (1.4.1)\n",
      "Note: you may need to restart the kernel to use updated packages.\n"
     ]
    }
   ],
   "source": [
    "pip install openpyxl"
   ]
  },
  {
   "cell_type": "code",
   "execution_count": 3,
   "metadata": {},
   "outputs": [
    {
     "name": "stdout",
     "output_type": "stream",
     "text": [
      "Requirement already satisfied: sqlalchemy in c:\\users\\marky\\anaconda3\\envs\\geo_env\\lib\\site-packages (1.3.16)\n",
      "Note: you may need to restart the kernel to use updated packages.\n"
     ]
    }
   ],
   "source": [
    "pip install sqlalchemy"
   ]
  },
  {
   "cell_type": "code",
   "execution_count": 4,
   "metadata": {},
   "outputs": [],
   "source": [
    "from bs4 import BeautifulSoup\n",
    "\n",
    "import pandas as pd\n",
    "\n",
    "import pyodbc\n",
    "\n",
    "import requests\n",
    "\n",
    "import sqlalchemy\n",
    "from sqlalchemy import create_engine\n",
    "\n",
    "import time"
   ]
  },
  {
   "cell_type": "code",
   "execution_count": 5,
   "metadata": {},
   "outputs": [],
   "source": [
    "# Read website into 'BeautifulSoup' to help parse the website\n",
    "website_soup = BeautifulSoup(requests.get('https://vcnewsdaily.com/').text)"
   ]
  },
  {
   "cell_type": "code",
   "execution_count": 6,
   "metadata": {},
   "outputs": [],
   "source": [
    "# Read funding activity and store into list\n",
    "funding_activity = website_soup.find_all('div',class_='col-md-8')"
   ]
  },
  {
   "cell_type": "code",
   "execution_count": 7,
   "metadata": {},
   "outputs": [
    {
     "data": {
      "text/html": [
       "<div>\n",
       "<style scoped>\n",
       "    .dataframe tbody tr th:only-of-type {\n",
       "        vertical-align: middle;\n",
       "    }\n",
       "\n",
       "    .dataframe tbody tr th {\n",
       "        vertical-align: top;\n",
       "    }\n",
       "\n",
       "    .dataframe thead th {\n",
       "        text-align: right;\n",
       "    }\n",
       "</style>\n",
       "<table border=\"1\" class=\"dataframe\">\n",
       "  <thead>\n",
       "    <tr style=\"text-align: right;\">\n",
       "      <th></th>\n",
       "      <th>Funding Date</th>\n",
       "      <th>Funding Title</th>\n",
       "      <th>Website Article Link</th>\n",
       "    </tr>\n",
       "  </thead>\n",
       "  <tbody>\n",
       "    <tr>\n",
       "      <th>0</th>\n",
       "      <td>08 May 2020</td>\n",
       "      <td>Jellyfish Announces $12M Series A Funding</td>\n",
       "      <td>https://vcnewsdaily.com/jellyfish/venture-capi...</td>\n",
       "    </tr>\n",
       "    <tr>\n",
       "      <th>1</th>\n",
       "      <td>08 May 2020</td>\n",
       "      <td>Finite State Snares $12.5M in Series A</td>\n",
       "      <td>https://vcnewsdaily.com/finite-state/venture-c...</td>\n",
       "    </tr>\n",
       "    <tr>\n",
       "      <th>2</th>\n",
       "      <td>08 May 2020</td>\n",
       "      <td>Limbix Lands $9M Series A</td>\n",
       "      <td>https://vcnewsdaily.com/limbix/venture-capital...</td>\n",
       "    </tr>\n",
       "    <tr>\n",
       "      <th>3</th>\n",
       "      <td>08 May 2020</td>\n",
       "      <td>White Ops Receives Investment</td>\n",
       "      <td>https://vcnewsdaily.com/white-ops/venture-capi...</td>\n",
       "    </tr>\n",
       "    <tr>\n",
       "      <th>4</th>\n",
       "      <td>07 May 2020</td>\n",
       "      <td>Burst Oral Care Grabs $20M in Funding</td>\n",
       "      <td>https://vcnewsdaily.com/burst-oral-care/ventur...</td>\n",
       "    </tr>\n",
       "  </tbody>\n",
       "</table>\n",
       "</div>"
      ],
      "text/plain": [
       "  Funding Date                              Funding Title  \\\n",
       "0  08 May 2020  Jellyfish Announces $12M Series A Funding   \n",
       "1  08 May 2020     Finite State Snares $12.5M in Series A   \n",
       "2  08 May 2020                  Limbix Lands $9M Series A   \n",
       "3  08 May 2020              White Ops Receives Investment   \n",
       "4  07 May 2020      Burst Oral Care Grabs $20M in Funding   \n",
       "\n",
       "                                Website Article Link  \n",
       "0  https://vcnewsdaily.com/jellyfish/venture-capi...  \n",
       "1  https://vcnewsdaily.com/finite-state/venture-c...  \n",
       "2  https://vcnewsdaily.com/limbix/venture-capital...  \n",
       "3  https://vcnewsdaily.com/white-ops/venture-capi...  \n",
       "4  https://vcnewsdaily.com/burst-oral-care/ventur...  "
      ]
     },
     "execution_count": 7,
     "metadata": {},
     "output_type": "execute_result"
    }
   ],
   "source": [
    "# For loop to read in 'funding_activity', get information(date, headline, website link), and store into list\n",
    "funding_activity_list = [[funding_activity[i].small.text,funding_activity[i].h5.text,funding_activity[i].a.get('href')] for i in range(len(funding_activity))]\n",
    "df_funding_activity_list = pd.DataFrame(funding_activity_list,columns=['Funding Date','Funding Title','Website Article Link'])\n",
    "df_funding_activity_list.head()"
   ]
  },
  {
   "cell_type": "code",
   "execution_count": 8,
   "metadata": {},
   "outputs": [
    {
     "data": {
      "text/plain": [
       "(30, 3)"
      ]
     },
     "execution_count": 8,
     "metadata": {},
     "output_type": "execute_result"
    }
   ],
   "source": [
    "df_funding_activity_list.shape"
   ]
  },
  {
   "cell_type": "code",
   "execution_count": 9,
   "metadata": {},
   "outputs": [],
   "source": [
    "# Articles from VC News Daily put into series\n",
    "website_article_links = df_funding_activity_list['Website Article Link']"
   ]
  },
  {
   "cell_type": "code",
   "execution_count": 10,
   "metadata": {},
   "outputs": [],
   "source": [
    "# Articles from our CSV download put into a series\n",
    "website_article_links_total = pd.read_csv('VC_News_Daily.csv').drop(columns='Unnamed: 0')['Website Article Link']"
   ]
  },
  {
   "cell_type": "code",
   "execution_count": 11,
   "metadata": {},
   "outputs": [
    {
     "data": {
      "text/plain": [
       "0"
      ]
     },
     "execution_count": 11,
     "metadata": {},
     "output_type": "execute_result"
    }
   ],
   "source": [
    "# Checking for nbumber of links that aren't already saved\n",
    "website_article_links_length = len(website_article_links[~website_article_links_total.isin(website_article_links)])\n",
    "website_article_links_length"
   ]
  },
  {
   "cell_type": "code",
   "execution_count": 12,
   "metadata": {},
   "outputs": [
    {
     "data": {
      "text/html": [
       "<div>\n",
       "<style scoped>\n",
       "    .dataframe tbody tr th:only-of-type {\n",
       "        vertical-align: middle;\n",
       "    }\n",
       "\n",
       "    .dataframe tbody tr th {\n",
       "        vertical-align: top;\n",
       "    }\n",
       "\n",
       "    .dataframe thead th {\n",
       "        text-align: right;\n",
       "    }\n",
       "</style>\n",
       "<table border=\"1\" class=\"dataframe\">\n",
       "  <thead>\n",
       "    <tr style=\"text-align: right;\">\n",
       "      <th></th>\n",
       "      <th>Funding Date</th>\n",
       "      <th>Funding Title</th>\n",
       "      <th>Website Article Link</th>\n",
       "    </tr>\n",
       "  </thead>\n",
       "  <tbody>\n",
       "  </tbody>\n",
       "</table>\n",
       "</div>"
      ],
      "text/plain": [
       "Empty DataFrame\n",
       "Columns: [Funding Date, Funding Title, Website Article Link]\n",
       "Index: []"
      ]
     },
     "execution_count": 12,
     "metadata": {},
     "output_type": "execute_result"
    }
   ],
   "source": [
    "df_funding_activity_list = df_funding_activity_list[0:website_article_links_length]\n",
    "df_funding_activity_list.head()"
   ]
  },
  {
   "cell_type": "code",
   "execution_count": 13,
   "metadata": {},
   "outputs": [
    {
     "data": {
      "text/html": [
       "<div>\n",
       "<style scoped>\n",
       "    .dataframe tbody tr th:only-of-type {\n",
       "        vertical-align: middle;\n",
       "    }\n",
       "\n",
       "    .dataframe tbody tr th {\n",
       "        vertical-align: top;\n",
       "    }\n",
       "\n",
       "    .dataframe thead th {\n",
       "        text-align: right;\n",
       "    }\n",
       "</style>\n",
       "<table border=\"1\" class=\"dataframe\">\n",
       "  <thead>\n",
       "    <tr style=\"text-align: right;\">\n",
       "      <th></th>\n",
       "      <th>Funding Headline</th>\n",
       "      <th>City</th>\n",
       "      <th>State</th>\n",
       "      <th>Website Company Link</th>\n",
       "      <th>Funding Article</th>\n",
       "    </tr>\n",
       "  </thead>\n",
       "  <tbody>\n",
       "  </tbody>\n",
       "</table>\n",
       "</div>"
      ],
      "text/plain": [
       "Empty DataFrame\n",
       "Columns: [Funding Headline, City, State, Website Company Link, Funding Article]\n",
       "Index: []"
      ]
     },
     "execution_count": 13,
     "metadata": {},
     "output_type": "execute_result"
    }
   ],
   "source": [
    "funding_activity_funding=[]\n",
    "if website_article_links_length > 0:\n",
    "    for i in range(len(df_funding_activity_list)):\n",
    "        company_text = BeautifulSoup(requests.get(website_article_links[i]).text)\n",
    "        funding_headline = company_text.find_all(id='summary')[0].text.strip('\\n').strip('\\t')\n",
    "        company_city = funding_headline.title().split(', ')[0]\n",
    "        company_state = funding_headline.upper().split(', ')[1]\n",
    "        website_company_link = company_text.find_all(id='fullArticle')[0].a.get('href')\n",
    "        funding_article = company_text.find_all(id='fullArticle')[1].text\n",
    "        funding_activity_funding.append([funding_headline,company_city,company_state,website_company_link,funding_article])\n",
    "\n",
    "df_funding_activity_funding = pd.DataFrame(funding_activity_funding,columns=['Funding Headline','City','State','Website Company Link','Funding Article'])\n",
    "df_funding_activity_funding.head()"
   ]
  },
  {
   "cell_type": "code",
   "execution_count": 14,
   "metadata": {},
   "outputs": [
    {
     "data": {
      "text/plain": [
       "(0, 5)"
      ]
     },
     "execution_count": 14,
     "metadata": {},
     "output_type": "execute_result"
    }
   ],
   "source": [
    "df_funding_activity_funding.shape"
   ]
  },
  {
   "cell_type": "code",
   "execution_count": 15,
   "metadata": {},
   "outputs": [],
   "source": [
    "website_company_links = df_funding_activity_funding['Website Company Link']"
   ]
  },
  {
   "cell_type": "code",
   "execution_count": 16,
   "metadata": {},
   "outputs": [
    {
     "data": {
      "text/html": [
       "<div>\n",
       "<style scoped>\n",
       "    .dataframe tbody tr th:only-of-type {\n",
       "        vertical-align: middle;\n",
       "    }\n",
       "\n",
       "    .dataframe tbody tr th {\n",
       "        vertical-align: top;\n",
       "    }\n",
       "\n",
       "    .dataframe thead th {\n",
       "        text-align: right;\n",
       "    }\n",
       "</style>\n",
       "<table border=\"1\" class=\"dataframe\">\n",
       "  <thead>\n",
       "    <tr style=\"text-align: right;\">\n",
       "      <th></th>\n",
       "      <th>Company</th>\n",
       "      <th>Company Description</th>\n",
       "      <th>Latest Funding Round</th>\n",
       "      <th>Latest Funding Amount</th>\n",
       "    </tr>\n",
       "  </thead>\n",
       "  <tbody>\n",
       "  </tbody>\n",
       "</table>\n",
       "</div>"
      ],
      "text/plain": [
       "Empty DataFrame\n",
       "Columns: [Company, Company Description, Latest Funding Round, Latest Funding Amount]\n",
       "Index: []"
      ]
     },
     "execution_count": 16,
     "metadata": {},
     "output_type": "execute_result"
    }
   ],
   "source": [
    "funding_company_list = []\n",
    "if website_article_links_length > 0:\n",
    "    for i in range(len(df_funding_activity_list)):\n",
    "        company_info = BeautifulSoup(requests.get(website_company_links[i]).text)\n",
    "        company_name = company_info.find(class_='col-md-7 d-flex align-items-center').h5.text\n",
    "        company_desc = company_info.find(class_='mt-5').p.text\n",
    "        funding_type = company_info.find_all('td')[-2].text.strip('\\n')\n",
    "        funding_amount = company_info.find_all('td')[-3].text.strip('\\n')\n",
    "        funding_company_list.append([company_name,company_desc,funding_type,funding_amount])\n",
    "\n",
    "df_funding_company_list = pd.DataFrame(funding_company_list,columns=['Company','Company Description','Latest Funding Round','Latest Funding Amount'])\n",
    "df_funding_company_list.head()"
   ]
  },
  {
   "cell_type": "code",
   "execution_count": 17,
   "metadata": {},
   "outputs": [
    {
     "data": {
      "text/plain": [
       "(0, 4)"
      ]
     },
     "execution_count": 17,
     "metadata": {},
     "output_type": "execute_result"
    }
   ],
   "source": [
    "df_funding_company_list.shape"
   ]
  },
  {
   "cell_type": "code",
   "execution_count": 18,
   "metadata": {},
   "outputs": [
    {
     "data": {
      "text/html": [
       "<div>\n",
       "<style scoped>\n",
       "    .dataframe tbody tr th:only-of-type {\n",
       "        vertical-align: middle;\n",
       "    }\n",
       "\n",
       "    .dataframe tbody tr th {\n",
       "        vertical-align: top;\n",
       "    }\n",
       "\n",
       "    .dataframe thead th {\n",
       "        text-align: right;\n",
       "    }\n",
       "</style>\n",
       "<table border=\"1\" class=\"dataframe\">\n",
       "  <thead>\n",
       "    <tr style=\"text-align: right;\">\n",
       "      <th></th>\n",
       "      <th>Company</th>\n",
       "      <th>Company Description</th>\n",
       "      <th>Latest Funding Round</th>\n",
       "      <th>Latest Funding Amount</th>\n",
       "      <th>Funding Date</th>\n",
       "      <th>Funding Title</th>\n",
       "      <th>Website Article Link</th>\n",
       "      <th>Funding Headline</th>\n",
       "      <th>City</th>\n",
       "      <th>State</th>\n",
       "      <th>Website Company Link</th>\n",
       "      <th>Funding Article</th>\n",
       "    </tr>\n",
       "  </thead>\n",
       "  <tbody>\n",
       "  </tbody>\n",
       "</table>\n",
       "</div>"
      ],
      "text/plain": [
       "Empty DataFrame\n",
       "Columns: [Company, Company Description, Latest Funding Round, Latest Funding Amount, Funding Date, Funding Title, Website Article Link, Funding Headline, City, State, Website Company Link, Funding Article]\n",
       "Index: []"
      ]
     },
     "execution_count": 18,
     "metadata": {},
     "output_type": "execute_result"
    }
   ],
   "source": [
    "df_funding_data = pd.concat([df_funding_company_list,df_funding_activity_list,df_funding_activity_funding], axis=1)\n",
    "df_funding_data.head()"
   ]
  },
  {
   "cell_type": "code",
   "execution_count": 19,
   "metadata": {},
   "outputs": [
    {
     "data": {
      "text/plain": [
       "(0, 12)"
      ]
     },
     "execution_count": 19,
     "metadata": {},
     "output_type": "execute_result"
    }
   ],
   "source": [
    "df_funding_data.shape"
   ]
  },
  {
   "cell_type": "code",
   "execution_count": 20,
   "metadata": {},
   "outputs": [],
   "source": [
    "total_funding_data = pd.read_csv('VC_News_Daily.csv').drop(columns='Unnamed: 0')"
   ]
  },
  {
   "cell_type": "code",
   "execution_count": 21,
   "metadata": {},
   "outputs": [
    {
     "data": {
      "text/html": [
       "<div>\n",
       "<style scoped>\n",
       "    .dataframe tbody tr th:only-of-type {\n",
       "        vertical-align: middle;\n",
       "    }\n",
       "\n",
       "    .dataframe tbody tr th {\n",
       "        vertical-align: top;\n",
       "    }\n",
       "\n",
       "    .dataframe thead th {\n",
       "        text-align: right;\n",
       "    }\n",
       "</style>\n",
       "<table border=\"1\" class=\"dataframe\">\n",
       "  <thead>\n",
       "    <tr style=\"text-align: right;\">\n",
       "      <th></th>\n",
       "      <th>Company</th>\n",
       "      <th>Company Description</th>\n",
       "      <th>Latest Funding Round</th>\n",
       "      <th>Latest Funding Amount</th>\n",
       "      <th>Funding Date</th>\n",
       "      <th>Funding Title</th>\n",
       "      <th>Website Article Link</th>\n",
       "      <th>Funding Headline</th>\n",
       "      <th>City</th>\n",
       "      <th>State</th>\n",
       "      <th>Website Company Link</th>\n",
       "      <th>Funding Article</th>\n",
       "    </tr>\n",
       "  </thead>\n",
       "  <tbody>\n",
       "    <tr>\n",
       "      <th>0</th>\n",
       "      <td>Jellyfish</td>\n",
       "      <td>Jellyfish is the leading Engineering Managemen...</td>\n",
       "      <td>Series A</td>\n",
       "      <td>$12,000,000</td>\n",
       "      <td>08 May 2020</td>\n",
       "      <td>Jellyfish Announces $12M Series A Funding</td>\n",
       "      <td>https://vcnewsdaily.com/jellyfish/venture-capi...</td>\n",
       "      <td>BOSTON, MA, Jellyfish has raised over $12 mill...</td>\n",
       "      <td>Boston</td>\n",
       "      <td>MA</td>\n",
       "      <td>https://vcnewsdaily.com/Jellyfish/venture-fund...</td>\n",
       "      <td>Jellyfish, the pioneer Engineering Management ...</td>\n",
       "    </tr>\n",
       "    <tr>\n",
       "      <th>1</th>\n",
       "      <td>Finite State</td>\n",
       "      <td>The mission of Finite State is to protect the ...</td>\n",
       "      <td>Series A</td>\n",
       "      <td>$12,500,000</td>\n",
       "      <td>08 May 2020</td>\n",
       "      <td>Finite State Snares $12.5M in Series A</td>\n",
       "      <td>https://vcnewsdaily.com/finite-state/venture-c...</td>\n",
       "      <td>COLUMBUS, OH, Finite State has raised $12.5 Mi...</td>\n",
       "      <td>Columbus</td>\n",
       "      <td>OH</td>\n",
       "      <td>https://vcnewsdaily.com/Finite%20State/venture...</td>\n",
       "      <td>Finite State, experts in supply chain security...</td>\n",
       "    </tr>\n",
       "    <tr>\n",
       "      <th>2</th>\n",
       "      <td>Limbix</td>\n",
       "      <td>Limbix is a prescription digital therapeutic c...</td>\n",
       "      <td>Series A</td>\n",
       "      <td>$9,000,000</td>\n",
       "      <td>08 May 2020</td>\n",
       "      <td>Limbix Lands $9M Series A</td>\n",
       "      <td>https://vcnewsdaily.com/limbix/venture-capital...</td>\n",
       "      <td>PALO ALTO, CA, Limbix has successfully raised ...</td>\n",
       "      <td>Palo Alto</td>\n",
       "      <td>CA</td>\n",
       "      <td>https://vcnewsdaily.com/Limbix/venture-funding...</td>\n",
       "      <td>Limbix, the leader in digital therapeutics for...</td>\n",
       "    </tr>\n",
       "    <tr>\n",
       "      <th>3</th>\n",
       "      <td>White Ops</td>\n",
       "      <td>White Ops is a pioneer in the detection of and...</td>\n",
       "      <td>NaN</td>\n",
       "      <td>undisclosed</td>\n",
       "      <td>08 May 2020</td>\n",
       "      <td>White Ops Receives Investment</td>\n",
       "      <td>https://vcnewsdaily.com/white-ops/venture-capi...</td>\n",
       "      <td>NEW YORK, NY, White Ops today announced the co...</td>\n",
       "      <td>New York</td>\n",
       "      <td>NY</td>\n",
       "      <td>https://vcnewsdaily.com/White%20Ops/venture-fu...</td>\n",
       "      <td>White Ops (\"White Ops\" or the \"Company\"), the ...</td>\n",
       "    </tr>\n",
       "    <tr>\n",
       "      <th>4</th>\n",
       "      <td>Burst Oral Care</td>\n",
       "      <td>BURST has one simple aim: to make sonic oral c...</td>\n",
       "      <td>Series C</td>\n",
       "      <td>$20,000,000</td>\n",
       "      <td>07 May 2020</td>\n",
       "      <td>Burst Oral Care Grabs $20M in Funding</td>\n",
       "      <td>https://vcnewsdaily.com/burst-oral-care/ventur...</td>\n",
       "      <td>WALNUT, CA, Burst Oral Care has received $20 m...</td>\n",
       "      <td>Walnut</td>\n",
       "      <td>CA</td>\n",
       "      <td>https://vcnewsdaily.com/Burst%20Oral%20Care/ve...</td>\n",
       "      <td>Burst Oral Care has received $20 million in fi...</td>\n",
       "    </tr>\n",
       "  </tbody>\n",
       "</table>\n",
       "</div>"
      ],
      "text/plain": [
       "           Company                                Company Description  \\\n",
       "0        Jellyfish  Jellyfish is the leading Engineering Managemen...   \n",
       "1     Finite State  The mission of Finite State is to protect the ...   \n",
       "2           Limbix  Limbix is a prescription digital therapeutic c...   \n",
       "3        White Ops  White Ops is a pioneer in the detection of and...   \n",
       "4  Burst Oral Care  BURST has one simple aim: to make sonic oral c...   \n",
       "\n",
       "  Latest Funding Round Latest Funding Amount Funding Date  \\\n",
       "0             Series A           $12,000,000  08 May 2020   \n",
       "1             Series A           $12,500,000  08 May 2020   \n",
       "2             Series A            $9,000,000  08 May 2020   \n",
       "3                  NaN           undisclosed  08 May 2020   \n",
       "4             Series C           $20,000,000  07 May 2020   \n",
       "\n",
       "                               Funding Title  \\\n",
       "0  Jellyfish Announces $12M Series A Funding   \n",
       "1     Finite State Snares $12.5M in Series A   \n",
       "2                  Limbix Lands $9M Series A   \n",
       "3              White Ops Receives Investment   \n",
       "4      Burst Oral Care Grabs $20M in Funding   \n",
       "\n",
       "                                Website Article Link  \\\n",
       "0  https://vcnewsdaily.com/jellyfish/venture-capi...   \n",
       "1  https://vcnewsdaily.com/finite-state/venture-c...   \n",
       "2  https://vcnewsdaily.com/limbix/venture-capital...   \n",
       "3  https://vcnewsdaily.com/white-ops/venture-capi...   \n",
       "4  https://vcnewsdaily.com/burst-oral-care/ventur...   \n",
       "\n",
       "                                    Funding Headline       City State  \\\n",
       "0  BOSTON, MA, Jellyfish has raised over $12 mill...     Boston    MA   \n",
       "1  COLUMBUS, OH, Finite State has raised $12.5 Mi...   Columbus    OH   \n",
       "2  PALO ALTO, CA, Limbix has successfully raised ...  Palo Alto    CA   \n",
       "3  NEW YORK, NY, White Ops today announced the co...   New York    NY   \n",
       "4  WALNUT, CA, Burst Oral Care has received $20 m...     Walnut    CA   \n",
       "\n",
       "                                Website Company Link  \\\n",
       "0  https://vcnewsdaily.com/Jellyfish/venture-fund...   \n",
       "1  https://vcnewsdaily.com/Finite%20State/venture...   \n",
       "2  https://vcnewsdaily.com/Limbix/venture-funding...   \n",
       "3  https://vcnewsdaily.com/White%20Ops/venture-fu...   \n",
       "4  https://vcnewsdaily.com/Burst%20Oral%20Care/ve...   \n",
       "\n",
       "                                     Funding Article  \n",
       "0  Jellyfish, the pioneer Engineering Management ...  \n",
       "1  Finite State, experts in supply chain security...  \n",
       "2  Limbix, the leader in digital therapeutics for...  \n",
       "3  White Ops (\"White Ops\" or the \"Company\"), the ...  \n",
       "4  Burst Oral Care has received $20 million in fi...  "
      ]
     },
     "execution_count": 21,
     "metadata": {},
     "output_type": "execute_result"
    }
   ],
   "source": [
    "total_funding_data.head()"
   ]
  },
  {
   "cell_type": "code",
   "execution_count": 22,
   "metadata": {},
   "outputs": [],
   "source": [
    "total_funding_data = pd.concat([df_funding_data,total_funding_data],axis=0)#.reset_index(drop=True)"
   ]
  },
  {
   "cell_type": "code",
   "execution_count": 23,
   "metadata": {},
   "outputs": [
    {
     "data": {
      "text/html": [
       "<div>\n",
       "<style scoped>\n",
       "    .dataframe tbody tr th:only-of-type {\n",
       "        vertical-align: middle;\n",
       "    }\n",
       "\n",
       "    .dataframe tbody tr th {\n",
       "        vertical-align: top;\n",
       "    }\n",
       "\n",
       "    .dataframe thead th {\n",
       "        text-align: right;\n",
       "    }\n",
       "</style>\n",
       "<table border=\"1\" class=\"dataframe\">\n",
       "  <thead>\n",
       "    <tr style=\"text-align: right;\">\n",
       "      <th></th>\n",
       "      <th>Company</th>\n",
       "      <th>Company Description</th>\n",
       "      <th>Latest Funding Round</th>\n",
       "      <th>Latest Funding Amount</th>\n",
       "      <th>Funding Date</th>\n",
       "      <th>Funding Title</th>\n",
       "      <th>Website Article Link</th>\n",
       "      <th>Funding Headline</th>\n",
       "      <th>City</th>\n",
       "      <th>State</th>\n",
       "      <th>Website Company Link</th>\n",
       "      <th>Funding Article</th>\n",
       "    </tr>\n",
       "  </thead>\n",
       "  <tbody>\n",
       "    <tr>\n",
       "      <th>0</th>\n",
       "      <td>Jellyfish</td>\n",
       "      <td>Jellyfish is the leading Engineering Managemen...</td>\n",
       "      <td>Series A</td>\n",
       "      <td>$12,000,000</td>\n",
       "      <td>08 May 2020</td>\n",
       "      <td>Jellyfish Announces $12M Series A Funding</td>\n",
       "      <td>https://vcnewsdaily.com/jellyfish/venture-capi...</td>\n",
       "      <td>BOSTON, MA, Jellyfish has raised over $12 mill...</td>\n",
       "      <td>Boston</td>\n",
       "      <td>MA</td>\n",
       "      <td>https://vcnewsdaily.com/Jellyfish/venture-fund...</td>\n",
       "      <td>Jellyfish, the pioneer Engineering Management ...</td>\n",
       "    </tr>\n",
       "    <tr>\n",
       "      <th>1</th>\n",
       "      <td>Finite State</td>\n",
       "      <td>The mission of Finite State is to protect the ...</td>\n",
       "      <td>Series A</td>\n",
       "      <td>$12,500,000</td>\n",
       "      <td>08 May 2020</td>\n",
       "      <td>Finite State Snares $12.5M in Series A</td>\n",
       "      <td>https://vcnewsdaily.com/finite-state/venture-c...</td>\n",
       "      <td>COLUMBUS, OH, Finite State has raised $12.5 Mi...</td>\n",
       "      <td>Columbus</td>\n",
       "      <td>OH</td>\n",
       "      <td>https://vcnewsdaily.com/Finite%20State/venture...</td>\n",
       "      <td>Finite State, experts in supply chain security...</td>\n",
       "    </tr>\n",
       "    <tr>\n",
       "      <th>2</th>\n",
       "      <td>Limbix</td>\n",
       "      <td>Limbix is a prescription digital therapeutic c...</td>\n",
       "      <td>Series A</td>\n",
       "      <td>$9,000,000</td>\n",
       "      <td>08 May 2020</td>\n",
       "      <td>Limbix Lands $9M Series A</td>\n",
       "      <td>https://vcnewsdaily.com/limbix/venture-capital...</td>\n",
       "      <td>PALO ALTO, CA, Limbix has successfully raised ...</td>\n",
       "      <td>Palo Alto</td>\n",
       "      <td>CA</td>\n",
       "      <td>https://vcnewsdaily.com/Limbix/venture-funding...</td>\n",
       "      <td>Limbix, the leader in digital therapeutics for...</td>\n",
       "    </tr>\n",
       "    <tr>\n",
       "      <th>3</th>\n",
       "      <td>White Ops</td>\n",
       "      <td>White Ops is a pioneer in the detection of and...</td>\n",
       "      <td>NaN</td>\n",
       "      <td>undisclosed</td>\n",
       "      <td>08 May 2020</td>\n",
       "      <td>White Ops Receives Investment</td>\n",
       "      <td>https://vcnewsdaily.com/white-ops/venture-capi...</td>\n",
       "      <td>NEW YORK, NY, White Ops today announced the co...</td>\n",
       "      <td>New York</td>\n",
       "      <td>NY</td>\n",
       "      <td>https://vcnewsdaily.com/White%20Ops/venture-fu...</td>\n",
       "      <td>White Ops (\"White Ops\" or the \"Company\"), the ...</td>\n",
       "    </tr>\n",
       "    <tr>\n",
       "      <th>4</th>\n",
       "      <td>Burst Oral Care</td>\n",
       "      <td>BURST has one simple aim: to make sonic oral c...</td>\n",
       "      <td>Series C</td>\n",
       "      <td>$20,000,000</td>\n",
       "      <td>07 May 2020</td>\n",
       "      <td>Burst Oral Care Grabs $20M in Funding</td>\n",
       "      <td>https://vcnewsdaily.com/burst-oral-care/ventur...</td>\n",
       "      <td>WALNUT, CA, Burst Oral Care has received $20 m...</td>\n",
       "      <td>Walnut</td>\n",
       "      <td>CA</td>\n",
       "      <td>https://vcnewsdaily.com/Burst%20Oral%20Care/ve...</td>\n",
       "      <td>Burst Oral Care has received $20 million in fi...</td>\n",
       "    </tr>\n",
       "  </tbody>\n",
       "</table>\n",
       "</div>"
      ],
      "text/plain": [
       "           Company                                Company Description  \\\n",
       "0        Jellyfish  Jellyfish is the leading Engineering Managemen...   \n",
       "1     Finite State  The mission of Finite State is to protect the ...   \n",
       "2           Limbix  Limbix is a prescription digital therapeutic c...   \n",
       "3        White Ops  White Ops is a pioneer in the detection of and...   \n",
       "4  Burst Oral Care  BURST has one simple aim: to make sonic oral c...   \n",
       "\n",
       "  Latest Funding Round Latest Funding Amount Funding Date  \\\n",
       "0             Series A           $12,000,000  08 May 2020   \n",
       "1             Series A           $12,500,000  08 May 2020   \n",
       "2             Series A            $9,000,000  08 May 2020   \n",
       "3                  NaN           undisclosed  08 May 2020   \n",
       "4             Series C           $20,000,000  07 May 2020   \n",
       "\n",
       "                               Funding Title  \\\n",
       "0  Jellyfish Announces $12M Series A Funding   \n",
       "1     Finite State Snares $12.5M in Series A   \n",
       "2                  Limbix Lands $9M Series A   \n",
       "3              White Ops Receives Investment   \n",
       "4      Burst Oral Care Grabs $20M in Funding   \n",
       "\n",
       "                                Website Article Link  \\\n",
       "0  https://vcnewsdaily.com/jellyfish/venture-capi...   \n",
       "1  https://vcnewsdaily.com/finite-state/venture-c...   \n",
       "2  https://vcnewsdaily.com/limbix/venture-capital...   \n",
       "3  https://vcnewsdaily.com/white-ops/venture-capi...   \n",
       "4  https://vcnewsdaily.com/burst-oral-care/ventur...   \n",
       "\n",
       "                                    Funding Headline       City State  \\\n",
       "0  BOSTON, MA, Jellyfish has raised over $12 mill...     Boston    MA   \n",
       "1  COLUMBUS, OH, Finite State has raised $12.5 Mi...   Columbus    OH   \n",
       "2  PALO ALTO, CA, Limbix has successfully raised ...  Palo Alto    CA   \n",
       "3  NEW YORK, NY, White Ops today announced the co...   New York    NY   \n",
       "4  WALNUT, CA, Burst Oral Care has received $20 m...     Walnut    CA   \n",
       "\n",
       "                                Website Company Link  \\\n",
       "0  https://vcnewsdaily.com/Jellyfish/venture-fund...   \n",
       "1  https://vcnewsdaily.com/Finite%20State/venture...   \n",
       "2  https://vcnewsdaily.com/Limbix/venture-funding...   \n",
       "3  https://vcnewsdaily.com/White%20Ops/venture-fu...   \n",
       "4  https://vcnewsdaily.com/Burst%20Oral%20Care/ve...   \n",
       "\n",
       "                                     Funding Article  \n",
       "0  Jellyfish, the pioneer Engineering Management ...  \n",
       "1  Finite State, experts in supply chain security...  \n",
       "2  Limbix, the leader in digital therapeutics for...  \n",
       "3  White Ops (\"White Ops\" or the \"Company\"), the ...  \n",
       "4  Burst Oral Care has received $20 million in fi...  "
      ]
     },
     "execution_count": 23,
     "metadata": {},
     "output_type": "execute_result"
    }
   ],
   "source": [
    "total_funding_data.head()"
   ]
  },
  {
   "cell_type": "code",
   "execution_count": 24,
   "metadata": {},
   "outputs": [
    {
     "data": {
      "text/plain": [
       "(49, 12)"
      ]
     },
     "execution_count": 24,
     "metadata": {},
     "output_type": "execute_result"
    }
   ],
   "source": [
    "total_funding_data.shape"
   ]
  },
  {
   "cell_type": "code",
   "execution_count": 25,
   "metadata": {},
   "outputs": [],
   "source": [
    "total_funding_data.to_csv('VC_News_Daily.csv')"
   ]
  },
  {
   "cell_type": "code",
   "execution_count": 26,
   "metadata": {},
   "outputs": [],
   "source": [
    "# [Only once]\n",
    "# Create excel file in order to upload into Microsoft SQL in order to upload dataset\n",
    "# total_funding_data.to_excel('VC_News_Daily.xlsx')"
   ]
  },
  {
   "cell_type": "code",
   "execution_count": 27,
   "metadata": {},
   "outputs": [],
   "source": [
    "# Sensitive information withheld\n",
    "driver_name = '{ODBC Driver 17 for SQL Server}'\n",
    "server_name = 'DESKTOP-OVRCKME'\n",
    "database_name = 'Test'\n",
    "trusted_connection = 'yes'"
   ]
  },
  {
   "cell_type": "code",
   "execution_count": 28,
   "metadata": {},
   "outputs": [],
   "source": [
    "# Connect to SQL Server\n",
    "conn = pyodbc.connect(Driver=driver_name,\n",
    "                      Server=server_name,\n",
    "                      Database=database_name,\n",
    "                      Trusted_Connection=trusted_connection)\n",
    "cursor = conn.cursor()"
   ]
  },
  {
   "cell_type": "code",
   "execution_count": 29,
   "metadata": {},
   "outputs": [
    {
     "data": {
      "text/html": [
       "<div>\n",
       "<style scoped>\n",
       "    .dataframe tbody tr th:only-of-type {\n",
       "        vertical-align: middle;\n",
       "    }\n",
       "\n",
       "    .dataframe tbody tr th {\n",
       "        vertical-align: top;\n",
       "    }\n",
       "\n",
       "    .dataframe thead th {\n",
       "        text-align: right;\n",
       "    }\n",
       "</style>\n",
       "<table border=\"1\" class=\"dataframe\">\n",
       "  <thead>\n",
       "    <tr style=\"text-align: right;\">\n",
       "      <th></th>\n",
       "      <th>index</th>\n",
       "      <th>Company</th>\n",
       "      <th>Company Description</th>\n",
       "      <th>Latest Funding Round</th>\n",
       "      <th>Latest Funding Amount</th>\n",
       "      <th>Funding Date</th>\n",
       "      <th>Funding Title</th>\n",
       "      <th>Website Article Link</th>\n",
       "      <th>Funding Headline</th>\n",
       "      <th>City</th>\n",
       "      <th>State</th>\n",
       "      <th>Website Company Link</th>\n",
       "      <th>Funding Article</th>\n",
       "    </tr>\n",
       "  </thead>\n",
       "  <tbody>\n",
       "    <tr>\n",
       "      <th>0</th>\n",
       "      <td>0</td>\n",
       "      <td>Jellyfish</td>\n",
       "      <td>Jellyfish is the leading Engineering Managemen...</td>\n",
       "      <td>Series A</td>\n",
       "      <td>$12,000,000</td>\n",
       "      <td>08 May 2020</td>\n",
       "      <td>Jellyfish Announces $12M Series A Funding</td>\n",
       "      <td>https://vcnewsdaily.com/jellyfish/venture-capi...</td>\n",
       "      <td>BOSTON, MA, Jellyfish has raised over $12 mill...</td>\n",
       "      <td>Boston</td>\n",
       "      <td>MA</td>\n",
       "      <td>https://vcnewsdaily.com/Jellyfish/venture-fund...</td>\n",
       "      <td>Jellyfish, the pioneer Engineering Management ...</td>\n",
       "    </tr>\n",
       "    <tr>\n",
       "      <th>1</th>\n",
       "      <td>4</td>\n",
       "      <td>Burst Oral Care</td>\n",
       "      <td>BURST has one simple aim: to make sonic oral c...</td>\n",
       "      <td>Series C</td>\n",
       "      <td>$20,000,000</td>\n",
       "      <td>07 May 2020</td>\n",
       "      <td>Burst Oral Care Grabs $20M in Funding</td>\n",
       "      <td>https://vcnewsdaily.com/burst-oral-care/ventur...</td>\n",
       "      <td>WALNUT, CA, Burst Oral Care has received $20 m...</td>\n",
       "      <td>Walnut</td>\n",
       "      <td>CA</td>\n",
       "      <td>https://vcnewsdaily.com/Burst%20Oral%20Care/ve...</td>\n",
       "      <td>Burst Oral Care has received $20 million in fi...</td>\n",
       "    </tr>\n",
       "    <tr>\n",
       "      <th>2</th>\n",
       "      <td>11</td>\n",
       "      <td>Every Mother</td>\n",
       "      <td>Every Mother is designed for women at all stag...</td>\n",
       "      <td>Seed</td>\n",
       "      <td>$1,500,000</td>\n",
       "      <td>07 May 2020</td>\n",
       "      <td>Every Mother Collects $1.5M Seed Round</td>\n",
       "      <td>https://vcnewsdaily.com/every-mother/venture-c...</td>\n",
       "      <td>BROOKLYN, NY, Every Mother has raised a $1.5 m...</td>\n",
       "      <td>Brooklyn</td>\n",
       "      <td>NY</td>\n",
       "      <td>https://vcnewsdaily.com/Every%20Mother/venture...</td>\n",
       "      <td>According to TC, Every Mother has raised a $1....</td>\n",
       "    </tr>\n",
       "    <tr>\n",
       "      <th>3</th>\n",
       "      <td>1</td>\n",
       "      <td>Finite State</td>\n",
       "      <td>The mission of Finite State is to protect the ...</td>\n",
       "      <td>Series A</td>\n",
       "      <td>$12,500,000</td>\n",
       "      <td>08 May 2020</td>\n",
       "      <td>Finite State Snares $12.5M in Series A</td>\n",
       "      <td>https://vcnewsdaily.com/finite-state/venture-c...</td>\n",
       "      <td>COLUMBUS, OH, Finite State has raised $12.5 Mi...</td>\n",
       "      <td>Columbus</td>\n",
       "      <td>OH</td>\n",
       "      <td>https://vcnewsdaily.com/Finite%20State/venture...</td>\n",
       "      <td>Finite State, experts in supply chain security...</td>\n",
       "    </tr>\n",
       "    <tr>\n",
       "      <th>4</th>\n",
       "      <td>2</td>\n",
       "      <td>Limbix</td>\n",
       "      <td>Limbix is a prescription digital therapeutic c...</td>\n",
       "      <td>Series A</td>\n",
       "      <td>$9,000,000</td>\n",
       "      <td>08 May 2020</td>\n",
       "      <td>Limbix Lands $9M Series A</td>\n",
       "      <td>https://vcnewsdaily.com/limbix/venture-capital...</td>\n",
       "      <td>PALO ALTO, CA, Limbix has successfully raised ...</td>\n",
       "      <td>Palo Alto</td>\n",
       "      <td>CA</td>\n",
       "      <td>https://vcnewsdaily.com/Limbix/venture-funding...</td>\n",
       "      <td>Limbix, the leader in digital therapeutics for...</td>\n",
       "    </tr>\n",
       "  </tbody>\n",
       "</table>\n",
       "</div>"
      ],
      "text/plain": [
       "   index          Company                                Company Description  \\\n",
       "0      0        Jellyfish  Jellyfish is the leading Engineering Managemen...   \n",
       "1      4  Burst Oral Care  BURST has one simple aim: to make sonic oral c...   \n",
       "2     11     Every Mother  Every Mother is designed for women at all stag...   \n",
       "3      1     Finite State  The mission of Finite State is to protect the ...   \n",
       "4      2           Limbix  Limbix is a prescription digital therapeutic c...   \n",
       "\n",
       "  Latest Funding Round Latest Funding Amount Funding Date  \\\n",
       "0             Series A           $12,000,000  08 May 2020   \n",
       "1             Series C           $20,000,000  07 May 2020   \n",
       "2                 Seed            $1,500,000  07 May 2020   \n",
       "3             Series A           $12,500,000  08 May 2020   \n",
       "4             Series A            $9,000,000  08 May 2020   \n",
       "\n",
       "                               Funding Title  \\\n",
       "0  Jellyfish Announces $12M Series A Funding   \n",
       "1      Burst Oral Care Grabs $20M in Funding   \n",
       "2     Every Mother Collects $1.5M Seed Round   \n",
       "3     Finite State Snares $12.5M in Series A   \n",
       "4                  Limbix Lands $9M Series A   \n",
       "\n",
       "                                Website Article Link  \\\n",
       "0  https://vcnewsdaily.com/jellyfish/venture-capi...   \n",
       "1  https://vcnewsdaily.com/burst-oral-care/ventur...   \n",
       "2  https://vcnewsdaily.com/every-mother/venture-c...   \n",
       "3  https://vcnewsdaily.com/finite-state/venture-c...   \n",
       "4  https://vcnewsdaily.com/limbix/venture-capital...   \n",
       "\n",
       "                                    Funding Headline       City State  \\\n",
       "0  BOSTON, MA, Jellyfish has raised over $12 mill...     Boston    MA   \n",
       "1  WALNUT, CA, Burst Oral Care has received $20 m...     Walnut    CA   \n",
       "2  BROOKLYN, NY, Every Mother has raised a $1.5 m...   Brooklyn    NY   \n",
       "3  COLUMBUS, OH, Finite State has raised $12.5 Mi...   Columbus    OH   \n",
       "4  PALO ALTO, CA, Limbix has successfully raised ...  Palo Alto    CA   \n",
       "\n",
       "                                Website Company Link  \\\n",
       "0  https://vcnewsdaily.com/Jellyfish/venture-fund...   \n",
       "1  https://vcnewsdaily.com/Burst%20Oral%20Care/ve...   \n",
       "2  https://vcnewsdaily.com/Every%20Mother/venture...   \n",
       "3  https://vcnewsdaily.com/Finite%20State/venture...   \n",
       "4  https://vcnewsdaily.com/Limbix/venture-funding...   \n",
       "\n",
       "                                     Funding Article  \n",
       "0  Jellyfish, the pioneer Engineering Management ...  \n",
       "1  Burst Oral Care has received $20 million in fi...  \n",
       "2  According to TC, Every Mother has raised a $1....  \n",
       "3  Finite State, experts in supply chain security...  \n",
       "4  Limbix, the leader in digital therapeutics for...  "
      ]
     },
     "execution_count": 29,
     "metadata": {},
     "output_type": "execute_result"
    }
   ],
   "source": [
    "# Before adding new information - SQL Table as is, without the reordering\n",
    "sql_raw_total_funding_data = pd.read_sql('SELECT * FROM VC_News_Daily',conn)\n",
    "sql_raw_total_funding_data.head()"
   ]
  },
  {
   "cell_type": "code",
   "execution_count": 30,
   "metadata": {},
   "outputs": [],
   "source": [
    "# Sensitive information withheld\n",
    "engine = sqlalchemy.create_engine('mssql+pyodbc://@DESKTOP-OVRCKME/Test?trusted_connection=yes&driver=ODBC+Driver+17+for+SQL+Server')"
   ]
  },
  {
   "cell_type": "code",
   "execution_count": 31,
   "metadata": {},
   "outputs": [],
   "source": [
    "total_funding_data.to_sql('VC_News_Daily',con=engine,if_exists='replace',index=True)"
   ]
  },
  {
   "cell_type": "code",
   "execution_count": 32,
   "metadata": {},
   "outputs": [
    {
     "data": {
      "text/html": [
       "<div>\n",
       "<style scoped>\n",
       "    .dataframe tbody tr th:only-of-type {\n",
       "        vertical-align: middle;\n",
       "    }\n",
       "\n",
       "    .dataframe tbody tr th {\n",
       "        vertical-align: top;\n",
       "    }\n",
       "\n",
       "    .dataframe thead th {\n",
       "        text-align: right;\n",
       "    }\n",
       "</style>\n",
       "<table border=\"1\" class=\"dataframe\">\n",
       "  <thead>\n",
       "    <tr style=\"text-align: right;\">\n",
       "      <th></th>\n",
       "      <th>Company</th>\n",
       "      <th>Company Description</th>\n",
       "      <th>Latest Funding Round</th>\n",
       "      <th>Latest Funding Amount</th>\n",
       "      <th>Funding Date</th>\n",
       "      <th>Funding Title</th>\n",
       "      <th>Website Article Link</th>\n",
       "      <th>Funding Headline</th>\n",
       "      <th>City</th>\n",
       "      <th>State</th>\n",
       "      <th>Website Company Link</th>\n",
       "      <th>Funding Article</th>\n",
       "    </tr>\n",
       "  </thead>\n",
       "  <tbody>\n",
       "    <tr>\n",
       "      <th>0</th>\n",
       "      <td>Jellyfish</td>\n",
       "      <td>Jellyfish is the leading Engineering Managemen...</td>\n",
       "      <td>Series A</td>\n",
       "      <td>$12,000,000</td>\n",
       "      <td>08 May 2020</td>\n",
       "      <td>Jellyfish Announces $12M Series A Funding</td>\n",
       "      <td>https://vcnewsdaily.com/jellyfish/venture-capi...</td>\n",
       "      <td>BOSTON, MA, Jellyfish has raised over $12 mill...</td>\n",
       "      <td>Boston</td>\n",
       "      <td>MA</td>\n",
       "      <td>https://vcnewsdaily.com/Jellyfish/venture-fund...</td>\n",
       "      <td>Jellyfish, the pioneer Engineering Management ...</td>\n",
       "    </tr>\n",
       "    <tr>\n",
       "      <th>1</th>\n",
       "      <td>Finite State</td>\n",
       "      <td>The mission of Finite State is to protect the ...</td>\n",
       "      <td>Series A</td>\n",
       "      <td>$12,500,000</td>\n",
       "      <td>08 May 2020</td>\n",
       "      <td>Finite State Snares $12.5M in Series A</td>\n",
       "      <td>https://vcnewsdaily.com/finite-state/venture-c...</td>\n",
       "      <td>COLUMBUS, OH, Finite State has raised $12.5 Mi...</td>\n",
       "      <td>Columbus</td>\n",
       "      <td>OH</td>\n",
       "      <td>https://vcnewsdaily.com/Finite%20State/venture...</td>\n",
       "      <td>Finite State, experts in supply chain security...</td>\n",
       "    </tr>\n",
       "    <tr>\n",
       "      <th>2</th>\n",
       "      <td>Limbix</td>\n",
       "      <td>Limbix is a prescription digital therapeutic c...</td>\n",
       "      <td>Series A</td>\n",
       "      <td>$9,000,000</td>\n",
       "      <td>08 May 2020</td>\n",
       "      <td>Limbix Lands $9M Series A</td>\n",
       "      <td>https://vcnewsdaily.com/limbix/venture-capital...</td>\n",
       "      <td>PALO ALTO, CA, Limbix has successfully raised ...</td>\n",
       "      <td>Palo Alto</td>\n",
       "      <td>CA</td>\n",
       "      <td>https://vcnewsdaily.com/Limbix/venture-funding...</td>\n",
       "      <td>Limbix, the leader in digital therapeutics for...</td>\n",
       "    </tr>\n",
       "    <tr>\n",
       "      <th>3</th>\n",
       "      <td>White Ops</td>\n",
       "      <td>White Ops is a pioneer in the detection of and...</td>\n",
       "      <td>None</td>\n",
       "      <td>undisclosed</td>\n",
       "      <td>08 May 2020</td>\n",
       "      <td>White Ops Receives Investment</td>\n",
       "      <td>https://vcnewsdaily.com/white-ops/venture-capi...</td>\n",
       "      <td>NEW YORK, NY, White Ops today announced the co...</td>\n",
       "      <td>New York</td>\n",
       "      <td>NY</td>\n",
       "      <td>https://vcnewsdaily.com/White%20Ops/venture-fu...</td>\n",
       "      <td>White Ops (\"White Ops\" or the \"Company\"), the ...</td>\n",
       "    </tr>\n",
       "    <tr>\n",
       "      <th>4</th>\n",
       "      <td>Burst Oral Care</td>\n",
       "      <td>BURST has one simple aim: to make sonic oral c...</td>\n",
       "      <td>Series C</td>\n",
       "      <td>$20,000,000</td>\n",
       "      <td>07 May 2020</td>\n",
       "      <td>Burst Oral Care Grabs $20M in Funding</td>\n",
       "      <td>https://vcnewsdaily.com/burst-oral-care/ventur...</td>\n",
       "      <td>WALNUT, CA, Burst Oral Care has received $20 m...</td>\n",
       "      <td>Walnut</td>\n",
       "      <td>CA</td>\n",
       "      <td>https://vcnewsdaily.com/Burst%20Oral%20Care/ve...</td>\n",
       "      <td>Burst Oral Care has received $20 million in fi...</td>\n",
       "    </tr>\n",
       "  </tbody>\n",
       "</table>\n",
       "</div>"
      ],
      "text/plain": [
       "           Company                                Company Description  \\\n",
       "0        Jellyfish  Jellyfish is the leading Engineering Managemen...   \n",
       "1     Finite State  The mission of Finite State is to protect the ...   \n",
       "2           Limbix  Limbix is a prescription digital therapeutic c...   \n",
       "3        White Ops  White Ops is a pioneer in the detection of and...   \n",
       "4  Burst Oral Care  BURST has one simple aim: to make sonic oral c...   \n",
       "\n",
       "  Latest Funding Round Latest Funding Amount Funding Date  \\\n",
       "0             Series A           $12,000,000  08 May 2020   \n",
       "1             Series A           $12,500,000  08 May 2020   \n",
       "2             Series A            $9,000,000  08 May 2020   \n",
       "3                 None           undisclosed  08 May 2020   \n",
       "4             Series C           $20,000,000  07 May 2020   \n",
       "\n",
       "                               Funding Title  \\\n",
       "0  Jellyfish Announces $12M Series A Funding   \n",
       "1     Finite State Snares $12.5M in Series A   \n",
       "2                  Limbix Lands $9M Series A   \n",
       "3              White Ops Receives Investment   \n",
       "4      Burst Oral Care Grabs $20M in Funding   \n",
       "\n",
       "                                Website Article Link  \\\n",
       "0  https://vcnewsdaily.com/jellyfish/venture-capi...   \n",
       "1  https://vcnewsdaily.com/finite-state/venture-c...   \n",
       "2  https://vcnewsdaily.com/limbix/venture-capital...   \n",
       "3  https://vcnewsdaily.com/white-ops/venture-capi...   \n",
       "4  https://vcnewsdaily.com/burst-oral-care/ventur...   \n",
       "\n",
       "                                    Funding Headline       City State  \\\n",
       "0  BOSTON, MA, Jellyfish has raised over $12 mill...     Boston    MA   \n",
       "1  COLUMBUS, OH, Finite State has raised $12.5 Mi...   Columbus    OH   \n",
       "2  PALO ALTO, CA, Limbix has successfully raised ...  Palo Alto    CA   \n",
       "3  NEW YORK, NY, White Ops today announced the co...   New York    NY   \n",
       "4  WALNUT, CA, Burst Oral Care has received $20 m...     Walnut    CA   \n",
       "\n",
       "                                Website Company Link  \\\n",
       "0  https://vcnewsdaily.com/Jellyfish/venture-fund...   \n",
       "1  https://vcnewsdaily.com/Finite%20State/venture...   \n",
       "2  https://vcnewsdaily.com/Limbix/venture-funding...   \n",
       "3  https://vcnewsdaily.com/White%20Ops/venture-fu...   \n",
       "4  https://vcnewsdaily.com/Burst%20Oral%20Care/ve...   \n",
       "\n",
       "                                     Funding Article  \n",
       "0  Jellyfish, the pioneer Engineering Management ...  \n",
       "1  Finite State, experts in supply chain security...  \n",
       "2  Limbix, the leader in digital therapeutics for...  \n",
       "3  White Ops (\"White Ops\" or the \"Company\"), the ...  \n",
       "4  Burst Oral Care has received $20 million in fi...  "
      ]
     },
     "execution_count": 32,
     "metadata": {},
     "output_type": "execute_result"
    }
   ],
   "source": [
    "sql_total_funding_data = pd.read_sql('SELECT * FROM VC_News_Daily',conn).sort_values('index').reset_index().drop(columns=['level_0','index'])\n",
    "sql_total_funding_data.head()"
   ]
  },
  {
   "cell_type": "code",
   "execution_count": 33,
   "metadata": {},
   "outputs": [
    {
     "data": {
      "text/plain": [
       "(49, 12)"
      ]
     },
     "execution_count": 33,
     "metadata": {},
     "output_type": "execute_result"
    }
   ],
   "source": [
    "sql_total_funding_data.shape"
   ]
  },
  {
   "cell_type": "code",
   "execution_count": null,
   "metadata": {},
   "outputs": [],
   "source": []
  }
 ],
 "metadata": {
  "kernelspec": {
   "display_name": "Python 3",
   "language": "python",
   "name": "python3"
  },
  "language_info": {
   "codemirror_mode": {
    "name": "ipython",
    "version": 3
   },
   "file_extension": ".py",
   "mimetype": "text/x-python",
   "name": "python",
   "nbconvert_exporter": "python",
   "pygments_lexer": "ipython3",
   "version": "3.8.2"
  }
 },
 "nbformat": 4,
 "nbformat_minor": 4
}
