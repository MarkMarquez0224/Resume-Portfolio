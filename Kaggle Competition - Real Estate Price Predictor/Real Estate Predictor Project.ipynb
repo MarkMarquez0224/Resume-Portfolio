{
 "cells": [
  {
   "cell_type": "code",
   "execution_count": 1,
   "metadata": {},
   "outputs": [
    {
     "name": "stdout",
     "output_type": "stream",
     "text": [
      "Requirement already satisfied: xgboost in c:\\users\\marky\\anaconda3\\envs\\geo_env\\lib\\site-packages (1.0.2)\n",
      "Requirement already satisfied: numpy in c:\\users\\marky\\anaconda3\\envs\\geo_env\\lib\\site-packages (from xgboost) (1.18.1)\n",
      "Requirement already satisfied: scipy in c:\\users\\marky\\anaconda3\\envs\\geo_env\\lib\\site-packages (from xgboost) (1.3.2)\n",
      "Note: you may need to restart the kernel to use updated packages.\n"
     ]
    }
   ],
   "source": [
    "pip install xgboost"
   ]
  },
  {
   "cell_type": "code",
   "execution_count": 2,
   "metadata": {},
   "outputs": [
    {
     "name": "stdout",
     "output_type": "stream",
     "text": [
      "Requirement already satisfied: mlxtend in c:\\users\\marky\\anaconda3\\envs\\geo_env\\lib\\site-packages (0.17.2)\n",
      "Requirement already satisfied: joblib>=0.13.2 in c:\\users\\marky\\anaconda3\\envs\\geo_env\\lib\\site-packages (from mlxtend) (0.14.1)\n",
      "Requirement already satisfied: setuptools in c:\\users\\marky\\anaconda3\\envs\\geo_env\\lib\\site-packages (from mlxtend) (46.1.3.post20200325)\n",
      "Requirement already satisfied: pandas>=0.24.2 in c:\\users\\marky\\anaconda3\\envs\\geo_env\\lib\\site-packages (from mlxtend) (1.0.3)\n",
      "Requirement already satisfied: numpy>=1.16.2 in c:\\users\\marky\\anaconda3\\envs\\geo_env\\lib\\site-packages (from mlxtend) (1.18.1)\n",
      "Requirement already satisfied: scikit-learn>=0.20.3 in c:\\users\\marky\\anaconda3\\envs\\geo_env\\lib\\site-packages (from mlxtend) (0.22.2.post1)\n",
      "Requirement already satisfied: scipy>=1.2.1 in c:\\users\\marky\\anaconda3\\envs\\geo_env\\lib\\site-packages (from mlxtend) (1.3.2)\n",
      "Requirement already satisfied: matplotlib>=3.0.0 in c:\\users\\marky\\anaconda3\\envs\\geo_env\\lib\\site-packages (from mlxtend) (3.2.1)\n",
      "Requirement already satisfied: pytz>=2017.2 in c:\\users\\marky\\anaconda3\\envs\\geo_env\\lib\\site-packages (from pandas>=0.24.2->mlxtend) (2019.3)\n",
      "Requirement already satisfied: python-dateutil>=2.6.1 in c:\\users\\marky\\anaconda3\\envs\\geo_env\\lib\\site-packages (from pandas>=0.24.2->mlxtend) (2.8.1)\n",
      "Requirement already satisfied: kiwisolver>=1.0.1 in c:\\users\\marky\\anaconda3\\envs\\geo_env\\lib\\site-packages (from matplotlib>=3.0.0->mlxtend) (1.2.0)\n",
      "Requirement already satisfied: pyparsing!=2.0.4,!=2.1.2,!=2.1.6,>=2.0.1 in c:\\users\\marky\\anaconda3\\envs\\geo_env\\lib\\site-packages (from matplotlib>=3.0.0->mlxtend) (2.4.7)\n",
      "Requirement already satisfied: cycler>=0.10 in c:\\users\\marky\\anaconda3\\envs\\geo_env\\lib\\site-packages (from matplotlib>=3.0.0->mlxtend) (0.10.0)\n",
      "Requirement already satisfied: six>=1.5 in c:\\users\\marky\\anaconda3\\envs\\geo_env\\lib\\site-packages (from python-dateutil>=2.6.1->pandas>=0.24.2->mlxtend) (1.14.0)\n",
      "Note: you may need to restart the kernel to use updated packages.\n"
     ]
    }
   ],
   "source": [
    "pip install mlxtend"
   ]
  },
  {
   "cell_type": "code",
   "execution_count": 3,
   "metadata": {},
   "outputs": [
    {
     "name": "stdout",
     "output_type": "stream",
     "text": [
      "Requirement already satisfied: lightgbm in c:\\users\\marky\\anaconda3\\envs\\geo_env\\lib\\site-packages (2.3.1)\n",
      "Requirement already satisfied: numpy in c:\\users\\marky\\anaconda3\\envs\\geo_env\\lib\\site-packages (from lightgbm) (1.18.1)\n",
      "Requirement already satisfied: scikit-learn in c:\\users\\marky\\anaconda3\\envs\\geo_env\\lib\\site-packages (from lightgbm) (0.22.2.post1)\n",
      "Requirement already satisfied: scipy in c:\\users\\marky\\anaconda3\\envs\\geo_env\\lib\\site-packages (from lightgbm) (1.3.2)\n",
      "Requirement already satisfied: joblib>=0.11 in c:\\users\\marky\\anaconda3\\envs\\geo_env\\lib\\site-packages (from scikit-learn->lightgbm) (0.14.1)\n",
      "Note: you may need to restart the kernel to use updated packages.\n"
     ]
    }
   ],
   "source": [
    "pip install lightgbm"
   ]
  },
  {
   "cell_type": "code",
   "execution_count": 4,
   "metadata": {},
   "outputs": [],
   "source": [
    "from collections import Counter\n",
    "\n",
    "from itertools import chain\n",
    "\n",
    "import numpy as np\n",
    "\n",
    "import pandas as pd\n",
    "\n",
    "import matplotlib.pyplot as plt\n",
    "\n",
    "from scipy import stats\n",
    "from scipy.special import boxcox1p\n",
    "from scipy.stats import boxcox_normmax\n",
    "\n",
    "import seaborn as sns\n",
    "\n",
    "from sklearn import preprocessing\n",
    "from sklearn.linear_model import LinearRegression\n",
    "from sklearn.metrics import mean_squared_error\n",
    "from sklearn.metrics import r2_score\n",
    "from sklearn.model_selection import KFold, cross_val_score\n",
    "from sklearn.model_selection import train_test_split\n",
    "from sklearn.pipeline import make_pipeline\n",
    "from sklearn.preprocessing import PowerTransformer\n",
    "from sklearn.preprocessing import RobustScaler\n",
    "from sklearn.preprocessing import StandardScaler\n",
    "\n",
    "#Models\n",
    "from sklearn.ensemble import RandomForestRegressor, GradientBoostingRegressor, AdaBoostRegressor, BaggingRegressor\n",
    "from sklearn.kernel_ridge import KernelRidge\n",
    "from sklearn.linear_model import Ridge, RidgeCV\n",
    "from sklearn.linear_model import ElasticNet, ElasticNetCV\n",
    "from sklearn.svm import SVR\n",
    "from mlxtend.regressor import StackingCVRegressor\n",
    "import lightgbm as lgb\n",
    "from lightgbm import LGBMRegressor\n",
    "import xgboost\n",
    "from xgboost import XGBRegressor, plot_importance "
   ]
  },
  {
   "cell_type": "markdown",
   "metadata": {},
   "source": [
    "### EDA"
   ]
  },
  {
   "cell_type": "code",
   "execution_count": 5,
   "metadata": {},
   "outputs": [
    {
     "data": {
      "text/html": [
       "<div>\n",
       "<style scoped>\n",
       "    .dataframe tbody tr th:only-of-type {\n",
       "        vertical-align: middle;\n",
       "    }\n",
       "\n",
       "    .dataframe tbody tr th {\n",
       "        vertical-align: top;\n",
       "    }\n",
       "\n",
       "    .dataframe thead th {\n",
       "        text-align: right;\n",
       "    }\n",
       "</style>\n",
       "<table border=\"1\" class=\"dataframe\">\n",
       "  <thead>\n",
       "    <tr style=\"text-align: right;\">\n",
       "      <th></th>\n",
       "      <th>MSSubClass</th>\n",
       "      <th>MSZoning</th>\n",
       "      <th>LotFrontage</th>\n",
       "      <th>LotArea</th>\n",
       "      <th>Street</th>\n",
       "      <th>Alley</th>\n",
       "      <th>LotShape</th>\n",
       "      <th>LandContour</th>\n",
       "      <th>Utilities</th>\n",
       "      <th>LotConfig</th>\n",
       "      <th>...</th>\n",
       "      <th>PoolArea</th>\n",
       "      <th>PoolQC</th>\n",
       "      <th>Fence</th>\n",
       "      <th>MiscFeature</th>\n",
       "      <th>MiscVal</th>\n",
       "      <th>MoSold</th>\n",
       "      <th>YrSold</th>\n",
       "      <th>SaleType</th>\n",
       "      <th>SaleCondition</th>\n",
       "      <th>SalePrice</th>\n",
       "    </tr>\n",
       "  </thead>\n",
       "  <tbody>\n",
       "    <tr>\n",
       "      <th>0</th>\n",
       "      <td>60</td>\n",
       "      <td>RL</td>\n",
       "      <td>65.0</td>\n",
       "      <td>8450</td>\n",
       "      <td>Pave</td>\n",
       "      <td>NaN</td>\n",
       "      <td>Reg</td>\n",
       "      <td>Lvl</td>\n",
       "      <td>AllPub</td>\n",
       "      <td>Inside</td>\n",
       "      <td>...</td>\n",
       "      <td>0</td>\n",
       "      <td>NaN</td>\n",
       "      <td>NaN</td>\n",
       "      <td>NaN</td>\n",
       "      <td>0</td>\n",
       "      <td>2</td>\n",
       "      <td>2008</td>\n",
       "      <td>WD</td>\n",
       "      <td>Normal</td>\n",
       "      <td>208500</td>\n",
       "    </tr>\n",
       "    <tr>\n",
       "      <th>1</th>\n",
       "      <td>20</td>\n",
       "      <td>RL</td>\n",
       "      <td>80.0</td>\n",
       "      <td>9600</td>\n",
       "      <td>Pave</td>\n",
       "      <td>NaN</td>\n",
       "      <td>Reg</td>\n",
       "      <td>Lvl</td>\n",
       "      <td>AllPub</td>\n",
       "      <td>FR2</td>\n",
       "      <td>...</td>\n",
       "      <td>0</td>\n",
       "      <td>NaN</td>\n",
       "      <td>NaN</td>\n",
       "      <td>NaN</td>\n",
       "      <td>0</td>\n",
       "      <td>5</td>\n",
       "      <td>2007</td>\n",
       "      <td>WD</td>\n",
       "      <td>Normal</td>\n",
       "      <td>181500</td>\n",
       "    </tr>\n",
       "    <tr>\n",
       "      <th>2</th>\n",
       "      <td>60</td>\n",
       "      <td>RL</td>\n",
       "      <td>68.0</td>\n",
       "      <td>11250</td>\n",
       "      <td>Pave</td>\n",
       "      <td>NaN</td>\n",
       "      <td>IR1</td>\n",
       "      <td>Lvl</td>\n",
       "      <td>AllPub</td>\n",
       "      <td>Inside</td>\n",
       "      <td>...</td>\n",
       "      <td>0</td>\n",
       "      <td>NaN</td>\n",
       "      <td>NaN</td>\n",
       "      <td>NaN</td>\n",
       "      <td>0</td>\n",
       "      <td>9</td>\n",
       "      <td>2008</td>\n",
       "      <td>WD</td>\n",
       "      <td>Normal</td>\n",
       "      <td>223500</td>\n",
       "    </tr>\n",
       "    <tr>\n",
       "      <th>3</th>\n",
       "      <td>70</td>\n",
       "      <td>RL</td>\n",
       "      <td>60.0</td>\n",
       "      <td>9550</td>\n",
       "      <td>Pave</td>\n",
       "      <td>NaN</td>\n",
       "      <td>IR1</td>\n",
       "      <td>Lvl</td>\n",
       "      <td>AllPub</td>\n",
       "      <td>Corner</td>\n",
       "      <td>...</td>\n",
       "      <td>0</td>\n",
       "      <td>NaN</td>\n",
       "      <td>NaN</td>\n",
       "      <td>NaN</td>\n",
       "      <td>0</td>\n",
       "      <td>2</td>\n",
       "      <td>2006</td>\n",
       "      <td>WD</td>\n",
       "      <td>Abnorml</td>\n",
       "      <td>140000</td>\n",
       "    </tr>\n",
       "    <tr>\n",
       "      <th>4</th>\n",
       "      <td>60</td>\n",
       "      <td>RL</td>\n",
       "      <td>84.0</td>\n",
       "      <td>14260</td>\n",
       "      <td>Pave</td>\n",
       "      <td>NaN</td>\n",
       "      <td>IR1</td>\n",
       "      <td>Lvl</td>\n",
       "      <td>AllPub</td>\n",
       "      <td>FR2</td>\n",
       "      <td>...</td>\n",
       "      <td>0</td>\n",
       "      <td>NaN</td>\n",
       "      <td>NaN</td>\n",
       "      <td>NaN</td>\n",
       "      <td>0</td>\n",
       "      <td>12</td>\n",
       "      <td>2008</td>\n",
       "      <td>WD</td>\n",
       "      <td>Normal</td>\n",
       "      <td>250000</td>\n",
       "    </tr>\n",
       "  </tbody>\n",
       "</table>\n",
       "<p>5 rows × 80 columns</p>\n",
       "</div>"
      ],
      "text/plain": [
       "   MSSubClass MSZoning  LotFrontage  LotArea Street Alley LotShape  \\\n",
       "0          60       RL         65.0     8450   Pave   NaN      Reg   \n",
       "1          20       RL         80.0     9600   Pave   NaN      Reg   \n",
       "2          60       RL         68.0    11250   Pave   NaN      IR1   \n",
       "3          70       RL         60.0     9550   Pave   NaN      IR1   \n",
       "4          60       RL         84.0    14260   Pave   NaN      IR1   \n",
       "\n",
       "  LandContour Utilities LotConfig  ... PoolArea PoolQC Fence MiscFeature  \\\n",
       "0         Lvl    AllPub    Inside  ...        0    NaN   NaN         NaN   \n",
       "1         Lvl    AllPub       FR2  ...        0    NaN   NaN         NaN   \n",
       "2         Lvl    AllPub    Inside  ...        0    NaN   NaN         NaN   \n",
       "3         Lvl    AllPub    Corner  ...        0    NaN   NaN         NaN   \n",
       "4         Lvl    AllPub       FR2  ...        0    NaN   NaN         NaN   \n",
       "\n",
       "  MiscVal MoSold  YrSold  SaleType  SaleCondition  SalePrice  \n",
       "0       0      2    2008        WD         Normal     208500  \n",
       "1       0      5    2007        WD         Normal     181500  \n",
       "2       0      9    2008        WD         Normal     223500  \n",
       "3       0      2    2006        WD        Abnorml     140000  \n",
       "4       0     12    2008        WD         Normal     250000  \n",
       "\n",
       "[5 rows x 80 columns]"
      ]
     },
     "execution_count": 5,
     "metadata": {},
     "output_type": "execute_result"
    }
   ],
   "source": [
    "# Download data\n",
    "df_house_price_sample=pd.read_csv('house_price_sample_submission.csv')\n",
    "df_house_price_test=pd.read_csv('house_price_test.csv').drop(columns='Id')\n",
    "df_house_price_train=pd.read_csv('house_price_train.csv').drop(columns='Id')\n",
    "df_house_price_train.head()"
   ]
  },
  {
   "cell_type": "code",
   "execution_count": 6,
   "metadata": {},
   "outputs": [
    {
     "data": {
      "text/plain": [
       "(1460, 37)"
      ]
     },
     "execution_count": 6,
     "metadata": {},
     "output_type": "execute_result"
    }
   ],
   "source": [
    "# Explore numbers dataset\n",
    "df_house_price_train_numbers=df_house_price_train.select_dtypes(include=['number'])\n",
    "df_house_price_train_numbers.shape"
   ]
  },
  {
   "cell_type": "code",
   "execution_count": 7,
   "metadata": {},
   "outputs": [],
   "source": [
    "# Add subplots\n",
    "#for i in range(len(df_house_price_train_numbers.columns)):\n",
    "#    sns.regplot(y=df_house_price_train_numbers.columns[i],x='SalePrice',data=df_house_price_train_numbers)\n",
    "#    plt.show()\n",
    "#    plt.hist(df_house_price_train_numbers[df_house_price_train_numbers.columns[i]],orientation='horizontal')\n",
    "#    plt.show()"
   ]
  },
  {
   "cell_type": "code",
   "execution_count": 8,
   "metadata": {},
   "outputs": [
    {
     "data": {
      "image/png": "[encoded data removed]",
      "text/plain": [
       "<Figure size 1080x864 with 2 Axes>"
      ]
     },
     "metadata": {
      "needs_background": "light"
     },
     "output_type": "display_data"
    }
   ],
   "source": [
    "corr = df_house_price_train.corr()\n",
    "plt.subplots(figsize=(15,12))\n",
    "sns.heatmap(corr)\n",
    "plt.show()"
   ]
  },
  {
   "cell_type": "code",
   "execution_count": 9,
   "metadata": {},
   "outputs": [
    {
     "data": {
      "image/png": "[encoded data removed]",
      "text/plain": [
       "<Figure size 432x288 with 1 Axes>"
      ]
     },
     "metadata": {
      "needs_background": "light"
     },
     "output_type": "display_data"
    }
   ],
   "source": [
    "sns.distplot(df_house_price_train['SalePrice'])\n",
    "plt.show()"
   ]
  },
  {
   "cell_type": "markdown",
   "metadata": {},
   "source": [
    "### Data Cleaning"
   ]
  },
  {
   "cell_type": "code",
   "execution_count": 10,
   "metadata": {},
   "outputs": [
    {
     "data": {
      "text/plain": [
       "<matplotlib.axes._subplots.AxesSubplot at 0x192ee416910>"
      ]
     },
     "execution_count": 10,
     "metadata": {},
     "output_type": "execute_result"
    },
    {
     "data": {
      "image/png": "[encoded data removed]",
      "text/plain": [
       "<Figure size 432x288 with 1 Axes>"
      ]
     },
     "metadata": {
      "needs_background": "light"
     },
     "output_type": "display_data"
    }
   ],
   "source": [
    "df_house_price_train[\"SalePrice\"] = np.log1p(df_house_price_train[\"SalePrice\"])\n",
    "sns.distplot(df_house_price_train['SalePrice'])"
   ]
  },
  {
   "cell_type": "code",
   "execution_count": 11,
   "metadata": {},
   "outputs": [
    {
     "data": {
      "text/plain": [
       "(1460, 80)"
      ]
     },
     "execution_count": 11,
     "metadata": {},
     "output_type": "execute_result"
    }
   ],
   "source": [
    "df_house_price_train.shape"
   ]
  },
  {
   "cell_type": "code",
   "execution_count": 12,
   "metadata": {},
   "outputs": [],
   "source": [
    "# Remove outliers\n",
    "df_house_price_train.drop(df_house_price_train[(df_house_price_train['OverallQual']<5) & (df_house_price_train['SalePrice']>200000)].index, inplace=True)\n",
    "df_house_price_train.drop(df_house_price_train[(df_house_price_train['GrLivArea']>4500) & (df_house_price_train['SalePrice']<300000)].index, inplace=True)"
   ]
  },
  {
   "cell_type": "code",
   "execution_count": 13,
   "metadata": {},
   "outputs": [
    {
     "data": {
      "text/plain": [
       "(1458, 80)"
      ]
     },
     "execution_count": 13,
     "metadata": {},
     "output_type": "execute_result"
    }
   ],
   "source": [
    "df_house_price_train.shape"
   ]
  },
  {
   "cell_type": "code",
   "execution_count": 14,
   "metadata": {},
   "outputs": [],
   "source": [
    "# Split features and labels\n",
    "df_house_price_sale_price = df_house_price_train['SalePrice']\n",
    "df_house_price_train_features = df_house_price_train.drop(columns='SalePrice')\n",
    "df_house_price_test_features = df_house_price_test"
   ]
  },
  {
   "cell_type": "markdown",
   "metadata": {},
   "source": [
    "### Feature Engineering"
   ]
  },
  {
   "cell_type": "code",
   "execution_count": 15,
   "metadata": {},
   "outputs": [],
   "source": [
    "df_house_price_features = pd.concat([df_house_price_train_features,df_house_price_test_features],axis=0).reset_index(drop=True)\n",
    "df_house_price_features.reset_index(drop=True, inplace=True)"
   ]
  },
  {
   "cell_type": "code",
   "execution_count": 16,
   "metadata": {},
   "outputs": [
    {
     "data": {
      "image/png": "[encoded data removed]",
      "text/plain": [
       "<Figure size 432x288 with 1 Axes>"
      ]
     },
     "metadata": {
      "needs_background": "light"
     },
     "output_type": "display_data"
    }
   ],
   "source": [
    "# Bar chart of missing values\n",
    "df_house_price_train_objects_missing_data=df_house_price_features.isnull().sum().sort_values(ascending=False).head(15)\n",
    "sns.barplot(y=df_house_price_train_objects_missing_data.index,x=df_house_price_train_objects_missing_data)\n",
    "plt.show()"
   ]
  },
  {
   "cell_type": "code",
   "execution_count": 17,
   "metadata": {},
   "outputs": [],
   "source": [
    "# Correctly set Mo and Yr as strings for label encoding\n",
    "df_house_price_features['MoSold']=df_house_price_features['MoSold'].astype('str')\n",
    "df_house_price_features['YrSold']=df_house_price_features['YrSold'].astype('str')\n",
    "df_house_price_features['MSSubClass']=df_house_price_features['MSSubClass'].astype('str')\n",
    "# the data description states that NA refers to typical ('Typ') values\n",
    "df_house_price_features['Functional'] = df_house_price_features['Functional'].fillna('Typ')\n",
    "df_house_price_features['Electrical'] = df_house_price_features['Electrical'].fillna(\"SBrkr\")\n",
    "df_house_price_features['KitchenQual'] = df_house_price_features['KitchenQual'].fillna(\"TA\")\n",
    "df_house_price_features['Exterior1st'] = df_house_price_features['Exterior1st'].fillna(df_house_price_features['Exterior1st'].mode()[0])\n",
    "df_house_price_features['Exterior2nd'] = df_house_price_features['Exterior2nd'].fillna(df_house_price_features['Exterior2nd'].mode()[0])\n",
    "df_house_price_features['SaleType'] = df_house_price_features['SaleType'].fillna(df_house_price_features['SaleType'].mode()[0])\n",
    "df_house_price_features['MSZoning'] = df_house_price_features.groupby('MSSubClass')['MSZoning'].transform(lambda x: x.fillna(x.mode()[0]))\n",
    "# the data description stats that NA refers to \"No Pool\"\n",
    "df_house_price_features[\"PoolQC\"] = df_house_price_features[\"PoolQC\"].fillna(\"None\")\n",
    "df_house_price_features[['GarageYrBlt','GarageArea','GarageCars']]=df_house_price_features[['GarageYrBlt','GarageArea','GarageCars']].fillna(0)\n",
    "df_house_price_features[['GarageType', 'GarageFinish', 'GarageQual', 'GarageCond']]=df_house_price_features[['GarageType', 'GarageFinish', 'GarageQual', 'GarageCond']].fillna('None')\n",
    "df_house_price_features[['BsmtQual', 'BsmtCond', 'BsmtExposure', 'BsmtFinType1', 'BsmtFinType2']]=df_house_price_features[['BsmtQual', 'BsmtCond', 'BsmtExposure', 'BsmtFinType1', 'BsmtFinType2']].fillna('None')\n",
    "# Group the by neighborhoods, and fill in missing value by the median LotFrontage of the neighborhood\n",
    "df_house_price_features['LotFrontage'] = df_house_price_features.groupby('Neighborhood')['LotFrontage'].transform(lambda x: x.fillna(x.median()))\n",
    "df_house_price_features.update(df_house_price_features.select_dtypes('object').fillna('None'))\n",
    "df_house_price_features.update(df_house_price_features.select_dtypes('number').fillna(0))"
   ]
  },
  {
   "cell_type": "code",
   "execution_count": 18,
   "metadata": {},
   "outputs": [
    {
     "data": {
      "image/png": "[encoded data removed]",
      "text/plain": [
       "<Figure size 432x288 with 1 Axes>"
      ]
     },
     "metadata": {
      "needs_background": "light"
     },
     "output_type": "display_data"
    }
   ],
   "source": [
    "# Bar chart of missing values to verify everything has been filled in\n",
    "df_house_price_train_objects_missing_data=df_house_price_features.isnull().sum().sort_values(ascending=False).head(15)\n",
    "sns.barplot(y=df_house_price_train_objects_missing_data.index,x=df_house_price_train_objects_missing_data)\n",
    "plt.show()"
   ]
  },
  {
   "cell_type": "code",
   "execution_count": 19,
   "metadata": {},
   "outputs": [],
   "source": [
    "num_train = df_house_price_features.select_dtypes(include=[\"number\"])"
   ]
  },
  {
   "cell_type": "code",
   "execution_count": 20,
   "metadata": {},
   "outputs": [],
   "source": [
    "## Remove Outliers - Option 2 - From ~2900 to ~1600\n",
    "#num_train[num_train.apply(lambda x: np.abs(x - x.mean()) / x.std() < 3).all(axis=1)]\n",
    "## Still need to apply to dataframe"
   ]
  },
  {
   "cell_type": "code",
   "execution_count": 21,
   "metadata": {},
   "outputs": [
    {
     "data": {
      "text/html": [
       "<div>\n",
       "<style scoped>\n",
       "    .dataframe tbody tr th:only-of-type {\n",
       "        vertical-align: middle;\n",
       "    }\n",
       "\n",
       "    .dataframe tbody tr th {\n",
       "        vertical-align: top;\n",
       "    }\n",
       "\n",
       "    .dataframe thead th {\n",
       "        text-align: right;\n",
       "    }\n",
       "</style>\n",
       "<table border=\"1\" class=\"dataframe\">\n",
       "  <thead>\n",
       "    <tr style=\"text-align: right;\">\n",
       "      <th></th>\n",
       "      <th>0</th>\n",
       "    </tr>\n",
       "  </thead>\n",
       "  <tbody>\n",
       "    <tr>\n",
       "      <th>MiscVal</th>\n",
       "      <td>21.950962</td>\n",
       "    </tr>\n",
       "    <tr>\n",
       "      <th>PoolArea</th>\n",
       "      <td>17.697766</td>\n",
       "    </tr>\n",
       "    <tr>\n",
       "      <th>LotArea</th>\n",
       "      <td>13.116240</td>\n",
       "    </tr>\n",
       "    <tr>\n",
       "      <th>LowQualFinSF</th>\n",
       "      <td>12.090757</td>\n",
       "    </tr>\n",
       "    <tr>\n",
       "      <th>3SsnPorch</th>\n",
       "      <td>11.377932</td>\n",
       "    </tr>\n",
       "    <tr>\n",
       "      <th>KitchenAbvGr</th>\n",
       "      <td>4.302763</td>\n",
       "    </tr>\n",
       "    <tr>\n",
       "      <th>BsmtFinSF2</th>\n",
       "      <td>4.146636</td>\n",
       "    </tr>\n",
       "    <tr>\n",
       "      <th>EnclosedPorch</th>\n",
       "      <td>4.004404</td>\n",
       "    </tr>\n",
       "    <tr>\n",
       "      <th>ScreenPorch</th>\n",
       "      <td>3.947131</td>\n",
       "    </tr>\n",
       "    <tr>\n",
       "      <th>BsmtHalfBath</th>\n",
       "      <td>3.932018</td>\n",
       "    </tr>\n",
       "    <tr>\n",
       "      <th>MasVnrArea</th>\n",
       "      <td>2.623068</td>\n",
       "    </tr>\n",
       "    <tr>\n",
       "      <th>OpenPorchSF</th>\n",
       "      <td>2.530660</td>\n",
       "    </tr>\n",
       "    <tr>\n",
       "      <th>WoodDeckSF</th>\n",
       "      <td>1.845741</td>\n",
       "    </tr>\n",
       "    <tr>\n",
       "      <th>1stFlrSF</th>\n",
       "      <td>1.257933</td>\n",
       "    </tr>\n",
       "    <tr>\n",
       "      <th>LotFrontage</th>\n",
       "      <td>1.103606</td>\n",
       "    </tr>\n",
       "    <tr>\n",
       "      <th>GrLivArea</th>\n",
       "      <td>1.069300</td>\n",
       "    </tr>\n",
       "    <tr>\n",
       "      <th>BsmtFinSF1</th>\n",
       "      <td>0.981149</td>\n",
       "    </tr>\n",
       "    <tr>\n",
       "      <th>BsmtUnfSF</th>\n",
       "      <td>0.920161</td>\n",
       "    </tr>\n",
       "    <tr>\n",
       "      <th>2ndFlrSF</th>\n",
       "      <td>0.861999</td>\n",
       "    </tr>\n",
       "    <tr>\n",
       "      <th>TotRmsAbvGrd</th>\n",
       "      <td>0.749618</td>\n",
       "    </tr>\n",
       "    <tr>\n",
       "      <th>Fireplaces</th>\n",
       "      <td>0.725651</td>\n",
       "    </tr>\n",
       "    <tr>\n",
       "      <th>HalfBath</th>\n",
       "      <td>0.697024</td>\n",
       "    </tr>\n",
       "    <tr>\n",
       "      <th>TotalBsmtSF</th>\n",
       "      <td>0.672097</td>\n",
       "    </tr>\n",
       "    <tr>\n",
       "      <th>BsmtFullBath</th>\n",
       "      <td>0.622735</td>\n",
       "    </tr>\n",
       "    <tr>\n",
       "      <th>OverallCond</th>\n",
       "      <td>0.569607</td>\n",
       "    </tr>\n",
       "  </tbody>\n",
       "</table>\n",
       "</div>"
      ],
      "text/plain": [
       "                       0\n",
       "MiscVal        21.950962\n",
       "PoolArea       17.697766\n",
       "LotArea        13.116240\n",
       "LowQualFinSF   12.090757\n",
       "3SsnPorch      11.377932\n",
       "KitchenAbvGr    4.302763\n",
       "BsmtFinSF2      4.146636\n",
       "EnclosedPorch   4.004404\n",
       "ScreenPorch     3.947131\n",
       "BsmtHalfBath    3.932018\n",
       "MasVnrArea      2.623068\n",
       "OpenPorchSF     2.530660\n",
       "WoodDeckSF      1.845741\n",
       "1stFlrSF        1.257933\n",
       "LotFrontage     1.103606\n",
       "GrLivArea       1.069300\n",
       "BsmtFinSF1      0.981149\n",
       "BsmtUnfSF       0.920161\n",
       "2ndFlrSF        0.861999\n",
       "TotRmsAbvGrd    0.749618\n",
       "Fireplaces      0.725651\n",
       "HalfBath        0.697024\n",
       "TotalBsmtSF     0.672097\n",
       "BsmtFullBath    0.622735\n",
       "OverallCond     0.569607"
      ]
     },
     "execution_count": 21,
     "metadata": {},
     "output_type": "execute_result"
    }
   ],
   "source": [
    "# Fix skewed features\n",
    "house_price_skew = df_house_price_features[num_train.columns].skew().sort_values(ascending=False)\n",
    "house_price_high_skew = house_price_skew[house_price_skew > 0.5]\n",
    "pd.DataFrame(house_price_high_skew)"
   ]
  },
  {
   "cell_type": "code",
   "execution_count": 22,
   "metadata": {},
   "outputs": [
    {
     "data": {
      "image/png": "[encoded data removed]",
      "text/plain": [
       "<Figure size 576x504 with 1 Axes>"
      ]
     },
     "metadata": {
      "needs_background": "light"
     },
     "output_type": "display_data"
    }
   ],
   "source": [
    "# Create box plots for all numeric features\n",
    "f, ax = plt.subplots(figsize=(8, 7))\n",
    "ax.set_xscale(\"log\")\n",
    "sns.boxplot(data=df_house_price_features[num_train.columns] , orient=\"h\")\n",
    "plt.show()"
   ]
  },
  {
   "cell_type": "code",
   "execution_count": 23,
   "metadata": {},
   "outputs": [
    {
     "name": "stderr",
     "output_type": "stream",
     "text": [
      "C:\\Users\\marky\\anaconda3\\envs\\geo_env\\lib\\site-packages\\scipy\\stats\\stats.py:3399: PearsonRConstantInputWarning: An input array is constant; the correlation coefficent is not defined.\n",
      "  warnings.warn(PearsonRConstantInputWarning())\n",
      "C:\\Users\\marky\\anaconda3\\envs\\geo_env\\lib\\site-packages\\scipy\\stats\\stats.py:3429: PearsonRNearConstantInputWarning: An input array is nearly constant; the computed correlation coefficent may be inaccurate.\n",
      "  warnings.warn(PearsonRNearConstantInputWarning())\n"
     ]
    }
   ],
   "source": [
    "## BoxCox Transformation - Option 1\n",
    "df_house_price_boxcox = [boxcox1p(df_house_price_features[house_price_high_skew.index[i]],boxcox_normmax(df_house_price_features[house_price_high_skew.index[i]]+1)) for i in range(len(house_price_high_skew.index))]"
   ]
  },
  {
   "cell_type": "code",
   "execution_count": 24,
   "metadata": {},
   "outputs": [],
   "source": [
    "## BoxCox Transformation - Option 2\n",
    "#pt = PowerTransformer()\n",
    "#house_price_high_skew_transformed = pd.DataFrame(pt.fit_transform(df_house_price_features[house_price_high_skew.index]))\n",
    "#df_house_price_features[house_price_high_skew.index] = house_price_high_skew_transformed"
   ]
  },
  {
   "cell_type": "code",
   "execution_count": 25,
   "metadata": {},
   "outputs": [],
   "source": [
    "df_house_price_boxcox = pd.DataFrame(df_house_price_boxcox).transpose()"
   ]
  },
  {
   "cell_type": "code",
   "execution_count": 26,
   "metadata": {},
   "outputs": [],
   "source": [
    "df_house_price_features[house_price_high_skew.index] = df_house_price_boxcox"
   ]
  },
  {
   "cell_type": "code",
   "execution_count": 27,
   "metadata": {},
   "outputs": [
    {
     "data": {
      "image/png": "[encoded data removed]",
      "text/plain": [
       "<Figure size 576x504 with 1 Axes>"
      ]
     },
     "metadata": {
      "needs_background": "light"
     },
     "output_type": "display_data"
    }
   ],
   "source": [
    "f, ax = plt.subplots(figsize=(8, 7))\n",
    "ax.set_xscale(\"log\")\n",
    "sns.boxplot(data=df_house_price_features[house_price_high_skew.index] , orient=\"h\")\n",
    "plt.show()"
   ]
  },
  {
   "cell_type": "code",
   "execution_count": 28,
   "metadata": {},
   "outputs": [],
   "source": [
    "# Create Interesting Features\n",
    "df_house_price_features['BsmtFinType1_Unf'] = 1*(df_house_price_features['BsmtFinType1'] == 'Unf')\n",
    "df_house_price_features['HasWoodDeck'] = (df_house_price_features['WoodDeckSF'] == 0) * 1\n",
    "df_house_price_features['HasOpenPorch'] = (df_house_price_features['OpenPorchSF'] == 0) * 1\n",
    "df_house_price_features['HasEnclosedPorch'] = (df_house_price_features['EnclosedPorch'] == 0) * 1\n",
    "df_house_price_features['Has3SsnPorch'] = (df_house_price_features['3SsnPorch'] == 0) * 1\n",
    "df_house_price_features['HasScreenPorch'] = (df_house_price_features['ScreenPorch'] == 0) * 1\n",
    "df_house_price_features['YearsSinceRemodel'] = df_house_price_features['YrSold'].astype(int) - df_house_price_features['YearRemodAdd'].astype(int)\n",
    "df_house_price_features['Total_Home_Quality'] = df_house_price_features['OverallQual'] + df_house_price_features['OverallCond']\n",
    "df_house_price_features = df_house_price_features.drop(['Utilities', 'Street', 'PoolQC',], axis=1)\n",
    "df_house_price_features['TotalSF'] = df_house_price_features['TotalBsmtSF'] + df_house_price_features['1stFlrSF'] + df_house_price_features['2ndFlrSF']\n",
    "df_house_price_features['YrBltAndRemod'] = df_house_price_features['YearBuilt'] + df_house_price_features['YearRemodAdd']\n",
    "\n",
    "df_house_price_features['Total_sqr_footage'] = (df_house_price_features['BsmtFinSF1'] + df_house_price_features['BsmtFinSF2'] +\n",
    "                                 df_house_price_features['1stFlrSF'] + df_house_price_features['2ndFlrSF'])\n",
    "df_house_price_features['Total_Bathrooms'] = (df_house_price_features['FullBath'] + (0.5 * df_house_price_features['HalfBath']) +\n",
    "                               df_house_price_features['BsmtFullBath'] + (0.5 * df_house_price_features['BsmtHalfBath']))\n",
    "df_house_price_features['Total_porch_sf'] = (df_house_price_features['OpenPorchSF'] + df_house_price_features['3SsnPorch'] +\n",
    "                              df_house_price_features['EnclosedPorch'] + df_house_price_features['ScreenPorch'] +\n",
    "                              df_house_price_features['WoodDeckSF'])\n",
    "df_house_price_features['TotalBsmtSF'] = df_house_price_features['TotalBsmtSF'].apply(lambda x: np.exp(6) if x <= 0.0 else x)\n",
    "df_house_price_features['2ndFlrSF'] = df_house_price_features['2ndFlrSF'].apply(lambda x: np.exp(6.5) if x <= 0.0 else x)\n",
    "df_house_price_features['GarageArea'] = df_house_price_features['GarageArea'].apply(lambda x: np.exp(6) if x <= 0.0 else x)\n",
    "df_house_price_features['GarageCars'] = df_house_price_features['GarageCars'].apply(lambda x: 0 if x <= 0.0 else x)\n",
    "df_house_price_features['LotFrontage'] = df_house_price_features['LotFrontage'].apply(lambda x: np.exp(4.2) if x <= 0.0 else x)\n",
    "df_house_price_features['MasVnrArea'] = df_house_price_features['MasVnrArea'].apply(lambda x: np.exp(4) if x <= 0.0 else x)\n",
    "df_house_price_features['BsmtFinSF1'] = df_house_price_features['BsmtFinSF1'].apply(lambda x: np.exp(6.5) if x <= 0.0 else x)\n",
    "\n",
    "df_house_price_features['haspool'] = df_house_price_features['PoolArea'].apply(lambda x: 1 if x > 0 else 0)\n",
    "df_house_price_features['has2ndfloor'] = df_house_price_features['2ndFlrSF'].apply(lambda x: 1 if x > 0 else 0)\n",
    "df_house_price_features['hasgarage'] = df_house_price_features['GarageArea'].apply(lambda x: 1 if x > 0 else 0)\n",
    "df_house_price_features['hasbsmt'] = df_house_price_features['TotalBsmtSF'].apply(lambda x: 1 if x > 0 else 0)\n",
    "df_house_price_features['hasfireplace'] = df_house_price_features['Fireplaces'].apply(lambda x: 1 if x > 0 else 0)"
   ]
  },
  {
   "cell_type": "code",
   "execution_count": 29,
   "metadata": {},
   "outputs": [],
   "source": [
    "# Feature Transformations\n",
    "# log transformations to add to dataset\n",
    "df_house_price_log_features = ['LotFrontage','LotArea','MasVnrArea','BsmtFinSF1','BsmtFinSF2','BsmtUnfSF',\n",
    "                 'TotalBsmtSF','1stFlrSF','2ndFlrSF','LowQualFinSF','GrLivArea',\n",
    "                 'BsmtFullBath','BsmtHalfBath','FullBath','HalfBath','BedroomAbvGr','KitchenAbvGr',\n",
    "                 'TotRmsAbvGrd','Fireplaces','GarageCars','GarageArea','WoodDeckSF','OpenPorchSF',\n",
    "                 'EnclosedPorch','3SsnPorch','ScreenPorch','PoolArea','MiscVal','YearRemodAdd','TotalSF']"
   ]
  },
  {
   "cell_type": "code",
   "execution_count": 30,
   "metadata": {},
   "outputs": [
    {
     "data": {
      "text/html": [
       "<div>\n",
       "<style scoped>\n",
       "    .dataframe tbody tr th:only-of-type {\n",
       "        vertical-align: middle;\n",
       "    }\n",
       "\n",
       "    .dataframe tbody tr th {\n",
       "        vertical-align: top;\n",
       "    }\n",
       "\n",
       "    .dataframe thead th {\n",
       "        text-align: right;\n",
       "    }\n",
       "</style>\n",
       "<table border=\"1\" class=\"dataframe\">\n",
       "  <thead>\n",
       "    <tr style=\"text-align: right;\">\n",
       "      <th></th>\n",
       "      <th>LotFrontage_log</th>\n",
       "      <th>LotArea_log</th>\n",
       "      <th>MasVnrArea_log</th>\n",
       "      <th>BsmtFinSF1_log</th>\n",
       "      <th>BsmtFinSF2_log</th>\n",
       "      <th>BsmtUnfSF_log</th>\n",
       "      <th>TotalBsmtSF_log</th>\n",
       "      <th>1stFlrSF_log</th>\n",
       "      <th>2ndFlrSF_log</th>\n",
       "      <th>LowQualFinSF_log</th>\n",
       "      <th>...</th>\n",
       "      <th>GarageArea_log</th>\n",
       "      <th>WoodDeckSF_log</th>\n",
       "      <th>OpenPorchSF_log</th>\n",
       "      <th>EnclosedPorch_log</th>\n",
       "      <th>3SsnPorch_log</th>\n",
       "      <th>ScreenPorch_log</th>\n",
       "      <th>PoolArea_log</th>\n",
       "      <th>MiscVal_log</th>\n",
       "      <th>YearRemodAdd_log</th>\n",
       "      <th>TotalSF_log</th>\n",
       "    </tr>\n",
       "  </thead>\n",
       "  <tbody>\n",
       "    <tr>\n",
       "      <th>0</th>\n",
       "      <td>2.952541</td>\n",
       "      <td>2.952541</td>\n",
       "      <td>2.952541</td>\n",
       "      <td>2.952541</td>\n",
       "      <td>2.952541</td>\n",
       "      <td>2.952541</td>\n",
       "      <td>2.952541</td>\n",
       "      <td>2.952541</td>\n",
       "      <td>2.952541</td>\n",
       "      <td>2.952541</td>\n",
       "      <td>...</td>\n",
       "      <td>2.952541</td>\n",
       "      <td>2.952541</td>\n",
       "      <td>2.952541</td>\n",
       "      <td>2.952541</td>\n",
       "      <td>2.952541</td>\n",
       "      <td>2.952541</td>\n",
       "      <td>2.952541</td>\n",
       "      <td>2.952541</td>\n",
       "      <td>2.952541</td>\n",
       "      <td>2.952541</td>\n",
       "    </tr>\n",
       "    <tr>\n",
       "      <th>1</th>\n",
       "      <td>3.076557</td>\n",
       "      <td>3.076557</td>\n",
       "      <td>3.076557</td>\n",
       "      <td>3.076557</td>\n",
       "      <td>3.076557</td>\n",
       "      <td>3.076557</td>\n",
       "      <td>3.076557</td>\n",
       "      <td>3.076557</td>\n",
       "      <td>3.076557</td>\n",
       "      <td>3.076557</td>\n",
       "      <td>...</td>\n",
       "      <td>3.076557</td>\n",
       "      <td>3.076557</td>\n",
       "      <td>3.076557</td>\n",
       "      <td>3.076557</td>\n",
       "      <td>3.076557</td>\n",
       "      <td>3.076557</td>\n",
       "      <td>3.076557</td>\n",
       "      <td>3.076557</td>\n",
       "      <td>3.076557</td>\n",
       "      <td>3.076557</td>\n",
       "    </tr>\n",
       "    <tr>\n",
       "      <th>2</th>\n",
       "      <td>2.979504</td>\n",
       "      <td>2.979504</td>\n",
       "      <td>2.979504</td>\n",
       "      <td>2.979504</td>\n",
       "      <td>2.979504</td>\n",
       "      <td>2.979504</td>\n",
       "      <td>2.979504</td>\n",
       "      <td>2.979504</td>\n",
       "      <td>2.979504</td>\n",
       "      <td>2.979504</td>\n",
       "      <td>...</td>\n",
       "      <td>2.979504</td>\n",
       "      <td>2.979504</td>\n",
       "      <td>2.979504</td>\n",
       "      <td>2.979504</td>\n",
       "      <td>2.979504</td>\n",
       "      <td>2.979504</td>\n",
       "      <td>2.979504</td>\n",
       "      <td>2.979504</td>\n",
       "      <td>2.979504</td>\n",
       "      <td>2.979504</td>\n",
       "    </tr>\n",
       "    <tr>\n",
       "      <th>3</th>\n",
       "      <td>2.904694</td>\n",
       "      <td>2.904694</td>\n",
       "      <td>2.904694</td>\n",
       "      <td>2.904694</td>\n",
       "      <td>2.904694</td>\n",
       "      <td>2.904694</td>\n",
       "      <td>2.904694</td>\n",
       "      <td>2.904694</td>\n",
       "      <td>2.904694</td>\n",
       "      <td>2.904694</td>\n",
       "      <td>...</td>\n",
       "      <td>2.904694</td>\n",
       "      <td>2.904694</td>\n",
       "      <td>2.904694</td>\n",
       "      <td>2.904694</td>\n",
       "      <td>2.904694</td>\n",
       "      <td>2.904694</td>\n",
       "      <td>2.904694</td>\n",
       "      <td>2.904694</td>\n",
       "      <td>2.904694</td>\n",
       "      <td>2.904694</td>\n",
       "    </tr>\n",
       "    <tr>\n",
       "      <th>4</th>\n",
       "      <td>3.105675</td>\n",
       "      <td>3.105675</td>\n",
       "      <td>3.105675</td>\n",
       "      <td>3.105675</td>\n",
       "      <td>3.105675</td>\n",
       "      <td>3.105675</td>\n",
       "      <td>3.105675</td>\n",
       "      <td>3.105675</td>\n",
       "      <td>3.105675</td>\n",
       "      <td>3.105675</td>\n",
       "      <td>...</td>\n",
       "      <td>3.105675</td>\n",
       "      <td>3.105675</td>\n",
       "      <td>3.105675</td>\n",
       "      <td>3.105675</td>\n",
       "      <td>3.105675</td>\n",
       "      <td>3.105675</td>\n",
       "      <td>3.105675</td>\n",
       "      <td>3.105675</td>\n",
       "      <td>3.105675</td>\n",
       "      <td>3.105675</td>\n",
       "    </tr>\n",
       "  </tbody>\n",
       "</table>\n",
       "<p>5 rows × 30 columns</p>\n",
       "</div>"
      ],
      "text/plain": [
       "   LotFrontage_log  LotArea_log  MasVnrArea_log  BsmtFinSF1_log  \\\n",
       "0         2.952541     2.952541        2.952541        2.952541   \n",
       "1         3.076557     3.076557        3.076557        3.076557   \n",
       "2         2.979504     2.979504        2.979504        2.979504   \n",
       "3         2.904694     2.904694        2.904694        2.904694   \n",
       "4         3.105675     3.105675        3.105675        3.105675   \n",
       "\n",
       "   BsmtFinSF2_log  BsmtUnfSF_log  TotalBsmtSF_log  1stFlrSF_log  2ndFlrSF_log  \\\n",
       "0        2.952541       2.952541         2.952541      2.952541      2.952541   \n",
       "1        3.076557       3.076557         3.076557      3.076557      3.076557   \n",
       "2        2.979504       2.979504         2.979504      2.979504      2.979504   \n",
       "3        2.904694       2.904694         2.904694      2.904694      2.904694   \n",
       "4        3.105675       3.105675         3.105675      3.105675      3.105675   \n",
       "\n",
       "   LowQualFinSF_log  ...  GarageArea_log  WoodDeckSF_log  OpenPorchSF_log  \\\n",
       "0          2.952541  ...        2.952541        2.952541         2.952541   \n",
       "1          3.076557  ...        3.076557        3.076557         3.076557   \n",
       "2          2.979504  ...        2.979504        2.979504         2.979504   \n",
       "3          2.904694  ...        2.904694        2.904694         2.904694   \n",
       "4          3.105675  ...        3.105675        3.105675         3.105675   \n",
       "\n",
       "   EnclosedPorch_log  3SsnPorch_log  ScreenPorch_log  PoolArea_log  \\\n",
       "0           2.952541       2.952541         2.952541      2.952541   \n",
       "1           3.076557       3.076557         3.076557      3.076557   \n",
       "2           2.979504       2.979504         2.979504      2.979504   \n",
       "3           2.904694       2.904694         2.904694      2.904694   \n",
       "4           3.105675       3.105675         3.105675      3.105675   \n",
       "\n",
       "   MiscVal_log  YearRemodAdd_log  TotalSF_log  \n",
       "0     2.952541          2.952541     2.952541  \n",
       "1     3.076557          3.076557     3.076557  \n",
       "2     2.979504          2.979504     2.979504  \n",
       "3     2.904694          2.904694     2.904694  \n",
       "4     3.105675          3.105675     3.105675  \n",
       "\n",
       "[5 rows x 30 columns]"
      ]
     },
     "execution_count": 30,
     "metadata": {},
     "output_type": "execute_result"
    }
   ],
   "source": [
    "# Logirithmic transformation\n",
    "df_house_price_log = [list(chain.from_iterable(np.log([1.01 + df_house_price_features[df_house_price_log_features[0]]]))) for i in range(len(df_house_price_log_features))]\n",
    "df_house_price_log = pd.DataFrame(df_house_price_log).transpose()\n",
    "df_house_price_log.columns=(df_house_price_log_features)\n",
    "df_house_price_log = df_house_price_log.add_suffix('_log')\n",
    "df_house_price_log.head()"
   ]
  },
  {
   "cell_type": "code",
   "execution_count": 31,
   "metadata": {},
   "outputs": [
    {
     "data": {
      "text/html": [
       "<div>\n",
       "<style scoped>\n",
       "    .dataframe tbody tr th:only-of-type {\n",
       "        vertical-align: middle;\n",
       "    }\n",
       "\n",
       "    .dataframe tbody tr th {\n",
       "        vertical-align: top;\n",
       "    }\n",
       "\n",
       "    .dataframe thead th {\n",
       "        text-align: right;\n",
       "    }\n",
       "</style>\n",
       "<table border=\"1\" class=\"dataframe\">\n",
       "  <thead>\n",
       "    <tr style=\"text-align: right;\">\n",
       "      <th></th>\n",
       "      <th>MSSubClass</th>\n",
       "      <th>MSZoning</th>\n",
       "      <th>LotFrontage</th>\n",
       "      <th>LotArea</th>\n",
       "      <th>Alley</th>\n",
       "      <th>LotShape</th>\n",
       "      <th>LandContour</th>\n",
       "      <th>LotConfig</th>\n",
       "      <th>LandSlope</th>\n",
       "      <th>Neighborhood</th>\n",
       "      <th>...</th>\n",
       "      <th>GarageArea_log</th>\n",
       "      <th>WoodDeckSF_log</th>\n",
       "      <th>OpenPorchSF_log</th>\n",
       "      <th>EnclosedPorch_log</th>\n",
       "      <th>3SsnPorch_log</th>\n",
       "      <th>ScreenPorch_log</th>\n",
       "      <th>PoolArea_log</th>\n",
       "      <th>MiscVal_log</th>\n",
       "      <th>YearRemodAdd_log</th>\n",
       "      <th>TotalSF_log</th>\n",
       "    </tr>\n",
       "  </thead>\n",
       "  <tbody>\n",
       "    <tr>\n",
       "      <th>0</th>\n",
       "      <td>60</td>\n",
       "      <td>RL</td>\n",
       "      <td>18.144573</td>\n",
       "      <td>13.833053</td>\n",
       "      <td>None</td>\n",
       "      <td>Reg</td>\n",
       "      <td>Lvl</td>\n",
       "      <td>Inside</td>\n",
       "      <td>Gtl</td>\n",
       "      <td>CollgCr</td>\n",
       "      <td>...</td>\n",
       "      <td>2.952541</td>\n",
       "      <td>2.952541</td>\n",
       "      <td>2.952541</td>\n",
       "      <td>2.952541</td>\n",
       "      <td>2.952541</td>\n",
       "      <td>2.952541</td>\n",
       "      <td>2.952541</td>\n",
       "      <td>2.952541</td>\n",
       "      <td>2.952541</td>\n",
       "      <td>2.952541</td>\n",
       "    </tr>\n",
       "    <tr>\n",
       "      <th>1</th>\n",
       "      <td>20</td>\n",
       "      <td>RL</td>\n",
       "      <td>20.673625</td>\n",
       "      <td>14.117917</td>\n",
       "      <td>None</td>\n",
       "      <td>Reg</td>\n",
       "      <td>Lvl</td>\n",
       "      <td>FR2</td>\n",
       "      <td>Gtl</td>\n",
       "      <td>Veenker</td>\n",
       "      <td>...</td>\n",
       "      <td>3.076557</td>\n",
       "      <td>3.076557</td>\n",
       "      <td>3.076557</td>\n",
       "      <td>3.076557</td>\n",
       "      <td>3.076557</td>\n",
       "      <td>3.076557</td>\n",
       "      <td>3.076557</td>\n",
       "      <td>3.076557</td>\n",
       "      <td>3.076557</td>\n",
       "      <td>3.076557</td>\n",
       "    </tr>\n",
       "    <tr>\n",
       "      <th>2</th>\n",
       "      <td>60</td>\n",
       "      <td>RL</td>\n",
       "      <td>18.668046</td>\n",
       "      <td>14.476511</td>\n",
       "      <td>None</td>\n",
       "      <td>IR1</td>\n",
       "      <td>Lvl</td>\n",
       "      <td>Inside</td>\n",
       "      <td>Gtl</td>\n",
       "      <td>CollgCr</td>\n",
       "      <td>...</td>\n",
       "      <td>2.979504</td>\n",
       "      <td>2.979504</td>\n",
       "      <td>2.979504</td>\n",
       "      <td>2.979504</td>\n",
       "      <td>2.979504</td>\n",
       "      <td>2.979504</td>\n",
       "      <td>2.979504</td>\n",
       "      <td>2.979504</td>\n",
       "      <td>2.979504</td>\n",
       "      <td>2.979504</td>\n",
       "    </tr>\n",
       "    <tr>\n",
       "      <th>3</th>\n",
       "      <td>70</td>\n",
       "      <td>RL</td>\n",
       "      <td>17.249651</td>\n",
       "      <td>14.106195</td>\n",
       "      <td>None</td>\n",
       "      <td>IR1</td>\n",
       "      <td>Lvl</td>\n",
       "      <td>Corner</td>\n",
       "      <td>Gtl</td>\n",
       "      <td>Crawfor</td>\n",
       "      <td>...</td>\n",
       "      <td>2.904694</td>\n",
       "      <td>2.904694</td>\n",
       "      <td>2.904694</td>\n",
       "      <td>2.904694</td>\n",
       "      <td>2.904694</td>\n",
       "      <td>2.904694</td>\n",
       "      <td>2.904694</td>\n",
       "      <td>2.904694</td>\n",
       "      <td>2.904694</td>\n",
       "      <td>2.904694</td>\n",
       "    </tr>\n",
       "    <tr>\n",
       "      <th>4</th>\n",
       "      <td>60</td>\n",
       "      <td>RL</td>\n",
       "      <td>21.314282</td>\n",
       "      <td>15.022007</td>\n",
       "      <td>None</td>\n",
       "      <td>IR1</td>\n",
       "      <td>Lvl</td>\n",
       "      <td>FR2</td>\n",
       "      <td>Gtl</td>\n",
       "      <td>NoRidge</td>\n",
       "      <td>...</td>\n",
       "      <td>3.105675</td>\n",
       "      <td>3.105675</td>\n",
       "      <td>3.105675</td>\n",
       "      <td>3.105675</td>\n",
       "      <td>3.105675</td>\n",
       "      <td>3.105675</td>\n",
       "      <td>3.105675</td>\n",
       "      <td>3.105675</td>\n",
       "      <td>3.105675</td>\n",
       "      <td>3.105675</td>\n",
       "    </tr>\n",
       "  </tbody>\n",
       "</table>\n",
       "<p>5 rows × 124 columns</p>\n",
       "</div>"
      ],
      "text/plain": [
       "  MSSubClass MSZoning  LotFrontage    LotArea Alley LotShape LandContour  \\\n",
       "0         60       RL    18.144573  13.833053  None      Reg         Lvl   \n",
       "1         20       RL    20.673625  14.117917  None      Reg         Lvl   \n",
       "2         60       RL    18.668046  14.476511  None      IR1         Lvl   \n",
       "3         70       RL    17.249651  14.106195  None      IR1         Lvl   \n",
       "4         60       RL    21.314282  15.022007  None      IR1         Lvl   \n",
       "\n",
       "  LotConfig LandSlope Neighborhood  ... GarageArea_log WoodDeckSF_log  \\\n",
       "0    Inside       Gtl      CollgCr  ...       2.952541       2.952541   \n",
       "1       FR2       Gtl      Veenker  ...       3.076557       3.076557   \n",
       "2    Inside       Gtl      CollgCr  ...       2.979504       2.979504   \n",
       "3    Corner       Gtl      Crawfor  ...       2.904694       2.904694   \n",
       "4       FR2       Gtl      NoRidge  ...       3.105675       3.105675   \n",
       "\n",
       "  OpenPorchSF_log EnclosedPorch_log  3SsnPorch_log  ScreenPorch_log  \\\n",
       "0        2.952541          2.952541       2.952541         2.952541   \n",
       "1        3.076557          3.076557       3.076557         3.076557   \n",
       "2        2.979504          2.979504       2.979504         2.979504   \n",
       "3        2.904694          2.904694       2.904694         2.904694   \n",
       "4        3.105675          3.105675       3.105675         3.105675   \n",
       "\n",
       "   PoolArea_log  MiscVal_log YearRemodAdd_log TotalSF_log  \n",
       "0      2.952541     2.952541         2.952541    2.952541  \n",
       "1      3.076557     3.076557         3.076557    3.076557  \n",
       "2      2.979504     2.979504         2.979504    2.979504  \n",
       "3      2.904694     2.904694         2.904694    2.904694  \n",
       "4      3.105675     3.105675         3.105675    3.105675  \n",
       "\n",
       "[5 rows x 124 columns]"
      ]
     },
     "execution_count": 31,
     "metadata": {},
     "output_type": "execute_result"
    }
   ],
   "source": [
    "df_house_price_features = pd.concat([df_house_price_features,df_house_price_log],axis=1)\n",
    "df_house_price_features.head()"
   ]
  },
  {
   "cell_type": "code",
   "execution_count": 32,
   "metadata": {},
   "outputs": [],
   "source": [
    "# Square transformations to add to dataset\n",
    "df_house_price_squared_features = ['YearRemodAdd', 'LotFrontage_log', \n",
    "              'TotalBsmtSF_log', '1stFlrSF_log', '2ndFlrSF_log', 'GrLivArea_log',\n",
    "              'GarageCars_log', 'GarageArea_log']"
   ]
  },
  {
   "cell_type": "code",
   "execution_count": 33,
   "metadata": {},
   "outputs": [
    {
     "data": {
      "text/html": [
       "<div>\n",
       "<style scoped>\n",
       "    .dataframe tbody tr th:only-of-type {\n",
       "        vertical-align: middle;\n",
       "    }\n",
       "\n",
       "    .dataframe tbody tr th {\n",
       "        vertical-align: top;\n",
       "    }\n",
       "\n",
       "    .dataframe thead th {\n",
       "        text-align: right;\n",
       "    }\n",
       "</style>\n",
       "<table border=\"1\" class=\"dataframe\">\n",
       "  <thead>\n",
       "    <tr style=\"text-align: right;\">\n",
       "      <th></th>\n",
       "      <th>YearRemodAdd_sq</th>\n",
       "      <th>LotFrontage_log_sq</th>\n",
       "      <th>TotalBsmtSF_log_sq</th>\n",
       "      <th>1stFlrSF_log_sq</th>\n",
       "      <th>2ndFlrSF_log_sq</th>\n",
       "      <th>GrLivArea_log_sq</th>\n",
       "      <th>GarageCars_log_sq</th>\n",
       "      <th>GarageArea_log_sq</th>\n",
       "    </tr>\n",
       "  </thead>\n",
       "  <tbody>\n",
       "    <tr>\n",
       "      <th>0</th>\n",
       "      <td>4012009.0</td>\n",
       "      <td>8.717501</td>\n",
       "      <td>8.717501</td>\n",
       "      <td>8.717501</td>\n",
       "      <td>8.717501</td>\n",
       "      <td>8.717501</td>\n",
       "      <td>8.717501</td>\n",
       "      <td>8.717501</td>\n",
       "    </tr>\n",
       "    <tr>\n",
       "      <th>1</th>\n",
       "      <td>3904576.0</td>\n",
       "      <td>9.465205</td>\n",
       "      <td>9.465205</td>\n",
       "      <td>9.465205</td>\n",
       "      <td>9.465205</td>\n",
       "      <td>9.465205</td>\n",
       "      <td>9.465205</td>\n",
       "      <td>9.465205</td>\n",
       "    </tr>\n",
       "    <tr>\n",
       "      <th>2</th>\n",
       "      <td>4008004.0</td>\n",
       "      <td>8.877442</td>\n",
       "      <td>8.877442</td>\n",
       "      <td>8.877442</td>\n",
       "      <td>8.877442</td>\n",
       "      <td>8.877442</td>\n",
       "      <td>8.877442</td>\n",
       "      <td>8.877442</td>\n",
       "    </tr>\n",
       "    <tr>\n",
       "      <th>3</th>\n",
       "      <td>3880900.0</td>\n",
       "      <td>8.437246</td>\n",
       "      <td>8.437246</td>\n",
       "      <td>8.437246</td>\n",
       "      <td>8.437246</td>\n",
       "      <td>8.437246</td>\n",
       "      <td>8.437246</td>\n",
       "      <td>8.437246</td>\n",
       "    </tr>\n",
       "    <tr>\n",
       "      <th>4</th>\n",
       "      <td>4000000.0</td>\n",
       "      <td>9.645217</td>\n",
       "      <td>9.645217</td>\n",
       "      <td>9.645217</td>\n",
       "      <td>9.645217</td>\n",
       "      <td>9.645217</td>\n",
       "      <td>9.645217</td>\n",
       "      <td>9.645217</td>\n",
       "    </tr>\n",
       "  </tbody>\n",
       "</table>\n",
       "</div>"
      ],
      "text/plain": [
       "   YearRemodAdd_sq  LotFrontage_log_sq  TotalBsmtSF_log_sq  1stFlrSF_log_sq  \\\n",
       "0        4012009.0            8.717501            8.717501         8.717501   \n",
       "1        3904576.0            9.465205            9.465205         9.465205   \n",
       "2        4008004.0            8.877442            8.877442         8.877442   \n",
       "3        3880900.0            8.437246            8.437246         8.437246   \n",
       "4        4000000.0            9.645217            9.645217         9.645217   \n",
       "\n",
       "   2ndFlrSF_log_sq  GrLivArea_log_sq  GarageCars_log_sq  GarageArea_log_sq  \n",
       "0         8.717501          8.717501           8.717501           8.717501  \n",
       "1         9.465205          9.465205           9.465205           9.465205  \n",
       "2         8.877442          8.877442           8.877442           8.877442  \n",
       "3         8.437246          8.437246           8.437246           8.437246  \n",
       "4         9.645217          9.645217           9.645217           9.645217  "
      ]
     },
     "execution_count": 33,
     "metadata": {},
     "output_type": "execute_result"
    }
   ],
   "source": [
    "# Logirithmic transformation\n",
    "df_house_price_squared = [list((df_house_price_features[df_house_price_squared_features[i]])**2) for i in range(len(df_house_price_squared_features))]\n",
    "df_house_price_squared = pd.DataFrame(df_house_price_squared).transpose()\n",
    "df_house_price_squared.columns=(df_house_price_squared_features)\n",
    "df_house_price_squared = df_house_price_squared.add_suffix('_sq')\n",
    "df_house_price_squared.head()"
   ]
  },
  {
   "cell_type": "code",
   "execution_count": 34,
   "metadata": {},
   "outputs": [
    {
     "data": {
      "text/plain": [
       "(2917, 8)"
      ]
     },
     "execution_count": 34,
     "metadata": {},
     "output_type": "execute_result"
    }
   ],
   "source": [
    "df_house_price_squared.shape"
   ]
  },
  {
   "cell_type": "code",
   "execution_count": 35,
   "metadata": {},
   "outputs": [
    {
     "data": {
      "text/html": [
       "<div>\n",
       "<style scoped>\n",
       "    .dataframe tbody tr th:only-of-type {\n",
       "        vertical-align: middle;\n",
       "    }\n",
       "\n",
       "    .dataframe tbody tr th {\n",
       "        vertical-align: top;\n",
       "    }\n",
       "\n",
       "    .dataframe thead th {\n",
       "        text-align: right;\n",
       "    }\n",
       "</style>\n",
       "<table border=\"1\" class=\"dataframe\">\n",
       "  <thead>\n",
       "    <tr style=\"text-align: right;\">\n",
       "      <th></th>\n",
       "      <th>MSSubClass</th>\n",
       "      <th>MSZoning</th>\n",
       "      <th>LotFrontage</th>\n",
       "      <th>LotArea</th>\n",
       "      <th>Alley</th>\n",
       "      <th>LotShape</th>\n",
       "      <th>LandContour</th>\n",
       "      <th>LotConfig</th>\n",
       "      <th>LandSlope</th>\n",
       "      <th>Neighborhood</th>\n",
       "      <th>...</th>\n",
       "      <th>YearRemodAdd_log</th>\n",
       "      <th>TotalSF_log</th>\n",
       "      <th>YearRemodAdd_sq</th>\n",
       "      <th>LotFrontage_log_sq</th>\n",
       "      <th>TotalBsmtSF_log_sq</th>\n",
       "      <th>1stFlrSF_log_sq</th>\n",
       "      <th>2ndFlrSF_log_sq</th>\n",
       "      <th>GrLivArea_log_sq</th>\n",
       "      <th>GarageCars_log_sq</th>\n",
       "      <th>GarageArea_log_sq</th>\n",
       "    </tr>\n",
       "  </thead>\n",
       "  <tbody>\n",
       "    <tr>\n",
       "      <th>0</th>\n",
       "      <td>60</td>\n",
       "      <td>RL</td>\n",
       "      <td>18.144573</td>\n",
       "      <td>13.833053</td>\n",
       "      <td>None</td>\n",
       "      <td>Reg</td>\n",
       "      <td>Lvl</td>\n",
       "      <td>Inside</td>\n",
       "      <td>Gtl</td>\n",
       "      <td>CollgCr</td>\n",
       "      <td>...</td>\n",
       "      <td>2.952541</td>\n",
       "      <td>2.952541</td>\n",
       "      <td>4012009.0</td>\n",
       "      <td>8.717501</td>\n",
       "      <td>8.717501</td>\n",
       "      <td>8.717501</td>\n",
       "      <td>8.717501</td>\n",
       "      <td>8.717501</td>\n",
       "      <td>8.717501</td>\n",
       "      <td>8.717501</td>\n",
       "    </tr>\n",
       "    <tr>\n",
       "      <th>1</th>\n",
       "      <td>20</td>\n",
       "      <td>RL</td>\n",
       "      <td>20.673625</td>\n",
       "      <td>14.117917</td>\n",
       "      <td>None</td>\n",
       "      <td>Reg</td>\n",
       "      <td>Lvl</td>\n",
       "      <td>FR2</td>\n",
       "      <td>Gtl</td>\n",
       "      <td>Veenker</td>\n",
       "      <td>...</td>\n",
       "      <td>3.076557</td>\n",
       "      <td>3.076557</td>\n",
       "      <td>3904576.0</td>\n",
       "      <td>9.465205</td>\n",
       "      <td>9.465205</td>\n",
       "      <td>9.465205</td>\n",
       "      <td>9.465205</td>\n",
       "      <td>9.465205</td>\n",
       "      <td>9.465205</td>\n",
       "      <td>9.465205</td>\n",
       "    </tr>\n",
       "    <tr>\n",
       "      <th>2</th>\n",
       "      <td>60</td>\n",
       "      <td>RL</td>\n",
       "      <td>18.668046</td>\n",
       "      <td>14.476511</td>\n",
       "      <td>None</td>\n",
       "      <td>IR1</td>\n",
       "      <td>Lvl</td>\n",
       "      <td>Inside</td>\n",
       "      <td>Gtl</td>\n",
       "      <td>CollgCr</td>\n",
       "      <td>...</td>\n",
       "      <td>2.979504</td>\n",
       "      <td>2.979504</td>\n",
       "      <td>4008004.0</td>\n",
       "      <td>8.877442</td>\n",
       "      <td>8.877442</td>\n",
       "      <td>8.877442</td>\n",
       "      <td>8.877442</td>\n",
       "      <td>8.877442</td>\n",
       "      <td>8.877442</td>\n",
       "      <td>8.877442</td>\n",
       "    </tr>\n",
       "    <tr>\n",
       "      <th>3</th>\n",
       "      <td>70</td>\n",
       "      <td>RL</td>\n",
       "      <td>17.249651</td>\n",
       "      <td>14.106195</td>\n",
       "      <td>None</td>\n",
       "      <td>IR1</td>\n",
       "      <td>Lvl</td>\n",
       "      <td>Corner</td>\n",
       "      <td>Gtl</td>\n",
       "      <td>Crawfor</td>\n",
       "      <td>...</td>\n",
       "      <td>2.904694</td>\n",
       "      <td>2.904694</td>\n",
       "      <td>3880900.0</td>\n",
       "      <td>8.437246</td>\n",
       "      <td>8.437246</td>\n",
       "      <td>8.437246</td>\n",
       "      <td>8.437246</td>\n",
       "      <td>8.437246</td>\n",
       "      <td>8.437246</td>\n",
       "      <td>8.437246</td>\n",
       "    </tr>\n",
       "    <tr>\n",
       "      <th>4</th>\n",
       "      <td>60</td>\n",
       "      <td>RL</td>\n",
       "      <td>21.314282</td>\n",
       "      <td>15.022007</td>\n",
       "      <td>None</td>\n",
       "      <td>IR1</td>\n",
       "      <td>Lvl</td>\n",
       "      <td>FR2</td>\n",
       "      <td>Gtl</td>\n",
       "      <td>NoRidge</td>\n",
       "      <td>...</td>\n",
       "      <td>3.105675</td>\n",
       "      <td>3.105675</td>\n",
       "      <td>4000000.0</td>\n",
       "      <td>9.645217</td>\n",
       "      <td>9.645217</td>\n",
       "      <td>9.645217</td>\n",
       "      <td>9.645217</td>\n",
       "      <td>9.645217</td>\n",
       "      <td>9.645217</td>\n",
       "      <td>9.645217</td>\n",
       "    </tr>\n",
       "  </tbody>\n",
       "</table>\n",
       "<p>5 rows × 132 columns</p>\n",
       "</div>"
      ],
      "text/plain": [
       "  MSSubClass MSZoning  LotFrontage    LotArea Alley LotShape LandContour  \\\n",
       "0         60       RL    18.144573  13.833053  None      Reg         Lvl   \n",
       "1         20       RL    20.673625  14.117917  None      Reg         Lvl   \n",
       "2         60       RL    18.668046  14.476511  None      IR1         Lvl   \n",
       "3         70       RL    17.249651  14.106195  None      IR1         Lvl   \n",
       "4         60       RL    21.314282  15.022007  None      IR1         Lvl   \n",
       "\n",
       "  LotConfig LandSlope Neighborhood  ... YearRemodAdd_log TotalSF_log  \\\n",
       "0    Inside       Gtl      CollgCr  ...         2.952541    2.952541   \n",
       "1       FR2       Gtl      Veenker  ...         3.076557    3.076557   \n",
       "2    Inside       Gtl      CollgCr  ...         2.979504    2.979504   \n",
       "3    Corner       Gtl      Crawfor  ...         2.904694    2.904694   \n",
       "4       FR2       Gtl      NoRidge  ...         3.105675    3.105675   \n",
       "\n",
       "  YearRemodAdd_sq LotFrontage_log_sq  TotalBsmtSF_log_sq  1stFlrSF_log_sq  \\\n",
       "0       4012009.0           8.717501            8.717501         8.717501   \n",
       "1       3904576.0           9.465205            9.465205         9.465205   \n",
       "2       4008004.0           8.877442            8.877442         8.877442   \n",
       "3       3880900.0           8.437246            8.437246         8.437246   \n",
       "4       4000000.0           9.645217            9.645217         9.645217   \n",
       "\n",
       "   2ndFlrSF_log_sq  GrLivArea_log_sq GarageCars_log_sq GarageArea_log_sq  \n",
       "0         8.717501          8.717501          8.717501          8.717501  \n",
       "1         9.465205          9.465205          9.465205          9.465205  \n",
       "2         8.877442          8.877442          8.877442          8.877442  \n",
       "3         8.437246          8.437246          8.437246          8.437246  \n",
       "4         9.645217          9.645217          9.645217          9.645217  \n",
       "\n",
       "[5 rows x 132 columns]"
      ]
     },
     "execution_count": 35,
     "metadata": {},
     "output_type": "execute_result"
    }
   ],
   "source": [
    "df_house_price_features = pd.concat([df_house_price_features,df_house_price_squared],axis=1)\n",
    "df_house_price_features.head()"
   ]
  },
  {
   "cell_type": "code",
   "execution_count": 36,
   "metadata": {},
   "outputs": [
    {
     "data": {
      "text/plain": [
       "Index(['MSSubClass', 'MSZoning', 'LotFrontage', 'LotArea', 'Alley', 'LotShape',\n",
       "       'LandContour', 'LotConfig', 'LandSlope', 'Neighborhood',\n",
       "       ...\n",
       "       'YearRemodAdd_log', 'TotalSF_log', 'YearRemodAdd_sq',\n",
       "       'LotFrontage_log_sq', 'TotalBsmtSF_log_sq', '1stFlrSF_log_sq',\n",
       "       '2ndFlrSF_log_sq', 'GrLivArea_log_sq', 'GarageCars_log_sq',\n",
       "       'GarageArea_log_sq'],\n",
       "      dtype='object', length=132)"
      ]
     },
     "execution_count": 36,
     "metadata": {},
     "output_type": "execute_result"
    }
   ],
   "source": [
    "df_house_price_features.columns"
   ]
  },
  {
   "cell_type": "code",
   "execution_count": 37,
   "metadata": {},
   "outputs": [],
   "source": [
    "# Encode categorical features - using 'get_dummies'\n",
    "df_house_price_features = pd.get_dummies(df_house_price_features).reset_index(drop=True)"
   ]
  },
  {
   "cell_type": "code",
   "execution_count": 38,
   "metadata": {},
   "outputs": [
    {
     "data": {
      "text/html": [
       "<div>\n",
       "<style scoped>\n",
       "    .dataframe tbody tr th:only-of-type {\n",
       "        vertical-align: middle;\n",
       "    }\n",
       "\n",
       "    .dataframe tbody tr th {\n",
       "        vertical-align: top;\n",
       "    }\n",
       "\n",
       "    .dataframe thead th {\n",
       "        text-align: right;\n",
       "    }\n",
       "</style>\n",
       "<table border=\"1\" class=\"dataframe\">\n",
       "  <thead>\n",
       "    <tr style=\"text-align: right;\">\n",
       "      <th></th>\n",
       "      <th>LotFrontage</th>\n",
       "      <th>LotArea</th>\n",
       "      <th>OverallQual</th>\n",
       "      <th>OverallCond</th>\n",
       "      <th>YearBuilt</th>\n",
       "      <th>YearRemodAdd</th>\n",
       "      <th>MasVnrArea</th>\n",
       "      <th>BsmtFinSF1</th>\n",
       "      <th>BsmtFinSF2</th>\n",
       "      <th>BsmtUnfSF</th>\n",
       "      <th>...</th>\n",
       "      <th>SaleType_ConLw</th>\n",
       "      <th>SaleType_New</th>\n",
       "      <th>SaleType_Oth</th>\n",
       "      <th>SaleType_WD</th>\n",
       "      <th>SaleCondition_Abnorml</th>\n",
       "      <th>SaleCondition_AdjLand</th>\n",
       "      <th>SaleCondition_Alloca</th>\n",
       "      <th>SaleCondition_Family</th>\n",
       "      <th>SaleCondition_Normal</th>\n",
       "      <th>SaleCondition_Partial</th>\n",
       "    </tr>\n",
       "  </thead>\n",
       "  <tbody>\n",
       "    <tr>\n",
       "      <th>0</th>\n",
       "      <td>18.144573</td>\n",
       "      <td>13.833053</td>\n",
       "      <td>7</td>\n",
       "      <td>3.991517</td>\n",
       "      <td>2003</td>\n",
       "      <td>2003</td>\n",
       "      <td>19.433173</td>\n",
       "      <td>144.117855</td>\n",
       "      <td>0.0</td>\n",
       "      <td>29.991056</td>\n",
       "      <td>...</td>\n",
       "      <td>0</td>\n",
       "      <td>0</td>\n",
       "      <td>0</td>\n",
       "      <td>1</td>\n",
       "      <td>0</td>\n",
       "      <td>0</td>\n",
       "      <td>0</td>\n",
       "      <td>0</td>\n",
       "      <td>1</td>\n",
       "      <td>0</td>\n",
       "    </tr>\n",
       "    <tr>\n",
       "      <th>1</th>\n",
       "      <td>20.673625</td>\n",
       "      <td>14.117917</td>\n",
       "      <td>6</td>\n",
       "      <td>6.000033</td>\n",
       "      <td>1976</td>\n",
       "      <td>1976</td>\n",
       "      <td>54.598150</td>\n",
       "      <td>181.719175</td>\n",
       "      <td>0.0</td>\n",
       "      <td>44.135417</td>\n",
       "      <td>...</td>\n",
       "      <td>0</td>\n",
       "      <td>0</td>\n",
       "      <td>0</td>\n",
       "      <td>1</td>\n",
       "      <td>0</td>\n",
       "      <td>0</td>\n",
       "      <td>0</td>\n",
       "      <td>0</td>\n",
       "      <td>1</td>\n",
       "      <td>0</td>\n",
       "    </tr>\n",
       "    <tr>\n",
       "      <th>2</th>\n",
       "      <td>18.668046</td>\n",
       "      <td>14.476511</td>\n",
       "      <td>7</td>\n",
       "      <td>3.991517</td>\n",
       "      <td>2001</td>\n",
       "      <td>2002</td>\n",
       "      <td>17.768839</td>\n",
       "      <td>110.441028</td>\n",
       "      <td>0.0</td>\n",
       "      <td>56.896538</td>\n",
       "      <td>...</td>\n",
       "      <td>0</td>\n",
       "      <td>0</td>\n",
       "      <td>0</td>\n",
       "      <td>1</td>\n",
       "      <td>0</td>\n",
       "      <td>0</td>\n",
       "      <td>0</td>\n",
       "      <td>0</td>\n",
       "      <td>1</td>\n",
       "      <td>0</td>\n",
       "    </tr>\n",
       "    <tr>\n",
       "      <th>3</th>\n",
       "      <td>17.249651</td>\n",
       "      <td>14.106195</td>\n",
       "      <td>7</td>\n",
       "      <td>3.991517</td>\n",
       "      <td>1915</td>\n",
       "      <td>1970</td>\n",
       "      <td>54.598150</td>\n",
       "      <td>61.795312</td>\n",
       "      <td>0.0</td>\n",
       "      <td>64.808860</td>\n",
       "      <td>...</td>\n",
       "      <td>0</td>\n",
       "      <td>0</td>\n",
       "      <td>0</td>\n",
       "      <td>1</td>\n",
       "      <td>1</td>\n",
       "      <td>0</td>\n",
       "      <td>0</td>\n",
       "      <td>0</td>\n",
       "      <td>0</td>\n",
       "      <td>0</td>\n",
       "    </tr>\n",
       "    <tr>\n",
       "      <th>4</th>\n",
       "      <td>21.314282</td>\n",
       "      <td>15.022007</td>\n",
       "      <td>8</td>\n",
       "      <td>3.991517</td>\n",
       "      <td>2000</td>\n",
       "      <td>2000</td>\n",
       "      <td>25.404162</td>\n",
       "      <td>136.624594</td>\n",
       "      <td>0.0</td>\n",
       "      <td>61.166382</td>\n",
       "      <td>...</td>\n",
       "      <td>0</td>\n",
       "      <td>0</td>\n",
       "      <td>0</td>\n",
       "      <td>1</td>\n",
       "      <td>0</td>\n",
       "      <td>0</td>\n",
       "      <td>0</td>\n",
       "      <td>0</td>\n",
       "      <td>1</td>\n",
       "      <td>0</td>\n",
       "    </tr>\n",
       "  </tbody>\n",
       "</table>\n",
       "<p>5 rows × 379 columns</p>\n",
       "</div>"
      ],
      "text/plain": [
       "   LotFrontage    LotArea  OverallQual  OverallCond  YearBuilt  YearRemodAdd  \\\n",
       "0    18.144573  13.833053            7     3.991517       2003          2003   \n",
       "1    20.673625  14.117917            6     6.000033       1976          1976   \n",
       "2    18.668046  14.476511            7     3.991517       2001          2002   \n",
       "3    17.249651  14.106195            7     3.991517       1915          1970   \n",
       "4    21.314282  15.022007            8     3.991517       2000          2000   \n",
       "\n",
       "   MasVnrArea  BsmtFinSF1  BsmtFinSF2  BsmtUnfSF  ...  SaleType_ConLw  \\\n",
       "0   19.433173  144.117855         0.0  29.991056  ...               0   \n",
       "1   54.598150  181.719175         0.0  44.135417  ...               0   \n",
       "2   17.768839  110.441028         0.0  56.896538  ...               0   \n",
       "3   54.598150   61.795312         0.0  64.808860  ...               0   \n",
       "4   25.404162  136.624594         0.0  61.166382  ...               0   \n",
       "\n",
       "   SaleType_New  SaleType_Oth  SaleType_WD  SaleCondition_Abnorml  \\\n",
       "0             0             0            1                      0   \n",
       "1             0             0            1                      0   \n",
       "2             0             0            1                      0   \n",
       "3             0             0            1                      1   \n",
       "4             0             0            1                      0   \n",
       "\n",
       "   SaleCondition_AdjLand  SaleCondition_Alloca  SaleCondition_Family  \\\n",
       "0                      0                     0                     0   \n",
       "1                      0                     0                     0   \n",
       "2                      0                     0                     0   \n",
       "3                      0                     0                     0   \n",
       "4                      0                     0                     0   \n",
       "\n",
       "   SaleCondition_Normal  SaleCondition_Partial  \n",
       "0                     1                      0  \n",
       "1                     1                      0  \n",
       "2                     1                      0  \n",
       "3                     0                      0  \n",
       "4                     1                      0  \n",
       "\n",
       "[5 rows x 379 columns]"
      ]
     },
     "execution_count": 38,
     "metadata": {},
     "output_type": "execute_result"
    }
   ],
   "source": [
    "df_house_price_features.head()"
   ]
  },
  {
   "cell_type": "code",
   "execution_count": 39,
   "metadata": {},
   "outputs": [
    {
     "data": {
      "text/html": [
       "<div>\n",
       "<style scoped>\n",
       "    .dataframe tbody tr th:only-of-type {\n",
       "        vertical-align: middle;\n",
       "    }\n",
       "\n",
       "    .dataframe tbody tr th {\n",
       "        vertical-align: top;\n",
       "    }\n",
       "\n",
       "    .dataframe thead th {\n",
       "        text-align: right;\n",
       "    }\n",
       "</style>\n",
       "<table border=\"1\" class=\"dataframe\">\n",
       "  <thead>\n",
       "    <tr style=\"text-align: right;\">\n",
       "      <th></th>\n",
       "      <th>LotFrontage</th>\n",
       "      <th>LotArea</th>\n",
       "      <th>OverallQual</th>\n",
       "      <th>OverallCond</th>\n",
       "      <th>YearBuilt</th>\n",
       "      <th>YearRemodAdd</th>\n",
       "      <th>MasVnrArea</th>\n",
       "      <th>BsmtFinSF1</th>\n",
       "      <th>BsmtFinSF2</th>\n",
       "      <th>BsmtUnfSF</th>\n",
       "      <th>...</th>\n",
       "      <th>SaleType_ConLw</th>\n",
       "      <th>SaleType_New</th>\n",
       "      <th>SaleType_Oth</th>\n",
       "      <th>SaleType_WD</th>\n",
       "      <th>SaleCondition_Abnorml</th>\n",
       "      <th>SaleCondition_AdjLand</th>\n",
       "      <th>SaleCondition_Alloca</th>\n",
       "      <th>SaleCondition_Family</th>\n",
       "      <th>SaleCondition_Normal</th>\n",
       "      <th>SaleCondition_Partial</th>\n",
       "    </tr>\n",
       "  </thead>\n",
       "  <tbody>\n",
       "    <tr>\n",
       "      <th>0</th>\n",
       "      <td>18.144573</td>\n",
       "      <td>13.833053</td>\n",
       "      <td>7</td>\n",
       "      <td>3.991517</td>\n",
       "      <td>2003</td>\n",
       "      <td>2003</td>\n",
       "      <td>19.433173</td>\n",
       "      <td>144.117855</td>\n",
       "      <td>0.0</td>\n",
       "      <td>29.991056</td>\n",
       "      <td>...</td>\n",
       "      <td>0</td>\n",
       "      <td>0</td>\n",
       "      <td>0</td>\n",
       "      <td>1</td>\n",
       "      <td>0</td>\n",
       "      <td>0</td>\n",
       "      <td>0</td>\n",
       "      <td>0</td>\n",
       "      <td>1</td>\n",
       "      <td>0</td>\n",
       "    </tr>\n",
       "    <tr>\n",
       "      <th>1</th>\n",
       "      <td>20.673625</td>\n",
       "      <td>14.117917</td>\n",
       "      <td>6</td>\n",
       "      <td>6.000033</td>\n",
       "      <td>1976</td>\n",
       "      <td>1976</td>\n",
       "      <td>54.598150</td>\n",
       "      <td>181.719175</td>\n",
       "      <td>0.0</td>\n",
       "      <td>44.135417</td>\n",
       "      <td>...</td>\n",
       "      <td>0</td>\n",
       "      <td>0</td>\n",
       "      <td>0</td>\n",
       "      <td>1</td>\n",
       "      <td>0</td>\n",
       "      <td>0</td>\n",
       "      <td>0</td>\n",
       "      <td>0</td>\n",
       "      <td>1</td>\n",
       "      <td>0</td>\n",
       "    </tr>\n",
       "    <tr>\n",
       "      <th>2</th>\n",
       "      <td>18.668046</td>\n",
       "      <td>14.476511</td>\n",
       "      <td>7</td>\n",
       "      <td>3.991517</td>\n",
       "      <td>2001</td>\n",
       "      <td>2002</td>\n",
       "      <td>17.768839</td>\n",
       "      <td>110.441028</td>\n",
       "      <td>0.0</td>\n",
       "      <td>56.896538</td>\n",
       "      <td>...</td>\n",
       "      <td>0</td>\n",
       "      <td>0</td>\n",
       "      <td>0</td>\n",
       "      <td>1</td>\n",
       "      <td>0</td>\n",
       "      <td>0</td>\n",
       "      <td>0</td>\n",
       "      <td>0</td>\n",
       "      <td>1</td>\n",
       "      <td>0</td>\n",
       "    </tr>\n",
       "    <tr>\n",
       "      <th>3</th>\n",
       "      <td>17.249651</td>\n",
       "      <td>14.106195</td>\n",
       "      <td>7</td>\n",
       "      <td>3.991517</td>\n",
       "      <td>1915</td>\n",
       "      <td>1970</td>\n",
       "      <td>54.598150</td>\n",
       "      <td>61.795312</td>\n",
       "      <td>0.0</td>\n",
       "      <td>64.808860</td>\n",
       "      <td>...</td>\n",
       "      <td>0</td>\n",
       "      <td>0</td>\n",
       "      <td>0</td>\n",
       "      <td>1</td>\n",
       "      <td>1</td>\n",
       "      <td>0</td>\n",
       "      <td>0</td>\n",
       "      <td>0</td>\n",
       "      <td>0</td>\n",
       "      <td>0</td>\n",
       "    </tr>\n",
       "    <tr>\n",
       "      <th>4</th>\n",
       "      <td>21.314282</td>\n",
       "      <td>15.022007</td>\n",
       "      <td>8</td>\n",
       "      <td>3.991517</td>\n",
       "      <td>2000</td>\n",
       "      <td>2000</td>\n",
       "      <td>25.404162</td>\n",
       "      <td>136.624594</td>\n",
       "      <td>0.0</td>\n",
       "      <td>61.166382</td>\n",
       "      <td>...</td>\n",
       "      <td>0</td>\n",
       "      <td>0</td>\n",
       "      <td>0</td>\n",
       "      <td>1</td>\n",
       "      <td>0</td>\n",
       "      <td>0</td>\n",
       "      <td>0</td>\n",
       "      <td>0</td>\n",
       "      <td>1</td>\n",
       "      <td>0</td>\n",
       "    </tr>\n",
       "  </tbody>\n",
       "</table>\n",
       "<p>5 rows × 378 columns</p>\n",
       "</div>"
      ],
      "text/plain": [
       "   LotFrontage    LotArea  OverallQual  OverallCond  YearBuilt  YearRemodAdd  \\\n",
       "0    18.144573  13.833053            7     3.991517       2003          2003   \n",
       "1    20.673625  14.117917            6     6.000033       1976          1976   \n",
       "2    18.668046  14.476511            7     3.991517       2001          2002   \n",
       "3    17.249651  14.106195            7     3.991517       1915          1970   \n",
       "4    21.314282  15.022007            8     3.991517       2000          2000   \n",
       "\n",
       "   MasVnrArea  BsmtFinSF1  BsmtFinSF2  BsmtUnfSF  ...  SaleType_ConLw  \\\n",
       "0   19.433173  144.117855         0.0  29.991056  ...               0   \n",
       "1   54.598150  181.719175         0.0  44.135417  ...               0   \n",
       "2   17.768839  110.441028         0.0  56.896538  ...               0   \n",
       "3   54.598150   61.795312         0.0  64.808860  ...               0   \n",
       "4   25.404162  136.624594         0.0  61.166382  ...               0   \n",
       "\n",
       "   SaleType_New  SaleType_Oth  SaleType_WD  SaleCondition_Abnorml  \\\n",
       "0             0             0            1                      0   \n",
       "1             0             0            1                      0   \n",
       "2             0             0            1                      0   \n",
       "3             0             0            1                      1   \n",
       "4             0             0            1                      0   \n",
       "\n",
       "   SaleCondition_AdjLand  SaleCondition_Alloca  SaleCondition_Family  \\\n",
       "0                      0                     0                     0   \n",
       "1                      0                     0                     0   \n",
       "2                      0                     0                     0   \n",
       "3                      0                     0                     0   \n",
       "4                      0                     0                     0   \n",
       "\n",
       "   SaleCondition_Normal  SaleCondition_Partial  \n",
       "0                     1                      0  \n",
       "1                     1                      0  \n",
       "2                     1                      0  \n",
       "3                     0                      0  \n",
       "4                     1                      0  \n",
       "\n",
       "[5 rows x 378 columns]"
      ]
     },
     "execution_count": 39,
     "metadata": {},
     "output_type": "execute_result"
    }
   ],
   "source": [
    "# Remove duplicate column names\n",
    "df_house_price_features = df_house_price_features.loc[:,~df_house_price_features.columns.duplicated()]\n",
    "df_house_price_features.head()"
   ]
  },
  {
   "cell_type": "markdown",
   "metadata": {},
   "source": [
    "### Model"
   ]
  },
  {
   "cell_type": "code",
   "execution_count": 40,
   "metadata": {},
   "outputs": [
    {
     "data": {
      "text/plain": [
       "((1458, 378), (1458,), (1459, 378))"
      ]
     },
     "execution_count": 40,
     "metadata": {},
     "output_type": "execute_result"
    }
   ],
   "source": [
    "# Recreate training and test sets\n",
    "X = df_house_price_features.iloc[:len(df_house_price_sale_price), :]\n",
    "X_test = df_house_price_features.iloc[len(df_house_price_sale_price):, :]\n",
    "X.shape, df_house_price_sale_price.shape, X_test.shape"
   ]
  },
  {
   "cell_type": "code",
   "execution_count": 41,
   "metadata": {},
   "outputs": [],
   "source": [
    "# Setup cross validation folds\n",
    "kf = KFold(n_splits=12, random_state=42, shuffle=True)"
   ]
  },
  {
   "cell_type": "code",
   "execution_count": 46,
   "metadata": {},
   "outputs": [],
   "source": [
    "# Define error metrics\n",
    "def rmsle(y, y_pred):\n",
    "    return np.sqrt(mean_squared_error(y, y_pred))\n",
    "\n",
    "def cv_rmse(model, X=X):\n",
    "    rmse = np.sqrt(-cross_val_score(model, X, df_house_price_sale_price, scoring=\"neg_mean_squared_error\", cv=kf))\n",
    "    return (rmse)"
   ]
  },
  {
   "cell_type": "code",
   "execution_count": 47,
   "metadata": {},
   "outputs": [],
   "source": [
    "# Set up models\n",
    "# Light Gradient Boosting Regressor\n",
    "lightgbm = LGBMRegressor(objective='regression', \n",
    "                       num_leaves=6,\n",
    "                       learning_rate=0.01, \n",
    "                       n_estimators=7000,\n",
    "                       max_bin=200, \n",
    "                       bagging_fraction=0.8,\n",
    "                       bagging_freq=4, \n",
    "                       bagging_seed=8,\n",
    "                       feature_fraction=0.2,\n",
    "                       feature_fraction_seed=8,\n",
    "                       min_sum_hessian_in_leaf = 11,\n",
    "                       verbose=-1,\n",
    "                       random_state=42)\n",
    "\n",
    "# XGBoost Regressor\n",
    "xgboost = XGBRegressor(learning_rate=0.01,\n",
    "                       n_estimators=6000,\n",
    "                       max_depth=4,\n",
    "                       min_child_weight=0,\n",
    "                       gamma=0.6,\n",
    "                       subsample=0.7,\n",
    "                       colsample_bytree=0.7,\n",
    "                       objective='reg:linear',\n",
    "                       nthread=-1,\n",
    "                       scale_pos_weight=1,\n",
    "                       seed=27,\n",
    "                       reg_alpha=0.00006,\n",
    "                       random_state=42)\n",
    "\n",
    "# Ridge Regressor\n",
    "ridge_alphas = [1e-15, 1e-10, 1e-8, 9e-4, 7e-4, 5e-4, 3e-4, 1e-4, 1e-3, 5e-2, 1e-2, 0.1, 0.3, 1, 3, 5, 10, 15, 18, 20, 30, 50, 75, 100]\n",
    "ridge = make_pipeline(RobustScaler(), RidgeCV(alphas=ridge_alphas, cv=kf))\n",
    "\n",
    "# Support Vector Regressor\n",
    "svr = make_pipeline(RobustScaler(), SVR(C= 20, epsilon= 0.008, gamma=0.0003))\n",
    "\n",
    "# Gradient Boosting Regressor\n",
    "gbr = GradientBoostingRegressor(n_estimators=6000,\n",
    "                                learning_rate=0.01,\n",
    "                                max_depth=4,\n",
    "                                max_features='sqrt',\n",
    "                                min_samples_leaf=15,\n",
    "                                min_samples_split=10,\n",
    "                                loss='huber',\n",
    "                                random_state=42)  \n",
    "\n",
    "# Random Forest Regressor\n",
    "rf = RandomForestRegressor(n_estimators=1200,\n",
    "                          max_depth=15,\n",
    "                          min_samples_split=5,\n",
    "                          min_samples_leaf=5,\n",
    "                          max_features=None,\n",
    "                          oob_score=True,\n",
    "                          random_state=42)\n",
    "\n",
    "# Stack up all the models above, optimized using xgboost\n",
    "stack_gen = StackingCVRegressor(regressors=(xgboost, lightgbm, svr, ridge, gbr, rf),\n",
    "                                meta_regressor=xgboost,\n",
    "                                use_features_in_secondary=True)"
   ]
  },
  {
   "cell_type": "code",
   "execution_count": 48,
   "metadata": {},
   "outputs": [],
   "source": [
    "# Train models"
   ]
  },
  {
   "cell_type": "code",
   "execution_count": 49,
   "metadata": {},
   "outputs": [
    {
     "name": "stdout",
     "output_type": "stream",
     "text": [
      "lightgbm: 0.1155 (0.0165)\n"
     ]
    }
   ],
   "source": [
    "scores = {}\n",
    "score = cv_rmse(lightgbm)\n",
    "print(\"lightgbm: {:.4f} ({:.4f})\".format(score.mean(), score.std()))\n",
    "scores['lgb'] = (score.mean(), score.std())"
   ]
  },
  {
   "cell_type": "code",
   "execution_count": 50,
   "metadata": {},
   "outputs": [
    {
     "name": "stdout",
     "output_type": "stream",
     "text": [
      "[18:07:10] WARNING: C:/Users/Administrator/workspace/xgboost-win64_release_1.0.0/src/objective/regression_obj.cu:167: reg:linear is now deprecated in favor of reg:squarederror.\n",
      "[18:07:55] WARNING: C:/Users/Administrator/workspace/xgboost-win64_release_1.0.0/src/objective/regression_obj.cu:167: reg:linear is now deprecated in favor of reg:squarederror.\n",
      "[18:09:38] WARNING: C:/Users/Administrator/workspace/xgboost-win64_release_1.0.0/src/objective/regression_obj.cu:167: reg:linear is now deprecated in favor of reg:squarederror.\n",
      "[18:11:16] WARNING: C:/Users/Administrator/workspace/xgboost-win64_release_1.0.0/src/objective/regression_obj.cu:167: reg:linear is now deprecated in favor of reg:squarederror.\n",
      "[18:12:55] WARNING: C:/Users/Administrator/workspace/xgboost-win64_release_1.0.0/src/objective/regression_obj.cu:167: reg:linear is now deprecated in favor of reg:squarederror.\n",
      "[18:14:37] WARNING: C:/Users/Administrator/workspace/xgboost-win64_release_1.0.0/src/objective/regression_obj.cu:167: reg:linear is now deprecated in favor of reg:squarederror.\n",
      "[18:16:15] WARNING: C:/Users/Administrator/workspace/xgboost-win64_release_1.0.0/src/objective/regression_obj.cu:167: reg:linear is now deprecated in favor of reg:squarederror.\n",
      "[18:17:30] WARNING: C:/Users/Administrator/workspace/xgboost-win64_release_1.0.0/src/objective/regression_obj.cu:167: reg:linear is now deprecated in favor of reg:squarederror.\n",
      "[18:19:03] WARNING: C:/Users/Administrator/workspace/xgboost-win64_release_1.0.0/src/objective/regression_obj.cu:167: reg:linear is now deprecated in favor of reg:squarederror.\n",
      "[18:20:21] WARNING: C:/Users/Administrator/workspace/xgboost-win64_release_1.0.0/src/objective/regression_obj.cu:167: reg:linear is now deprecated in favor of reg:squarederror.\n",
      "[18:22:00] WARNING: C:/Users/Administrator/workspace/xgboost-win64_release_1.0.0/src/objective/regression_obj.cu:167: reg:linear is now deprecated in favor of reg:squarederror.\n",
      "[18:24:12] WARNING: C:/Users/Administrator/workspace/xgboost-win64_release_1.0.0/src/objective/regression_obj.cu:167: reg:linear is now deprecated in favor of reg:squarederror.\n",
      "xgboost: 0.1362 (0.0167)\n"
     ]
    }
   ],
   "source": [
    "score = cv_rmse(xgboost)\n",
    "print(\"xgboost: {:.4f} ({:.4f})\".format(score.mean(), score.std()))\n",
    "scores['xgb'] = (score.mean(), score.std())"
   ]
  },
  {
   "cell_type": "code",
   "execution_count": 51,
   "metadata": {},
   "outputs": [
    {
     "name": "stdout",
     "output_type": "stream",
     "text": [
      "SVR: 0.1097 (0.0196)\n"
     ]
    }
   ],
   "source": [
    "score = cv_rmse(svr)\n",
    "print(\"SVR: {:.4f} ({:.4f})\".format(score.mean(), score.std()))\n",
    "scores['svr'] = (score.mean(), score.std())"
   ]
  },
  {
   "cell_type": "code",
   "execution_count": 52,
   "metadata": {},
   "outputs": [
    {
     "name": "stdout",
     "output_type": "stream",
     "text": [
      "ridge: 0.1097 (0.0161)\n"
     ]
    }
   ],
   "source": [
    "score = cv_rmse(ridge)\n",
    "print(\"ridge: {:.4f} ({:.4f})\".format(score.mean(), score.std()))\n",
    "scores['ridge'] = (score.mean(), score.std())"
   ]
  },
  {
   "cell_type": "code",
   "execution_count": 53,
   "metadata": {},
   "outputs": [
    {
     "name": "stdout",
     "output_type": "stream",
     "text": [
      "rf: 0.1366 (0.0188)\n"
     ]
    }
   ],
   "source": [
    "score = cv_rmse(rf)\n",
    "print(\"rf: {:.4f} ({:.4f})\".format(score.mean(), score.std()))\n",
    "scores['rf'] = (score.mean(), score.std())"
   ]
  },
  {
   "cell_type": "code",
   "execution_count": 54,
   "metadata": {},
   "outputs": [
    {
     "name": "stdout",
     "output_type": "stream",
     "text": [
      "gbr: 0.1126 (0.0165)\n"
     ]
    }
   ],
   "source": [
    "score = cv_rmse(gbr)\n",
    "print(\"gbr: {:.4f} ({:.4f})\".format(score.mean(), score.std()))\n",
    "scores['gbr'] = (score.mean(), score.std())"
   ]
  },
  {
   "cell_type": "code",
   "execution_count": null,
   "metadata": {},
   "outputs": [],
   "source": [
    "# Fit the models"
   ]
  },
  {
   "cell_type": "code",
   "execution_count": 55,
   "metadata": {},
   "outputs": [
    {
     "name": "stdout",
     "output_type": "stream",
     "text": [
      "stack_gen\n",
      "[19:26:28] WARNING: C:/Users/Administrator/workspace/xgboost-win64_release_1.0.0/src/objective/regression_obj.cu:167: reg:linear is now deprecated in favor of reg:squarederror.\n",
      "[19:28:26] WARNING: C:/Users/Administrator/workspace/xgboost-win64_release_1.0.0/src/objective/regression_obj.cu:167: reg:linear is now deprecated in favor of reg:squarederror.\n",
      "[19:30:26] WARNING: C:/Users/Administrator/workspace/xgboost-win64_release_1.0.0/src/objective/regression_obj.cu:167: reg:linear is now deprecated in favor of reg:squarederror.\n",
      "[19:32:29] WARNING: C:/Users/Administrator/workspace/xgboost-win64_release_1.0.0/src/objective/regression_obj.cu:167: reg:linear is now deprecated in favor of reg:squarederror.\n",
      "[19:35:15] WARNING: C:/Users/Administrator/workspace/xgboost-win64_release_1.0.0/src/objective/regression_obj.cu:167: reg:linear is now deprecated in favor of reg:squarederror.\n",
      "[19:51:18] WARNING: C:/Users/Administrator/workspace/xgboost-win64_release_1.0.0/src/objective/regression_obj.cu:167: reg:linear is now deprecated in favor of reg:squarederror.\n",
      "[19:53:50] WARNING: C:/Users/Administrator/workspace/xgboost-win64_release_1.0.0/src/objective/regression_obj.cu:167: reg:linear is now deprecated in favor of reg:squarederror.\n"
     ]
    }
   ],
   "source": [
    "print('stack_gen')\n",
    "stack_gen_model = stack_gen.fit(np.array(X), np.array(df_house_price_sale_price))"
   ]
  },
  {
   "cell_type": "code",
   "execution_count": 57,
   "metadata": {},
   "outputs": [
    {
     "name": "stdout",
     "output_type": "stream",
     "text": [
      "lightgbm\n"
     ]
    }
   ],
   "source": [
    "print('lightgbm')\n",
    "lgb_model_full_data = lightgbm.fit(X, df_house_price_sale_price)"
   ]
  },
  {
   "cell_type": "code",
   "execution_count": 58,
   "metadata": {},
   "outputs": [
    {
     "name": "stdout",
     "output_type": "stream",
     "text": [
      "xgboost\n",
      "[20:00:14] WARNING: C:/Users/Administrator/workspace/xgboost-win64_release_1.0.0/src/objective/regression_obj.cu:167: reg:linear is now deprecated in favor of reg:squarederror.\n"
     ]
    }
   ],
   "source": [
    "print('xgboost')\n",
    "xgb_model_full_data = xgboost.fit(X, df_house_price_sale_price)"
   ]
  },
  {
   "cell_type": "code",
   "execution_count": 59,
   "metadata": {},
   "outputs": [
    {
     "name": "stdout",
     "output_type": "stream",
     "text": [
      "Svr\n"
     ]
    }
   ],
   "source": [
    "print('Svr')\n",
    "svr_model_full_data = svr.fit(X, df_house_price_sale_price)"
   ]
  },
  {
   "cell_type": "code",
   "execution_count": 60,
   "metadata": {},
   "outputs": [
    {
     "name": "stdout",
     "output_type": "stream",
     "text": [
      "Ridge\n"
     ]
    }
   ],
   "source": [
    "print('Ridge')\n",
    "ridge_model_full_data = ridge.fit(X, df_house_price_sale_price)"
   ]
  },
  {
   "cell_type": "code",
   "execution_count": 61,
   "metadata": {},
   "outputs": [
    {
     "name": "stdout",
     "output_type": "stream",
     "text": [
      "RandomForest\n"
     ]
    }
   ],
   "source": [
    "print('RandomForest')\n",
    "rf_model_full_data = rf.fit(X, df_house_price_sale_price)"
   ]
  },
  {
   "cell_type": "code",
   "execution_count": 62,
   "metadata": {},
   "outputs": [
    {
     "name": "stdout",
     "output_type": "stream",
     "text": [
      "GradientBoosting\n"
     ]
    }
   ],
   "source": [
    "print('GradientBoosting')\n",
    "gbr_model_full_data = gbr.fit(X, df_house_price_sale_price)"
   ]
  },
  {
   "cell_type": "markdown",
   "metadata": {},
   "source": [
    "### Analysis"
   ]
  },
  {
   "cell_type": "code",
   "execution_count": 63,
   "metadata": {},
   "outputs": [],
   "source": [
    "# Blend Models and Identify Best Performers\n",
    "# Blend models in order to make the final predictions more robust to overfitting\n",
    "def blended_predictions(X):\n",
    "    return ((0.1 * ridge_model_full_data.predict(X)) + \\\n",
    "            (0.2 * svr_model_full_data.predict(X)) + \\\n",
    "            (0.1 * gbr_model_full_data.predict(X)) + \\\n",
    "            (0.1 * xgb_model_full_data.predict(X)) + \\\n",
    "            (0.1 * lgb_model_full_data.predict(X)) + \\\n",
    "            (0.05 * rf_model_full_data.predict(X)) + \\\n",
    "            (0.35 * stack_gen_model.predict(np.array(X))))"
   ]
  },
  {
   "cell_type": "code",
   "execution_count": 64,
   "metadata": {},
   "outputs": [
    {
     "name": "stdout",
     "output_type": "stream",
     "text": [
      "RMSLE score on train data:\n",
      "0.07516093911955612\n"
     ]
    }
   ],
   "source": [
    "# Get final precitions from the blended model\n",
    "blended_score = rmsle(df_house_price_sale_price, blended_predictions(X))\n",
    "scores['blended'] = (blended_score, 0)\n",
    "print('RMSLE score on train data:')\n",
    "print(blended_score)"
   ]
  },
  {
   "cell_type": "code",
   "execution_count": 65,
   "metadata": {},
   "outputs": [
    {
     "data": {
      "image/png": "[encoded data removed]",
      "text/plain": [
       "<Figure size 1728x864 with 1 Axes>"
      ]
     },
     "metadata": {},
     "output_type": "display_data"
    }
   ],
   "source": [
    "# Plot the predictions for each model\n",
    "sns.set_style(\"white\")\n",
    "fig = plt.figure(figsize=(24, 12))\n",
    "\n",
    "ax = sns.pointplot(x=list(scores.keys()), y=[score for score, _ in scores.values()], markers=['o'], linestyles=['-'])\n",
    "for i, score in enumerate(scores.values()):\n",
    "    ax.text(i, score[0] + 0.002, '{:.6f}'.format(score[0]), horizontalalignment='left', size='large', color='black', weight='semibold')\n",
    "\n",
    "plt.ylabel('Score (RMSE)', size=20, labelpad=12.5)\n",
    "plt.xlabel('Model', size=20, labelpad=12.5)\n",
    "plt.tick_params(axis='x', labelsize=13.5)\n",
    "plt.tick_params(axis='y', labelsize=12.5)\n",
    "\n",
    "plt.title('Scores of Models', size=20)\n",
    "\n",
    "plt.show()"
   ]
  },
  {
   "cell_type": "code",
   "execution_count": null,
   "metadata": {},
   "outputs": [],
   "source": [
    "# Submit Predictions"
   ]
  },
  {
   "cell_type": "code",
   "execution_count": null,
   "metadata": {},
   "outputs": [],
   "source": [
    "## Read in sample_submission dataframe\n",
    "#submission = pd.read_csv(\"../input/house-prices-advanced-regression-techniques/sample_submission.csv\")\n",
    "#submission.shape"
   ]
  },
  {
   "cell_type": "code",
   "execution_count": null,
   "metadata": {},
   "outputs": [],
   "source": [
    "## Fix outleir predictions\n",
    "#q1 = submission['SalePrice'].quantile(0.0045)\n",
    "#q2 = submission['SalePrice'].quantile(0.99)\n",
    "#submission['SalePrice'] = submission['SalePrice'].apply(lambda x: x if x > q1 else x*0.77)\n",
    "#submission['SalePrice'] = submission['SalePrice'].apply(lambda x: x if x < q2 else x*1.1)\n",
    "#submission.to_csv(\"submission_regression1.csv\", index=False)"
   ]
  },
  {
   "cell_type": "code",
   "execution_count": null,
   "metadata": {},
   "outputs": [],
   "source": [
    "# Scale predictions\n",
    "#submission['SalePrice'] *= 1.001619\n",
    "#submission.to_csv(\"submission_regression2.csv\", index=False)"
   ]
  }
 ],
 "metadata": {
  "kernelspec": {
   "display_name": "Python 3",
   "language": "python",
   "name": "python3"
  },
  "language_info": {
   "codemirror_mode": {
    "name": "ipython",
    "version": 3
   },
   "file_extension": ".py",
   "mimetype": "text/x-python",
   "name": "python",
   "nbconvert_exporter": "python",
   "pygments_lexer": "ipython3",
   "version": "3.8.2"
  }
 },
 "nbformat": 4,
 "nbformat_minor": 4
}
