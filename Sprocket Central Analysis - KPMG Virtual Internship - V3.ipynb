{
 "cells": [
  {
   "cell_type": "code",
   "execution_count": 1,
   "metadata": {},
   "outputs": [],
   "source": [
    "# pip install xlrd"
   ]
  },
  {
   "cell_type": "code",
   "execution_count": 2,
   "metadata": {},
   "outputs": [],
   "source": [
    "import os\n",
    "\n",
    "import pandas as pd"
   ]
  },
  {
   "cell_type": "code",
   "execution_count": null,
   "metadata": {},
   "outputs": [],
   "source": []
  },
  {
   "cell_type": "code",
   "execution_count": 4,
   "metadata": {},
   "outputs": [
    {
     "data": {
      "text/plain": [
       "['.ipynb_checkpoints',\n",
       " 'Bike Related Purchases Past 3 Years.png',\n",
       " 'customer_address.csv',\n",
       " 'customer_demographic.csv',\n",
       " 'New Customers by Birth Year.png',\n",
       " 'New Customers by Wealth by Birth Year.png',\n",
       " 'new_customer_list',\n",
       " 'new_customer_list.csv',\n",
       " 'Property Values.png',\n",
       " 'Sprocket Central Analysis - KPMG Virtual Internship.ipynb',\n",
       " 'Sprocket Central Data - KPMG.xlsx',\n",
       " 'transactions.csv']"
      ]
     },
     "execution_count": 4,
     "metadata": {},
     "output_type": "execute_result"
    }
   ],
   "source": [
    "os.listdir()"
   ]
  },
  {
   "cell_type": "code",
   "execution_count": 5,
   "metadata": {},
   "outputs": [],
   "source": [
    "transactions=pd.read_excel('Sprocket Central Data - KPMG.xlsx',sheet_name='Transactions',skiprows=1)\n",
    "transactions.to_csv('transactions.csv')"
   ]
  },
  {
   "cell_type": "code",
   "execution_count": 6,
   "metadata": {},
   "outputs": [
    {
     "data": {
      "text/html": [
       "<div>\n",
       "<style scoped>\n",
       "    .dataframe tbody tr th:only-of-type {\n",
       "        vertical-align: middle;\n",
       "    }\n",
       "\n",
       "    .dataframe tbody tr th {\n",
       "        vertical-align: top;\n",
       "    }\n",
       "\n",
       "    .dataframe thead th {\n",
       "        text-align: right;\n",
       "    }\n",
       "</style>\n",
       "<table border=\"1\" class=\"dataframe\">\n",
       "  <thead>\n",
       "    <tr style=\"text-align: right;\">\n",
       "      <th></th>\n",
       "      <th>transaction_id</th>\n",
       "      <th>product_id</th>\n",
       "      <th>customer_id</th>\n",
       "      <th>transaction_date</th>\n",
       "      <th>online_order</th>\n",
       "      <th>order_status</th>\n",
       "      <th>brand</th>\n",
       "      <th>product_line</th>\n",
       "      <th>product_class</th>\n",
       "      <th>product_size</th>\n",
       "      <th>list_price</th>\n",
       "      <th>standard_cost</th>\n",
       "      <th>product_first_sold_date</th>\n",
       "    </tr>\n",
       "  </thead>\n",
       "  <tbody>\n",
       "    <tr>\n",
       "      <th>0</th>\n",
       "      <td>1</td>\n",
       "      <td>2</td>\n",
       "      <td>2950</td>\n",
       "      <td>2017-02-25</td>\n",
       "      <td>0.0</td>\n",
       "      <td>Approved</td>\n",
       "      <td>Solex</td>\n",
       "      <td>Standard</td>\n",
       "      <td>medium</td>\n",
       "      <td>medium</td>\n",
       "      <td>71.49</td>\n",
       "      <td>53.62</td>\n",
       "      <td>41245.0</td>\n",
       "    </tr>\n",
       "    <tr>\n",
       "      <th>1</th>\n",
       "      <td>2</td>\n",
       "      <td>3</td>\n",
       "      <td>3120</td>\n",
       "      <td>2017-05-21</td>\n",
       "      <td>1.0</td>\n",
       "      <td>Approved</td>\n",
       "      <td>Trek Bicycles</td>\n",
       "      <td>Standard</td>\n",
       "      <td>medium</td>\n",
       "      <td>large</td>\n",
       "      <td>2091.47</td>\n",
       "      <td>388.92</td>\n",
       "      <td>41701.0</td>\n",
       "    </tr>\n",
       "    <tr>\n",
       "      <th>2</th>\n",
       "      <td>3</td>\n",
       "      <td>37</td>\n",
       "      <td>402</td>\n",
       "      <td>2017-10-16</td>\n",
       "      <td>0.0</td>\n",
       "      <td>Approved</td>\n",
       "      <td>OHM Cycles</td>\n",
       "      <td>Standard</td>\n",
       "      <td>low</td>\n",
       "      <td>medium</td>\n",
       "      <td>1793.43</td>\n",
       "      <td>248.82</td>\n",
       "      <td>36361.0</td>\n",
       "    </tr>\n",
       "    <tr>\n",
       "      <th>3</th>\n",
       "      <td>4</td>\n",
       "      <td>88</td>\n",
       "      <td>3135</td>\n",
       "      <td>2017-08-31</td>\n",
       "      <td>0.0</td>\n",
       "      <td>Approved</td>\n",
       "      <td>Norco Bicycles</td>\n",
       "      <td>Standard</td>\n",
       "      <td>medium</td>\n",
       "      <td>medium</td>\n",
       "      <td>1198.46</td>\n",
       "      <td>381.10</td>\n",
       "      <td>36145.0</td>\n",
       "    </tr>\n",
       "    <tr>\n",
       "      <th>4</th>\n",
       "      <td>5</td>\n",
       "      <td>78</td>\n",
       "      <td>787</td>\n",
       "      <td>2017-10-01</td>\n",
       "      <td>1.0</td>\n",
       "      <td>Approved</td>\n",
       "      <td>Giant Bicycles</td>\n",
       "      <td>Standard</td>\n",
       "      <td>medium</td>\n",
       "      <td>large</td>\n",
       "      <td>1765.30</td>\n",
       "      <td>709.48</td>\n",
       "      <td>42226.0</td>\n",
       "    </tr>\n",
       "  </tbody>\n",
       "</table>\n",
       "</div>"
      ],
      "text/plain": [
       "   transaction_id  product_id  customer_id transaction_date  online_order  \\\n",
       "0               1           2         2950       2017-02-25           0.0   \n",
       "1               2           3         3120       2017-05-21           1.0   \n",
       "2               3          37          402       2017-10-16           0.0   \n",
       "3               4          88         3135       2017-08-31           0.0   \n",
       "4               5          78          787       2017-10-01           1.0   \n",
       "\n",
       "  order_status           brand product_line product_class product_size  \\\n",
       "0     Approved           Solex     Standard        medium       medium   \n",
       "1     Approved   Trek Bicycles     Standard        medium        large   \n",
       "2     Approved      OHM Cycles     Standard           low       medium   \n",
       "3     Approved  Norco Bicycles     Standard        medium       medium   \n",
       "4     Approved  Giant Bicycles     Standard        medium        large   \n",
       "\n",
       "   list_price  standard_cost  product_first_sold_date  \n",
       "0       71.49          53.62                  41245.0  \n",
       "1     2091.47         388.92                  41701.0  \n",
       "2     1793.43         248.82                  36361.0  \n",
       "3     1198.46         381.10                  36145.0  \n",
       "4     1765.30         709.48                  42226.0  "
      ]
     },
     "execution_count": 6,
     "metadata": {},
     "output_type": "execute_result"
    }
   ],
   "source": [
    "transactions.head()"
   ]
  },
  {
   "cell_type": "code",
   "execution_count": 7,
   "metadata": {},
   "outputs": [
    {
     "data": {
      "text/plain": [
       "<pandas.core.groupby.generic.DataFrameGroupBy object at 0x000002AAC4C6B2B0>"
      ]
     },
     "execution_count": 7,
     "metadata": {},
     "output_type": "execute_result"
    }
   ],
   "source": [
    "transactions.groupby('customer_id')"
   ]
  },
  {
   "cell_type": "code",
   "execution_count": 8,
   "metadata": {},
   "outputs": [
    {
     "data": {
      "text/plain": [
       "(20000, 13)"
      ]
     },
     "execution_count": 8,
     "metadata": {},
     "output_type": "execute_result"
    }
   ],
   "source": [
    "transactions.shape"
   ]
  },
  {
   "cell_type": "code",
   "execution_count": 9,
   "metadata": {},
   "outputs": [
    {
     "data": {
      "text/plain": [
       "transaction_id             20000\n",
       "product_id                 20000\n",
       "customer_id                20000\n",
       "transaction_date           20000\n",
       "online_order               19640\n",
       "order_status               20000\n",
       "brand                      19803\n",
       "product_line               19803\n",
       "product_class              19803\n",
       "product_size               19803\n",
       "list_price                 20000\n",
       "standard_cost              19803\n",
       "product_first_sold_date    19803\n",
       "dtype: int64"
      ]
     },
     "execution_count": 9,
     "metadata": {},
     "output_type": "execute_result"
    }
   ],
   "source": [
    "transactions.count()"
   ]
  },
  {
   "cell_type": "code",
   "execution_count": 10,
   "metadata": {},
   "outputs": [
    {
     "data": {
      "text/plain": [
       "0.9940692307692308"
      ]
     },
     "execution_count": 10,
     "metadata": {},
     "output_type": "execute_result"
    }
   ],
   "source": [
    "transactions.count().sum() / (transactions.shape[0] * transactions.shape[1])"
   ]
  },
  {
   "cell_type": "code",
   "execution_count": 74,
   "metadata": {},
   "outputs": [
    {
     "data": {
      "image/png": "[encoded data removed]",
      "text/plain": [
       "<Figure size 1080x720 with 1 Axes>"
      ]
     },
     "metadata": {
      "needs_background": "light"
     },
     "output_type": "display_data"
    }
   ],
   "source": [
    "monthly_transactions=transactions.set_index('transaction_date')['transaction_id'].resample('M').nunique()\n",
    "monthly_transactions.index=monthly_transactions.index.strftime('%B')\n",
    "monthly_transactions=pd.DataFrame(monthly_transactions)\n",
    "monthly_transactions_plot=monthly_transactions.plot(xticks=range(len(monthly_transactions)),figsize=(15,10)).set_title('Transactions by Month');"
   ]
  },
  {
   "cell_type": "code",
   "execution_count": 75,
   "metadata": {},
   "outputs": [],
   "source": [
    "monthly_transactions_plot.figure.savefig('Transactions by Month.png')"
   ]
  },
  {
   "cell_type": "code",
   "execution_count": 12,
   "metadata": {},
   "outputs": [
    {
     "data": {
      "text/plain": [
       "[                2047   10912  12947  2708   661    6806   4759   19100  17053  \\\n",
       " transaction_id      1      1      1      1      1      1      1      1      1   \n",
       " \n",
       "                 8865   ...  9518   11567  17714  19763  5432   7481   1338   \\\n",
       " transaction_id      1  ...      1      1      1      1      1      1      1   \n",
       " \n",
       "                 3387   13628  2049   \n",
       " transaction_id      1      1      1  \n",
       " \n",
       " [1 rows x 20000 columns],\n",
       "              0    3    1    35   38   4    2    90   12   80   ...  97   24   \\\n",
       " product_id  1378  354  311  268  267  241  240  225  224  223  ...  142  141   \n",
       " \n",
       "             73   44   75   71   8    16   100  47   \n",
       " product_id  139  138  138  137  136  136  130  121  \n",
       " \n",
       " [1 rows x 101 columns],\n",
       "              2183  1068  2476  2072  1672  1302  3232  2464  637   2912  ...  \\\n",
       " customer_id    14    14    14    13    13    13    13    13    13    13  ...   \n",
       " \n",
       "              3428  1448  3179  287   1757  2395  1569  1203  2271  1544  \n",
       " customer_id     1     1     1     1     1     1     1     1     1     1  \n",
       " \n",
       " [1 rows x 3494 columns],\n",
       "                   2017-02-14  2017-08-18  2017-10-15  2017-01-31  2017-12-19  \\\n",
       " transaction_date          82          82          76          73          71   \n",
       " \n",
       "                   2017-07-09  2017-10-16  2017-12-06  2017-01-15  2017-03-18  \\\n",
       " transaction_date          70          70          69          69          69   \n",
       " \n",
       "                   ...  2017-11-24  2017-06-28  2017-05-16  2017-03-31  \\\n",
       " transaction_date  ...          41          41          40          39   \n",
       " \n",
       "                   2017-08-29  2017-01-12  2017-12-07  2017-03-29  2017-09-25  \\\n",
       " transaction_date          38          38          37          36          35   \n",
       " \n",
       "                   2017-10-19  \n",
       " transaction_date          32  \n",
       " \n",
       " [1 rows x 364 columns],\n",
       "                1.0   0.0\n",
       " online_order  9829  9811,\n",
       "               Approved  Cancelled\n",
       " order_status     19821        179,\n",
       "        Solex  Giant Bicycles  WeareA2B  OHM Cycles  Trek Bicycles  \\\n",
       " brand   4253            3312      3295        3043           2990   \n",
       " \n",
       "        Norco Bicycles  \n",
       " brand            2910  ,\n",
       "               Standard  Road  Touring  Mountain\n",
       " product_line     14176  3970     1234       423,\n",
       "                medium  high   low\n",
       " product_class   13826  3013  2964,\n",
       "               medium  large  small\n",
       " product_size   12990   3976   2837,\n",
       "             2091.47  1403.50  71.49    1231.15  1890.39  1129.13  1073.07  \\\n",
       " list_price      465      396      274      235      233      232      229   \n",
       " \n",
       "             1894.19  945.04   574.64   ...  695.23   366.22   1184.00  \\\n",
       " list_price      228      226      223  ...        1        1        1   \n",
       " \n",
       "             1776.08  2064.08  489.58   1348.41  883.91   1220.66  1142.89  \n",
       " list_price        1        1        1        1        1        1        1  \n",
       " \n",
       " [1 rows x 296 columns],\n",
       "                388.920000   954.820000   53.620000    161.600000   \\\n",
       " standard_cost          465          396          274          235   \n",
       " \n",
       "                260.140000   677.480000   933.840000   598.760000   \\\n",
       " standard_cost          233          232          229          228   \n",
       " \n",
       "                507.580000   459.710000   ...  312.740000   56.930000    \\\n",
       " standard_cost          226          223  ...          168          163   \n",
       " \n",
       "                1043.770000  215.030000   770.890000   151.960000   \\\n",
       " standard_cost          157          141          126          124   \n",
       " \n",
       "                206.350000   270.299988   667.400024   312.735016   \n",
       " standard_cost          114            1            1            1  \n",
       " \n",
       " [1 rows x 103 columns],\n",
       "                          33879.0  41064.0  37823.0  39880.0  38216.0  38482.0  \\\n",
       " product_first_sold_date      234      229      227      222      220      219   \n",
       " \n",
       "                          40336.0  42560.0  38002.0  41009.0  ...  33552.0  \\\n",
       " product_first_sold_date      218      216      215      215  ...      179   \n",
       " \n",
       "                          34079.0  42145.0  40672.0  38991.0  41848.0  42404.0  \\\n",
       " product_first_sold_date      179      177      176      171      169      168   \n",
       " \n",
       "                          41922.0  37659.0  34586.0  \n",
       " product_first_sold_date      166      163      162  \n",
       " \n",
       " [1 rows x 100 columns]]"
      ]
     },
     "execution_count": 12,
     "metadata": {},
     "output_type": "execute_result"
    }
   ],
   "source": [
    "transactions_value_counts=[pd.DataFrame(transactions[transactions.columns[i]].value_counts()).T for i in range(len(transactions.columns))]\n",
    "transactions_value_counts"
   ]
  },
  {
   "cell_type": "code",
   "execution_count": 13,
   "metadata": {},
   "outputs": [
    {
     "data": {
      "text/html": [
       "<div>\n",
       "<style scoped>\n",
       "    .dataframe tbody tr th:only-of-type {\n",
       "        vertical-align: middle;\n",
       "    }\n",
       "\n",
       "    .dataframe tbody tr th {\n",
       "        vertical-align: top;\n",
       "    }\n",
       "\n",
       "    .dataframe thead th {\n",
       "        text-align: right;\n",
       "    }\n",
       "</style>\n",
       "<table border=\"1\" class=\"dataframe\">\n",
       "  <thead>\n",
       "    <tr style=\"text-align: right;\">\n",
       "      <th>transaction_date</th>\n",
       "      <th>January</th>\n",
       "      <th>February</th>\n",
       "      <th>March</th>\n",
       "      <th>April</th>\n",
       "      <th>May</th>\n",
       "      <th>June</th>\n",
       "      <th>July</th>\n",
       "      <th>August</th>\n",
       "      <th>September</th>\n",
       "      <th>October</th>\n",
       "      <th>November</th>\n",
       "      <th>December</th>\n",
       "    </tr>\n",
       "  </thead>\n",
       "  <tbody>\n",
       "    <tr>\n",
       "      <th>transaction_id</th>\n",
       "      <td>1682</td>\n",
       "      <td>1623</td>\n",
       "      <td>1656</td>\n",
       "      <td>1655</td>\n",
       "      <td>1685</td>\n",
       "      <td>1581</td>\n",
       "      <td>1717</td>\n",
       "      <td>1749</td>\n",
       "      <td>1572</td>\n",
       "      <td>1771</td>\n",
       "      <td>1665</td>\n",
       "      <td>1644</td>\n",
       "    </tr>\n",
       "  </tbody>\n",
       "</table>\n",
       "</div>"
      ],
      "text/plain": [
       "transaction_date  January  February  March  April   May  June  July  August  \\\n",
       "transaction_id       1682      1623   1656   1655  1685  1581  1717    1749   \n",
       "\n",
       "transaction_date  September  October  November  December  \n",
       "transaction_id         1572     1771      1665      1644  "
      ]
     },
     "execution_count": 13,
     "metadata": {},
     "output_type": "execute_result"
    }
   ],
   "source": [
    "monthly_transactions.T"
   ]
  },
  {
   "cell_type": "code",
   "execution_count": 14,
   "metadata": {},
   "outputs": [
    {
     "data": {
      "text/html": [
       "<div>\n",
       "<style scoped>\n",
       "    .dataframe tbody tr th:only-of-type {\n",
       "        vertical-align: middle;\n",
       "    }\n",
       "\n",
       "    .dataframe tbody tr th {\n",
       "        vertical-align: top;\n",
       "    }\n",
       "\n",
       "    .dataframe thead th {\n",
       "        text-align: right;\n",
       "    }\n",
       "</style>\n",
       "<table border=\"1\" class=\"dataframe\">\n",
       "  <thead>\n",
       "    <tr style=\"text-align: right;\">\n",
       "      <th></th>\n",
       "      <th>index</th>\n",
       "      <th>first_name</th>\n",
       "      <th>last_name</th>\n",
       "      <th>gender</th>\n",
       "      <th>past_3_years_bike_related_purchases</th>\n",
       "      <th>DOB</th>\n",
       "      <th>job_title</th>\n",
       "      <th>job_industry_category</th>\n",
       "      <th>wealth_segment</th>\n",
       "      <th>deceased_indicator</th>\n",
       "      <th>...</th>\n",
       "      <th>state</th>\n",
       "      <th>country</th>\n",
       "      <th>property_valuation</th>\n",
       "      <th>Unnamed: 16</th>\n",
       "      <th>Unnamed: 17</th>\n",
       "      <th>Unnamed: 18</th>\n",
       "      <th>Unnamed: 19</th>\n",
       "      <th>Unnamed: 20</th>\n",
       "      <th>Rank</th>\n",
       "      <th>Value</th>\n",
       "    </tr>\n",
       "  </thead>\n",
       "  <tbody>\n",
       "    <tr>\n",
       "      <th>0</th>\n",
       "      <td>0</td>\n",
       "      <td>Chickie</td>\n",
       "      <td>Brister</td>\n",
       "      <td>Male</td>\n",
       "      <td>86</td>\n",
       "      <td>1957-07-12</td>\n",
       "      <td>General Manager</td>\n",
       "      <td>Manufacturing</td>\n",
       "      <td>Mass Customer</td>\n",
       "      <td>N</td>\n",
       "      <td>...</td>\n",
       "      <td>QLD</td>\n",
       "      <td>Australia</td>\n",
       "      <td>6</td>\n",
       "      <td>0.56</td>\n",
       "      <td>0.7000</td>\n",
       "      <td>0.8750</td>\n",
       "      <td>0.743750</td>\n",
       "      <td>1</td>\n",
       "      <td>1</td>\n",
       "      <td>1.718750</td>\n",
       "    </tr>\n",
       "    <tr>\n",
       "      <th>1</th>\n",
       "      <td>1</td>\n",
       "      <td>Morly</td>\n",
       "      <td>Genery</td>\n",
       "      <td>Male</td>\n",
       "      <td>69</td>\n",
       "      <td>1970-03-22</td>\n",
       "      <td>Structural Engineer</td>\n",
       "      <td>Property</td>\n",
       "      <td>Mass Customer</td>\n",
       "      <td>N</td>\n",
       "      <td>...</td>\n",
       "      <td>NSW</td>\n",
       "      <td>Australia</td>\n",
       "      <td>11</td>\n",
       "      <td>0.89</td>\n",
       "      <td>0.8900</td>\n",
       "      <td>1.1125</td>\n",
       "      <td>0.945625</td>\n",
       "      <td>1</td>\n",
       "      <td>1</td>\n",
       "      <td>1.718750</td>\n",
       "    </tr>\n",
       "    <tr>\n",
       "      <th>2</th>\n",
       "      <td>2</td>\n",
       "      <td>Ardelis</td>\n",
       "      <td>Forrester</td>\n",
       "      <td>Female</td>\n",
       "      <td>10</td>\n",
       "      <td>1974-08-28</td>\n",
       "      <td>Senior Cost Accountant</td>\n",
       "      <td>Financial Services</td>\n",
       "      <td>Affluent Customer</td>\n",
       "      <td>N</td>\n",
       "      <td>...</td>\n",
       "      <td>VIC</td>\n",
       "      <td>Australia</td>\n",
       "      <td>5</td>\n",
       "      <td>1.01</td>\n",
       "      <td>1.0100</td>\n",
       "      <td>1.0100</td>\n",
       "      <td>1.010000</td>\n",
       "      <td>1</td>\n",
       "      <td>1</td>\n",
       "      <td>1.718750</td>\n",
       "    </tr>\n",
       "    <tr>\n",
       "      <th>3</th>\n",
       "      <td>3</td>\n",
       "      <td>Lucine</td>\n",
       "      <td>Stutt</td>\n",
       "      <td>Female</td>\n",
       "      <td>64</td>\n",
       "      <td>1979-01-28</td>\n",
       "      <td>Account Representative III</td>\n",
       "      <td>Manufacturing</td>\n",
       "      <td>Affluent Customer</td>\n",
       "      <td>N</td>\n",
       "      <td>...</td>\n",
       "      <td>QLD</td>\n",
       "      <td>Australia</td>\n",
       "      <td>1</td>\n",
       "      <td>0.87</td>\n",
       "      <td>1.0875</td>\n",
       "      <td>1.0875</td>\n",
       "      <td>1.087500</td>\n",
       "      <td>4</td>\n",
       "      <td>4</td>\n",
       "      <td>1.703125</td>\n",
       "    </tr>\n",
       "    <tr>\n",
       "      <th>4</th>\n",
       "      <td>4</td>\n",
       "      <td>Melinda</td>\n",
       "      <td>Hadlee</td>\n",
       "      <td>Female</td>\n",
       "      <td>34</td>\n",
       "      <td>1965-09-21</td>\n",
       "      <td>Financial Analyst</td>\n",
       "      <td>Financial Services</td>\n",
       "      <td>Affluent Customer</td>\n",
       "      <td>N</td>\n",
       "      <td>...</td>\n",
       "      <td>NSW</td>\n",
       "      <td>Australia</td>\n",
       "      <td>9</td>\n",
       "      <td>0.52</td>\n",
       "      <td>0.5200</td>\n",
       "      <td>0.6500</td>\n",
       "      <td>0.650000</td>\n",
       "      <td>4</td>\n",
       "      <td>4</td>\n",
       "      <td>1.703125</td>\n",
       "    </tr>\n",
       "  </tbody>\n",
       "</table>\n",
       "<p>5 rows × 24 columns</p>\n",
       "</div>"
      ],
      "text/plain": [
       "   index first_name  last_name  gender  past_3_years_bike_related_purchases  \\\n",
       "0      0    Chickie    Brister    Male                                   86   \n",
       "1      1      Morly     Genery    Male                                   69   \n",
       "2      2    Ardelis  Forrester  Female                                   10   \n",
       "3      3     Lucine      Stutt  Female                                   64   \n",
       "4      4    Melinda     Hadlee  Female                                   34   \n",
       "\n",
       "         DOB                   job_title job_industry_category  \\\n",
       "0 1957-07-12             General Manager         Manufacturing   \n",
       "1 1970-03-22         Structural Engineer              Property   \n",
       "2 1974-08-28      Senior Cost Accountant    Financial Services   \n",
       "3 1979-01-28  Account Representative III         Manufacturing   \n",
       "4 1965-09-21           Financial Analyst    Financial Services   \n",
       "\n",
       "      wealth_segment deceased_indicator  ... state    country  \\\n",
       "0      Mass Customer                  N  ...   QLD  Australia   \n",
       "1      Mass Customer                  N  ...   NSW  Australia   \n",
       "2  Affluent Customer                  N  ...   VIC  Australia   \n",
       "3  Affluent Customer                  N  ...   QLD  Australia   \n",
       "4  Affluent Customer                  N  ...   NSW  Australia   \n",
       "\n",
       "  property_valuation  Unnamed: 16 Unnamed: 17 Unnamed: 18  Unnamed: 19  \\\n",
       "0                  6         0.56      0.7000      0.8750     0.743750   \n",
       "1                 11         0.89      0.8900      1.1125     0.945625   \n",
       "2                  5         1.01      1.0100      1.0100     1.010000   \n",
       "3                  1         0.87      1.0875      1.0875     1.087500   \n",
       "4                  9         0.52      0.5200      0.6500     0.650000   \n",
       "\n",
       "   Unnamed: 20  Rank     Value  \n",
       "0            1     1  1.718750  \n",
       "1            1     1  1.718750  \n",
       "2            1     1  1.718750  \n",
       "3            4     4  1.703125  \n",
       "4            4     4  1.703125  \n",
       "\n",
       "[5 rows x 24 columns]"
      ]
     },
     "execution_count": 14,
     "metadata": {},
     "output_type": "execute_result"
    }
   ],
   "source": [
    "new_customer_list=pd.read_excel('Sprocket Central Data - KPMG.xlsx',sheet_name='NewCustomerList',skiprows=1).reset_index()\n",
    "new_customer_list.to_csv('new_customer_list.csv') # Remove extra column created\n",
    "new_customer_list.head()"
   ]
  },
  {
   "cell_type": "code",
   "execution_count": 15,
   "metadata": {},
   "outputs": [
    {
     "data": {
      "text/html": [
       "<div>\n",
       "<style scoped>\n",
       "    .dataframe tbody tr th:only-of-type {\n",
       "        vertical-align: middle;\n",
       "    }\n",
       "\n",
       "    .dataframe tbody tr th {\n",
       "        vertical-align: top;\n",
       "    }\n",
       "\n",
       "    .dataframe thead th {\n",
       "        text-align: right;\n",
       "    }\n",
       "</style>\n",
       "<table border=\"1\" class=\"dataframe\">\n",
       "  <thead>\n",
       "    <tr style=\"text-align: right;\">\n",
       "      <th></th>\n",
       "      <th>transaction_id</th>\n",
       "      <th>product_id</th>\n",
       "      <th>customer_id</th>\n",
       "      <th>transaction_date</th>\n",
       "      <th>online_order</th>\n",
       "      <th>order_status</th>\n",
       "      <th>brand</th>\n",
       "      <th>product_line</th>\n",
       "      <th>product_class</th>\n",
       "      <th>product_size</th>\n",
       "      <th>list_price</th>\n",
       "      <th>standard_cost</th>\n",
       "      <th>product_first_sold_date</th>\n",
       "    </tr>\n",
       "  </thead>\n",
       "  <tbody>\n",
       "    <tr>\n",
       "      <th>34</th>\n",
       "      <td>35</td>\n",
       "      <td>0</td>\n",
       "      <td>2171</td>\n",
       "      <td>2017-08-20</td>\n",
       "      <td>0.0</td>\n",
       "      <td>Approved</td>\n",
       "      <td>Norco Bicycles</td>\n",
       "      <td>Road</td>\n",
       "      <td>medium</td>\n",
       "      <td>medium</td>\n",
       "      <td>544.05</td>\n",
       "      <td>376.84</td>\n",
       "      <td>38647.0</td>\n",
       "    </tr>\n",
       "    <tr>\n",
       "      <th>39</th>\n",
       "      <td>40</td>\n",
       "      <td>0</td>\n",
       "      <td>2448</td>\n",
       "      <td>2017-11-28</td>\n",
       "      <td>1.0</td>\n",
       "      <td>Approved</td>\n",
       "      <td>Norco Bicycles</td>\n",
       "      <td>Road</td>\n",
       "      <td>medium</td>\n",
       "      <td>medium</td>\n",
       "      <td>544.05</td>\n",
       "      <td>376.84</td>\n",
       "      <td>38647.0</td>\n",
       "    </tr>\n",
       "    <tr>\n",
       "      <th>54</th>\n",
       "      <td>55</td>\n",
       "      <td>0</td>\n",
       "      <td>3140</td>\n",
       "      <td>2017-09-18</td>\n",
       "      <td>0.0</td>\n",
       "      <td>Approved</td>\n",
       "      <td>Norco Bicycles</td>\n",
       "      <td>Standard</td>\n",
       "      <td>low</td>\n",
       "      <td>medium</td>\n",
       "      <td>363.01</td>\n",
       "      <td>290.41</td>\n",
       "      <td>38482.0</td>\n",
       "    </tr>\n",
       "    <tr>\n",
       "      <th>60</th>\n",
       "      <td>61</td>\n",
       "      <td>0</td>\n",
       "      <td>1839</td>\n",
       "      <td>2017-02-24</td>\n",
       "      <td>0.0</td>\n",
       "      <td>Approved</td>\n",
       "      <td>OHM Cycles</td>\n",
       "      <td>Road</td>\n",
       "      <td>high</td>\n",
       "      <td>large</td>\n",
       "      <td>12.01</td>\n",
       "      <td>7.21</td>\n",
       "      <td>34244.0</td>\n",
       "    </tr>\n",
       "    <tr>\n",
       "      <th>63</th>\n",
       "      <td>64</td>\n",
       "      <td>0</td>\n",
       "      <td>2000</td>\n",
       "      <td>2017-07-08</td>\n",
       "      <td>0.0</td>\n",
       "      <td>Approved</td>\n",
       "      <td>Trek Bicycles</td>\n",
       "      <td>Standard</td>\n",
       "      <td>medium</td>\n",
       "      <td>medium</td>\n",
       "      <td>499.53</td>\n",
       "      <td>388.72</td>\n",
       "      <td>39031.0</td>\n",
       "    </tr>\n",
       "    <tr>\n",
       "      <th>...</th>\n",
       "      <td>...</td>\n",
       "      <td>...</td>\n",
       "      <td>...</td>\n",
       "      <td>...</td>\n",
       "      <td>...</td>\n",
       "      <td>...</td>\n",
       "      <td>...</td>\n",
       "      <td>...</td>\n",
       "      <td>...</td>\n",
       "      <td>...</td>\n",
       "      <td>...</td>\n",
       "      <td>...</td>\n",
       "      <td>...</td>\n",
       "    </tr>\n",
       "    <tr>\n",
       "      <th>19921</th>\n",
       "      <td>19922</td>\n",
       "      <td>0</td>\n",
       "      <td>1869</td>\n",
       "      <td>2017-01-06</td>\n",
       "      <td>1.0</td>\n",
       "      <td>Approved</td>\n",
       "      <td>Norco Bicycles</td>\n",
       "      <td>Road</td>\n",
       "      <td>medium</td>\n",
       "      <td>medium</td>\n",
       "      <td>543.39</td>\n",
       "      <td>407.54</td>\n",
       "      <td>37698.0</td>\n",
       "    </tr>\n",
       "    <tr>\n",
       "      <th>19941</th>\n",
       "      <td>19942</td>\n",
       "      <td>0</td>\n",
       "      <td>966</td>\n",
       "      <td>2017-07-30</td>\n",
       "      <td>1.0</td>\n",
       "      <td>Approved</td>\n",
       "      <td>OHM Cycles</td>\n",
       "      <td>Standard</td>\n",
       "      <td>low</td>\n",
       "      <td>medium</td>\n",
       "      <td>71.16</td>\n",
       "      <td>56.93</td>\n",
       "      <td>38647.0</td>\n",
       "    </tr>\n",
       "    <tr>\n",
       "      <th>19967</th>\n",
       "      <td>19968</td>\n",
       "      <td>0</td>\n",
       "      <td>2751</td>\n",
       "      <td>2017-04-06</td>\n",
       "      <td>0.0</td>\n",
       "      <td>Approved</td>\n",
       "      <td>WeareA2B</td>\n",
       "      <td>Standard</td>\n",
       "      <td>medium</td>\n",
       "      <td>medium</td>\n",
       "      <td>60.34</td>\n",
       "      <td>45.26</td>\n",
       "      <td>34165.0</td>\n",
       "    </tr>\n",
       "    <tr>\n",
       "      <th>19987</th>\n",
       "      <td>19988</td>\n",
       "      <td>0</td>\n",
       "      <td>13</td>\n",
       "      <td>2017-04-05</td>\n",
       "      <td>1.0</td>\n",
       "      <td>Approved</td>\n",
       "      <td>Norco Bicycles</td>\n",
       "      <td>Road</td>\n",
       "      <td>medium</td>\n",
       "      <td>medium</td>\n",
       "      <td>544.05</td>\n",
       "      <td>376.84</td>\n",
       "      <td>42105.0</td>\n",
       "    </tr>\n",
       "    <tr>\n",
       "      <th>19988</th>\n",
       "      <td>19989</td>\n",
       "      <td>0</td>\n",
       "      <td>714</td>\n",
       "      <td>2017-04-27</td>\n",
       "      <td>1.0</td>\n",
       "      <td>Approved</td>\n",
       "      <td>Norco Bicycles</td>\n",
       "      <td>Standard</td>\n",
       "      <td>low</td>\n",
       "      <td>medium</td>\n",
       "      <td>363.01</td>\n",
       "      <td>290.41</td>\n",
       "      <td>37626.0</td>\n",
       "    </tr>\n",
       "  </tbody>\n",
       "</table>\n",
       "<p>1378 rows × 13 columns</p>\n",
       "</div>"
      ],
      "text/plain": [
       "       transaction_id  product_id  customer_id transaction_date  online_order  \\\n",
       "34                 35           0         2171       2017-08-20           0.0   \n",
       "39                 40           0         2448       2017-11-28           1.0   \n",
       "54                 55           0         3140       2017-09-18           0.0   \n",
       "60                 61           0         1839       2017-02-24           0.0   \n",
       "63                 64           0         2000       2017-07-08           0.0   \n",
       "...               ...         ...          ...              ...           ...   \n",
       "19921           19922           0         1869       2017-01-06           1.0   \n",
       "19941           19942           0          966       2017-07-30           1.0   \n",
       "19967           19968           0         2751       2017-04-06           0.0   \n",
       "19987           19988           0           13       2017-04-05           1.0   \n",
       "19988           19989           0          714       2017-04-27           1.0   \n",
       "\n",
       "      order_status           brand product_line product_class product_size  \\\n",
       "34        Approved  Norco Bicycles         Road        medium       medium   \n",
       "39        Approved  Norco Bicycles         Road        medium       medium   \n",
       "54        Approved  Norco Bicycles     Standard           low       medium   \n",
       "60        Approved      OHM Cycles         Road          high        large   \n",
       "63        Approved   Trek Bicycles     Standard        medium       medium   \n",
       "...            ...             ...          ...           ...          ...   \n",
       "19921     Approved  Norco Bicycles         Road        medium       medium   \n",
       "19941     Approved      OHM Cycles     Standard           low       medium   \n",
       "19967     Approved        WeareA2B     Standard        medium       medium   \n",
       "19987     Approved  Norco Bicycles         Road        medium       medium   \n",
       "19988     Approved  Norco Bicycles     Standard           low       medium   \n",
       "\n",
       "       list_price  standard_cost  product_first_sold_date  \n",
       "34         544.05         376.84                  38647.0  \n",
       "39         544.05         376.84                  38647.0  \n",
       "54         363.01         290.41                  38482.0  \n",
       "60          12.01           7.21                  34244.0  \n",
       "63         499.53         388.72                  39031.0  \n",
       "...           ...            ...                      ...  \n",
       "19921      543.39         407.54                  37698.0  \n",
       "19941       71.16          56.93                  38647.0  \n",
       "19967       60.34          45.26                  34165.0  \n",
       "19987      544.05         376.84                  42105.0  \n",
       "19988      363.01         290.41                  37626.0  \n",
       "\n",
       "[1378 rows x 13 columns]"
      ]
     },
     "execution_count": 15,
     "metadata": {},
     "output_type": "execute_result"
    }
   ],
   "source": [
    "transactions.loc[transactions['product_id']==0]"
   ]
  },
  {
   "cell_type": "code",
   "execution_count": 16,
   "metadata": {},
   "outputs": [
    {
     "data": {
      "text/plain": [
       "(1000, 24)"
      ]
     },
     "execution_count": 16,
     "metadata": {},
     "output_type": "execute_result"
    }
   ],
   "source": [
    "new_customer_list.shape"
   ]
  },
  {
   "cell_type": "code",
   "execution_count": 17,
   "metadata": {},
   "outputs": [
    {
     "data": {
      "text/plain": [
       "index                                  1000\n",
       "first_name                             1000\n",
       "last_name                               971\n",
       "gender                                 1000\n",
       "past_3_years_bike_related_purchases    1000\n",
       "DOB                                     983\n",
       "job_title                               894\n",
       "job_industry_category                   835\n",
       "wealth_segment                         1000\n",
       "deceased_indicator                     1000\n",
       "owns_car                               1000\n",
       "tenure                                 1000\n",
       "address                                1000\n",
       "postcode                               1000\n",
       "state                                  1000\n",
       "country                                1000\n",
       "property_valuation                     1000\n",
       "Unnamed: 16                            1000\n",
       "Unnamed: 17                            1000\n",
       "Unnamed: 18                            1000\n",
       "Unnamed: 19                            1000\n",
       "Unnamed: 20                            1000\n",
       "Rank                                   1000\n",
       "Value                                  1000\n",
       "dtype: int64"
      ]
     },
     "execution_count": 17,
     "metadata": {},
     "output_type": "execute_result"
    }
   ],
   "source": [
    "new_customer_list.count()"
   ]
  },
  {
   "cell_type": "code",
   "execution_count": 18,
   "metadata": {},
   "outputs": [
    {
     "data": {
      "text/plain": [
       "0.983"
      ]
     },
     "execution_count": 18,
     "metadata": {},
     "output_type": "execute_result"
    }
   ],
   "source": [
    "new_customer_list['DOB'].count() / len(new_customer_list)"
   ]
  },
  {
   "cell_type": "code",
   "execution_count": 19,
   "metadata": {},
   "outputs": [],
   "source": [
    "new_customer_list_complete_rows_count=len(new_customer_list.columns[new_customer_list.count() == new_customer_list.shape[0]])"
   ]
  },
  {
   "cell_type": "code",
   "execution_count": 20,
   "metadata": {},
   "outputs": [
    {
     "data": {
      "text/plain": [
       "0.8333333333333334"
      ]
     },
     "execution_count": 20,
     "metadata": {},
     "output_type": "execute_result"
    }
   ],
   "source": [
    "new_customer_list_complete_rows_count / len(new_customer_list.count())"
   ]
  },
  {
   "cell_type": "code",
   "execution_count": 21,
   "metadata": {},
   "outputs": [
    {
     "data": {
      "text/html": [
       "<div>\n",
       "<style scoped>\n",
       "    .dataframe tbody tr th:only-of-type {\n",
       "        vertical-align: middle;\n",
       "    }\n",
       "\n",
       "    .dataframe tbody tr th {\n",
       "        vertical-align: top;\n",
       "    }\n",
       "\n",
       "    .dataframe thead th {\n",
       "        text-align: right;\n",
       "    }\n",
       "</style>\n",
       "<table border=\"1\" class=\"dataframe\">\n",
       "  <thead>\n",
       "    <tr style=\"text-align: right;\">\n",
       "      <th></th>\n",
       "      <th>index</th>\n",
       "      <th>first_name</th>\n",
       "      <th>last_name</th>\n",
       "      <th>gender</th>\n",
       "      <th>past_3_years_bike_related_purchases</th>\n",
       "      <th>DOB</th>\n",
       "      <th>job_title</th>\n",
       "      <th>job_industry_category</th>\n",
       "      <th>wealth_segment</th>\n",
       "      <th>deceased_indicator</th>\n",
       "      <th>...</th>\n",
       "      <th>state</th>\n",
       "      <th>country</th>\n",
       "      <th>property_valuation</th>\n",
       "      <th>Unnamed: 16</th>\n",
       "      <th>Unnamed: 17</th>\n",
       "      <th>Unnamed: 18</th>\n",
       "      <th>Unnamed: 19</th>\n",
       "      <th>Unnamed: 20</th>\n",
       "      <th>Rank</th>\n",
       "      <th>Value</th>\n",
       "    </tr>\n",
       "  </thead>\n",
       "  <tbody>\n",
       "  </tbody>\n",
       "</table>\n",
       "<p>0 rows × 24 columns</p>\n",
       "</div>"
      ],
      "text/plain": [
       "Empty DataFrame\n",
       "Columns: [index, first_name, last_name, gender, past_3_years_bike_related_purchases, DOB, job_title, job_industry_category, wealth_segment, deceased_indicator, owns_car, tenure, address, postcode, state, country, property_valuation, Unnamed: 16, Unnamed: 17, Unnamed: 18, Unnamed: 19, Unnamed: 20, Rank, Value]\n",
       "Index: []\n",
       "\n",
       "[0 rows x 24 columns]"
      ]
     },
     "execution_count": 21,
     "metadata": {},
     "output_type": "execute_result"
    }
   ],
   "source": [
    "new_customer_list[new_customer_list.duplicated(['first_name','last_name'])]"
   ]
  },
  {
   "cell_type": "code",
   "execution_count": 22,
   "metadata": {},
   "outputs": [],
   "source": [
    "# Checking duplicated first names by last names to find potential duplicates\n",
    "# new_customer_list[new_customer_list.duplicated(['first_name'])].sort_values('last_name')"
   ]
  },
  {
   "cell_type": "code",
   "execution_count": 23,
   "metadata": {},
   "outputs": [
    {
     "data": {
      "text/plain": [
       "23683"
      ]
     },
     "execution_count": 23,
     "metadata": {},
     "output_type": "execute_result"
    }
   ],
   "source": [
    "new_customer_list.count().sum()"
   ]
  },
  {
   "cell_type": "code",
   "execution_count": 24,
   "metadata": {},
   "outputs": [
    {
     "data": {
      "text/plain": [
       "24000"
      ]
     },
     "execution_count": 24,
     "metadata": {},
     "output_type": "execute_result"
    }
   ],
   "source": [
    "(len(new_customer_list.columns) * len(new_customer_list))"
   ]
  },
  {
   "cell_type": "code",
   "execution_count": 25,
   "metadata": {},
   "outputs": [
    {
     "data": {
      "text/plain": [
       "0.9867916666666666"
      ]
     },
     "execution_count": 25,
     "metadata": {},
     "output_type": "execute_result"
    }
   ],
   "source": [
    "new_customer_list.count().sum() / (len(new_customer_list.columns) * len(new_customer_list))"
   ]
  },
  {
   "cell_type": "code",
   "execution_count": 26,
   "metadata": {},
   "outputs": [
    {
     "name": "stdout",
     "output_type": "stream",
     "text": [
      "Percentage of rows missing key data: 0.165\n"
     ]
    }
   ],
   "source": [
    "print('Percentage of rows missing key data:',165/len(new_customer_list))\n",
    "# For the missing date of births, we can group by wealth_segment and insert those averages accordingly"
   ]
  },
  {
   "cell_type": "code",
   "execution_count": 27,
   "metadata": {},
   "outputs": [
    {
     "data": {
      "text/html": [
       "<div>\n",
       "<style scoped>\n",
       "    .dataframe tbody tr th:only-of-type {\n",
       "        vertical-align: middle;\n",
       "    }\n",
       "\n",
       "    .dataframe tbody tr th {\n",
       "        vertical-align: top;\n",
       "    }\n",
       "\n",
       "    .dataframe thead th {\n",
       "        text-align: right;\n",
       "    }\n",
       "</style>\n",
       "<table border=\"1\" class=\"dataframe\">\n",
       "  <thead>\n",
       "    <tr style=\"text-align: right;\">\n",
       "      <th></th>\n",
       "      <th>index</th>\n",
       "      <th>past_3_years_bike_related_purchases</th>\n",
       "      <th>tenure</th>\n",
       "      <th>postcode</th>\n",
       "      <th>property_valuation</th>\n",
       "      <th>Unnamed: 16</th>\n",
       "      <th>Unnamed: 17</th>\n",
       "      <th>Unnamed: 18</th>\n",
       "      <th>Unnamed: 19</th>\n",
       "      <th>Unnamed: 20</th>\n",
       "      <th>Rank</th>\n",
       "      <th>Value</th>\n",
       "    </tr>\n",
       "  </thead>\n",
       "  <tbody>\n",
       "    <tr>\n",
       "      <th>count</th>\n",
       "      <td>1000.000000</td>\n",
       "      <td>1000.000000</td>\n",
       "      <td>1000.000000</td>\n",
       "      <td>1000.000000</td>\n",
       "      <td>1000.000000</td>\n",
       "      <td>1000.000000</td>\n",
       "      <td>1000.000000</td>\n",
       "      <td>1000.000000</td>\n",
       "      <td>1000.000000</td>\n",
       "      <td>1000.000000</td>\n",
       "      <td>1000.000000</td>\n",
       "      <td>1000.000000</td>\n",
       "    </tr>\n",
       "    <tr>\n",
       "      <th>mean</th>\n",
       "      <td>499.500000</td>\n",
       "      <td>49.836000</td>\n",
       "      <td>11.388000</td>\n",
       "      <td>3019.227000</td>\n",
       "      <td>7.397000</td>\n",
       "      <td>0.747340</td>\n",
       "      <td>0.839005</td>\n",
       "      <td>0.942673</td>\n",
       "      <td>0.870514</td>\n",
       "      <td>498.819000</td>\n",
       "      <td>498.819000</td>\n",
       "      <td>0.881714</td>\n",
       "    </tr>\n",
       "    <tr>\n",
       "      <th>std</th>\n",
       "      <td>288.819436</td>\n",
       "      <td>27.796686</td>\n",
       "      <td>5.037145</td>\n",
       "      <td>848.895767</td>\n",
       "      <td>2.758804</td>\n",
       "      <td>0.205082</td>\n",
       "      <td>0.248858</td>\n",
       "      <td>0.294832</td>\n",
       "      <td>0.280891</td>\n",
       "      <td>288.810997</td>\n",
       "      <td>288.810997</td>\n",
       "      <td>0.293525</td>\n",
       "    </tr>\n",
       "    <tr>\n",
       "      <th>min</th>\n",
       "      <td>0.000000</td>\n",
       "      <td>0.000000</td>\n",
       "      <td>0.000000</td>\n",
       "      <td>2000.000000</td>\n",
       "      <td>1.000000</td>\n",
       "      <td>0.400000</td>\n",
       "      <td>0.400000</td>\n",
       "      <td>0.400000</td>\n",
       "      <td>0.340000</td>\n",
       "      <td>1.000000</td>\n",
       "      <td>1.000000</td>\n",
       "      <td>0.340000</td>\n",
       "    </tr>\n",
       "    <tr>\n",
       "      <th>25%</th>\n",
       "      <td>249.750000</td>\n",
       "      <td>26.750000</td>\n",
       "      <td>7.000000</td>\n",
       "      <td>2209.000000</td>\n",
       "      <td>6.000000</td>\n",
       "      <td>0.570000</td>\n",
       "      <td>0.637500</td>\n",
       "      <td>0.712500</td>\n",
       "      <td>0.658750</td>\n",
       "      <td>250.000000</td>\n",
       "      <td>250.000000</td>\n",
       "      <td>0.649531</td>\n",
       "    </tr>\n",
       "    <tr>\n",
       "      <th>50%</th>\n",
       "      <td>499.500000</td>\n",
       "      <td>51.000000</td>\n",
       "      <td>11.000000</td>\n",
       "      <td>2800.000000</td>\n",
       "      <td>8.000000</td>\n",
       "      <td>0.750000</td>\n",
       "      <td>0.820000</td>\n",
       "      <td>0.912500</td>\n",
       "      <td>0.842625</td>\n",
       "      <td>500.000000</td>\n",
       "      <td>500.000000</td>\n",
       "      <td>0.860000</td>\n",
       "    </tr>\n",
       "    <tr>\n",
       "      <th>75%</th>\n",
       "      <td>749.250000</td>\n",
       "      <td>72.000000</td>\n",
       "      <td>15.000000</td>\n",
       "      <td>3845.500000</td>\n",
       "      <td>9.000000</td>\n",
       "      <td>0.920000</td>\n",
       "      <td>1.031875</td>\n",
       "      <td>1.142969</td>\n",
       "      <td>1.062500</td>\n",
       "      <td>750.250000</td>\n",
       "      <td>750.250000</td>\n",
       "      <td>1.075000</td>\n",
       "    </tr>\n",
       "    <tr>\n",
       "      <th>max</th>\n",
       "      <td>999.000000</td>\n",
       "      <td>99.000000</td>\n",
       "      <td>22.000000</td>\n",
       "      <td>4879.000000</td>\n",
       "      <td>12.000000</td>\n",
       "      <td>1.100000</td>\n",
       "      <td>1.375000</td>\n",
       "      <td>1.718750</td>\n",
       "      <td>1.718750</td>\n",
       "      <td>1000.000000</td>\n",
       "      <td>1000.000000</td>\n",
       "      <td>1.718750</td>\n",
       "    </tr>\n",
       "  </tbody>\n",
       "</table>\n",
       "</div>"
      ],
      "text/plain": [
       "             index  past_3_years_bike_related_purchases       tenure  \\\n",
       "count  1000.000000                          1000.000000  1000.000000   \n",
       "mean    499.500000                            49.836000    11.388000   \n",
       "std     288.819436                            27.796686     5.037145   \n",
       "min       0.000000                             0.000000     0.000000   \n",
       "25%     249.750000                            26.750000     7.000000   \n",
       "50%     499.500000                            51.000000    11.000000   \n",
       "75%     749.250000                            72.000000    15.000000   \n",
       "max     999.000000                            99.000000    22.000000   \n",
       "\n",
       "          postcode  property_valuation  Unnamed: 16  Unnamed: 17  Unnamed: 18  \\\n",
       "count  1000.000000         1000.000000  1000.000000  1000.000000  1000.000000   \n",
       "mean   3019.227000            7.397000     0.747340     0.839005     0.942673   \n",
       "std     848.895767            2.758804     0.205082     0.248858     0.294832   \n",
       "min    2000.000000            1.000000     0.400000     0.400000     0.400000   \n",
       "25%    2209.000000            6.000000     0.570000     0.637500     0.712500   \n",
       "50%    2800.000000            8.000000     0.750000     0.820000     0.912500   \n",
       "75%    3845.500000            9.000000     0.920000     1.031875     1.142969   \n",
       "max    4879.000000           12.000000     1.100000     1.375000     1.718750   \n",
       "\n",
       "       Unnamed: 19  Unnamed: 20         Rank        Value  \n",
       "count  1000.000000  1000.000000  1000.000000  1000.000000  \n",
       "mean      0.870514   498.819000   498.819000     0.881714  \n",
       "std       0.280891   288.810997   288.810997     0.293525  \n",
       "min       0.340000     1.000000     1.000000     0.340000  \n",
       "25%       0.658750   250.000000   250.000000     0.649531  \n",
       "50%       0.842625   500.000000   500.000000     0.860000  \n",
       "75%       1.062500   750.250000   750.250000     1.075000  \n",
       "max       1.718750  1000.000000  1000.000000     1.718750  "
      ]
     },
     "execution_count": 27,
     "metadata": {},
     "output_type": "execute_result"
    }
   ],
   "source": [
    "new_customer_list.describe()"
   ]
  },
  {
   "cell_type": "code",
   "execution_count": 28,
   "metadata": {},
   "outputs": [
    {
     "data": {
      "text/plain": [
       "Index(['index', 'first_name', 'last_name', 'gender',\n",
       "       'past_3_years_bike_related_purchases', 'DOB', 'job_title',\n",
       "       'job_industry_category', 'wealth_segment', 'deceased_indicator',\n",
       "       'owns_car', 'tenure', 'address', 'postcode', 'state', 'country',\n",
       "       'property_valuation', 'Unnamed: 16', 'Unnamed: 17', 'Unnamed: 18',\n",
       "       'Unnamed: 19', 'Unnamed: 20', 'Rank', 'Value'],\n",
       "      dtype='object')"
      ]
     },
     "execution_count": 28,
     "metadata": {},
     "output_type": "execute_result"
    }
   ],
   "source": [
    "new_customer_list.columns"
   ]
  },
  {
   "cell_type": "code",
   "execution_count": 29,
   "metadata": {},
   "outputs": [
    {
     "data": {
      "image/png": "[encoded data removed]",
      "text/plain": [
       "<Figure size 1080x720 with 1 Axes>"
      ]
     },
     "metadata": {
      "needs_background": "light"
     },
     "output_type": "display_data"
    }
   ],
   "source": [
    "new_customer_by_year=new_customer_list.set_index('DOB')['index'].resample('Y').nunique()\n",
    "new_customer_by_year_plot=new_customer_by_year.plot(figsize=(15,10)).set_title('New Customers by Birth Year')\n",
    "new_customer_by_year_plot;"
   ]
  },
  {
   "cell_type": "code",
   "execution_count": 30,
   "metadata": {},
   "outputs": [],
   "source": [
    "new_customer_by_year_plot.figure.savefig('New Customers by Birth Year.png')"
   ]
  },
  {
   "cell_type": "code",
   "execution_count": 31,
   "metadata": {},
   "outputs": [
    {
     "data": {
      "text/plain": [
       "DOB\n",
       "1938-12-31    11\n",
       "1939-12-31    13\n",
       "1940-12-31    13\n",
       "1941-12-31     9\n",
       "1942-12-31     8\n",
       "              ..\n",
       "1998-12-31    14\n",
       "1999-12-31    19\n",
       "2000-12-31    11\n",
       "2001-12-31     9\n",
       "2002-12-31     3\n",
       "Name: index, Length: 65, dtype: int64"
      ]
     },
     "execution_count": 31,
     "metadata": {},
     "output_type": "execute_result"
    }
   ],
   "source": [
    "new_customer_by_year"
   ]
  },
  {
   "cell_type": "code",
   "execution_count": 32,
   "metadata": {},
   "outputs": [],
   "source": [
    "new_customer_dummies=pd.get_dummies(new_customer_list[['wealth_segment']])\n",
    "new_customer_list_dummies=pd.concat([new_customer_list['DOB'],new_customer_dummies],axis=1)\n",
    "new_customer_by_year_by_wealth=new_customer_list_dummies.groupby(new_customer_list_dummies.set_index('DOB').index.year).sum()"
   ]
  },
  {
   "cell_type": "code",
   "execution_count": 33,
   "metadata": {},
   "outputs": [
    {
     "data": {
      "image/png": "[encoded data removed]",
      "text/plain": [
       "<Figure size 1080x720 with 1 Axes>"
      ]
     },
     "metadata": {
      "needs_background": "light"
     },
     "output_type": "display_data"
    }
   ],
   "source": [
    "new_customer_by_year_by_wealth_plot=new_customer_by_year_by_wealth.plot(figsize=(15,10)).set_title('New Customers by Wealth by Birth Year')\n",
    "new_customer_by_year_by_wealth_plot;"
   ]
  },
  {
   "cell_type": "code",
   "execution_count": 34,
   "metadata": {},
   "outputs": [],
   "source": [
    "new_customer_by_year_by_wealth_plot.figure.savefig('New Customers by Wealth by Birth Year.png')"
   ]
  },
  {
   "cell_type": "code",
   "execution_count": 35,
   "metadata": {},
   "outputs": [
    {
     "data": {
      "text/html": [
       "<div>\n",
       "<style scoped>\n",
       "    .dataframe tbody tr th:only-of-type {\n",
       "        vertical-align: middle;\n",
       "    }\n",
       "\n",
       "    .dataframe tbody tr th {\n",
       "        vertical-align: top;\n",
       "    }\n",
       "\n",
       "    .dataframe thead th {\n",
       "        text-align: right;\n",
       "    }\n",
       "</style>\n",
       "<table border=\"1\" class=\"dataframe\">\n",
       "  <thead>\n",
       "    <tr style=\"text-align: right;\">\n",
       "      <th></th>\n",
       "      <th>wealth_segment_Affluent Customer</th>\n",
       "      <th>wealth_segment_High Net Worth</th>\n",
       "      <th>wealth_segment_Mass Customer</th>\n",
       "    </tr>\n",
       "    <tr>\n",
       "      <th>DOB</th>\n",
       "      <th></th>\n",
       "      <th></th>\n",
       "      <th></th>\n",
       "    </tr>\n",
       "  </thead>\n",
       "  <tbody>\n",
       "    <tr>\n",
       "      <th>1938.0</th>\n",
       "      <td>3</td>\n",
       "      <td>2</td>\n",
       "      <td>6</td>\n",
       "    </tr>\n",
       "    <tr>\n",
       "      <th>1939.0</th>\n",
       "      <td>4</td>\n",
       "      <td>2</td>\n",
       "      <td>7</td>\n",
       "    </tr>\n",
       "    <tr>\n",
       "      <th>1940.0</th>\n",
       "      <td>2</td>\n",
       "      <td>3</td>\n",
       "      <td>8</td>\n",
       "    </tr>\n",
       "    <tr>\n",
       "      <th>1941.0</th>\n",
       "      <td>1</td>\n",
       "      <td>5</td>\n",
       "      <td>3</td>\n",
       "    </tr>\n",
       "    <tr>\n",
       "      <th>1942.0</th>\n",
       "      <td>2</td>\n",
       "      <td>2</td>\n",
       "      <td>4</td>\n",
       "    </tr>\n",
       "  </tbody>\n",
       "</table>\n",
       "</div>"
      ],
      "text/plain": [
       "        wealth_segment_Affluent Customer  wealth_segment_High Net Worth  \\\n",
       "DOB                                                                       \n",
       "1938.0                                 3                              2   \n",
       "1939.0                                 4                              2   \n",
       "1940.0                                 2                              3   \n",
       "1941.0                                 1                              5   \n",
       "1942.0                                 2                              2   \n",
       "\n",
       "        wealth_segment_Mass Customer  \n",
       "DOB                                   \n",
       "1938.0                             6  \n",
       "1939.0                             7  \n",
       "1940.0                             8  \n",
       "1941.0                             3  \n",
       "1942.0                             4  "
      ]
     },
     "execution_count": 35,
     "metadata": {},
     "output_type": "execute_result"
    }
   ],
   "source": [
    "new_customer_by_year_by_wealth.head()"
   ]
  },
  {
   "cell_type": "code",
   "execution_count": 36,
   "metadata": {},
   "outputs": [
    {
     "data": {
      "text/plain": [
       "[       999  328  341  340  339  338  337  336  335  334  ...  666  665  664  \\\n",
       " index    1    1    1    1    1    1    1    1    1    1  ...    1    1    1   \n",
       " \n",
       "        663  662  661  660  659  658  0    \n",
       " index    1    1    1    1    1    1    1  \n",
       " \n",
       " [1 rows x 1000 columns],\n",
       "             Rozamond  Mandie  Dorian  Jenelle  Nobe  Leticia  Latrena  Ricki  \\\n",
       " first_name         3       3       3        2     2        2        2      2   \n",
       " \n",
       "             Bartram  Maddalena  ...  Dennis  Kata  Estevan  Cristie  Andrea  \\\n",
       " first_name        2          2  ...       1     1        1        1       1   \n",
       " \n",
       "             Rowan  Dahlia  Reynold  Solomon  Garik  \n",
       " first_name      1       1        1        1      1  \n",
       " \n",
       " [1 rows x 940 columns],\n",
       "            Borsi  Sissel  Sturch  Crellim  Eade  Van den Velde  Burgoine  \\\n",
       " last_name      2       2       2        2     2              2         2   \n",
       " \n",
       "            Minshall  Hallt  Shoesmith  ...  Berney  Leete  Swallwell  Bointon  \\\n",
       " last_name         2      2          2  ...       1      1          1        1   \n",
       " \n",
       "            Betteridge  Outridge  Tappington  Harg  Milan  Drowsfield  \n",
       " last_name           1         1           1     1      1           1  \n",
       " \n",
       " [1 rows x 961 columns],\n",
       "         Female  Male   U\n",
       " gender     513   470  17,\n",
       "                                      60  59  70  42  37  11  47  84  62  57  \\\n",
       " past_3_years_bike_related_purchases  20  18  17  17  16  16  15  14  14  14   \n",
       " \n",
       "                                      ...  10  90  76  98  77  19  9   92  85  \\\n",
       " past_3_years_bike_related_purchases  ...   6   6   6   6   6   5   5   5   4   \n",
       " \n",
       "                                      20  \n",
       " past_3_years_bike_related_purchases   3  \n",
       " \n",
       " [1 rows x 100 columns],\n",
       "      1961-07-31  1994-04-15  1987-01-15  1951-11-28  1979-07-28  1951-04-30  \\\n",
       " DOB           2           2           2           2           2           2   \n",
       " \n",
       "      1959-08-01  1965-07-03  1955-11-25  1997-10-23  ...  1994-02-10  \\\n",
       " DOB           2           2           2           2  ...           1   \n",
       " \n",
       "      1976-08-24  1966-09-17  1960-08-31  1951-10-14  1947-04-21  1995-10-10  \\\n",
       " DOB           1           1           1           1           1           1   \n",
       " \n",
       "      1964-08-23  1962-05-12  1958-04-21  \n",
       " DOB           1           1           1  \n",
       " \n",
       " [1 rows x 958 columns],\n",
       "            Associate Professor  Environmental Tech  Software Consultant  \\\n",
       " job_title                   15                  14                   14   \n",
       " \n",
       "            Chief Design Engineer  Assistant Media Planner  VP Sales  \\\n",
       " job_title                     13                       12        12   \n",
       " \n",
       "            Cost Accountant  Assistant Manager  Senior Sales Associate  \\\n",
       " job_title               12                 12                      12   \n",
       " \n",
       "            Account Executive  ...  Engineer II  Software Test Engineer II  \\\n",
       " job_title                 11  ...            1                          1   \n",
       " \n",
       "            Developer II  Computer Systems Analyst II  \\\n",
       " job_title             1                            1   \n",
       " \n",
       "            Human Resources Assistant III  Computer Systems Analyst IV  \\\n",
       " job_title                              1                            1   \n",
       " \n",
       "            Staff Accountant II  Media Manager I  Accountant II  Health Coach I  \n",
       " job_title                    1                1              1               1  \n",
       " \n",
       " [1 rows x 184 columns],\n",
       "                        Financial Services  Manufacturing  Health  Retail  \\\n",
       " job_industry_category                 203            199     152      78   \n",
       " \n",
       "                        Property  IT  Entertainment  Argiculture  \\\n",
       " job_industry_category        64  51             37           26   \n",
       " \n",
       "                        Telecommunications  \n",
       " job_industry_category                  25  ,\n",
       "                 Mass Customer  High Net Worth  Affluent Customer\n",
       " wealth_segment            508             251                241,\n",
       "                        N\n",
       " deceased_indicator  1000,\n",
       "            No  Yes\n",
       " owns_car  507  493,\n",
       "         9   13  11  10  12  7   5   17  15  8   ...  18  4   19  3   21  20  \\\n",
       " tenure  79  74  68  63  61  60  60  59  58  55  ...  36  36  34  26  24  22   \n",
       " \n",
       "         2   22  1   0   \n",
       " tenure  15  12   8   2  \n",
       " \n",
       " [1 rows x 23 columns],\n",
       "          356 Carberry Avenue  122 Marcy Park  6 Maple Plaza  \\\n",
       " address                    1               1              1   \n",
       " \n",
       "          261 Holy Cross Park  68 Karstens Pass  638 Caliangt Avenue  \\\n",
       " address                    1                 1                    1   \n",
       " \n",
       "          3 Sundown Hill  115 Montana Place  3 Sunbrook Alley  \\\n",
       " address               1                  1                 1   \n",
       " \n",
       "          3745 Thierer Trail  ...  23694 Leroy Place  4915 Debra Center  \\\n",
       " address                   1  ...                  1                  1   \n",
       " \n",
       "          1 Manitowish Court  79 Sheridan Point  1 Kinsman Crossing  \\\n",
       " address                   1                  1                   1   \n",
       " \n",
       "          25 Westerfield Road  4 North Drive  6704 Pine View Lane  \\\n",
       " address                    1              1                    1   \n",
       " \n",
       "          247 Blue Bill Park Parkway  4882 Dakota Center  \n",
       " address                           1                   1  \n",
       " \n",
       " [1 rows x 1000 columns],\n",
       "           2232  2145  2168  2750  3029  4207  2148  3977  2066  4350  ...  \\\n",
       " postcode     9     9     7     7     7     7     7     7     6     6  ...   \n",
       " \n",
       "           2340  2344  4405  2358  3250  4408  2151  4159  3121  3051  \n",
       " postcode     1     1     1     1     1     1     1     1     1     1  \n",
       " \n",
       " [1 rows x 522 columns],\n",
       "        NSW  VIC  QLD\n",
       " state  506  266  228,\n",
       "          Australia\n",
       " country       1000,\n",
       "                      9    8    7    10  6   11  5   4   3   12  2   1 \n",
       " property_valuation  173  162  138  116  70  62  57  53  51  46  42  30,\n",
       "              0.62  0.86  0.58  0.49  1.08  0.77  0.84  1.07  0.56  0.57  ...  \\\n",
       " Unnamed: 16    26    24    20    20    20    20    19    19    19    18  ...   \n",
       " \n",
       "              0.71  0.72  0.64  0.50  0.45  0.63  0.74  0.75  0.69  0.96  \n",
       " Unnamed: 16    10    10    10    10     9     9     8     8     8     7  \n",
       " \n",
       " [1 rows x 71 columns],\n",
       "              1.0500  0.5500  0.7750  0.9500  0.5000  1.0700  0.6000  0.5800  \\\n",
       " Unnamed: 17      20      19      15      15      14      14      14      13   \n",
       " \n",
       "              0.7000  0.8600  ...  0.8700  1.2000  0.7400  0.9600  0.8250  \\\n",
       " Unnamed: 17      13      13  ...       4       4       4       3       3   \n",
       " \n",
       "              0.5100  0.8625  0.9375  0.6300  1.0250  \n",
       " Unnamed: 17       3       3       2       2       2  \n",
       " \n",
       " [1 rows x 132 columns],\n",
       "              0.750000  1.050000  0.962500  1.350000  1.312500  1.187500  \\\n",
       " Unnamed: 18        18        15        15        14        14        14   \n",
       " \n",
       "              0.812500  0.550000  1.137500  0.725000  ...  1.390625  1.203125  \\\n",
       " Unnamed: 18        13        13        13        13  ...         1         1   \n",
       " \n",
       "              0.420000  0.984375  0.510000  1.500000  1.656250  1.484375  \\\n",
       " Unnamed: 18         1         1         1         1         1         1   \n",
       " \n",
       "              0.920000  0.850000  \n",
       " Unnamed: 18         1         1  \n",
       " \n",
       " [1 rows x 183 columns],\n",
       "              1.062500  0.750000  0.637500  1.050000  0.812500  1.009375  \\\n",
       " Unnamed: 19        14        11        10         9         9         9   \n",
       " \n",
       "              0.680000  1.375000  1.137500  1.312500  ...  1.030000  1.609375  \\\n",
       " Unnamed: 19         9         9         9         9  ...         1         1   \n",
       " \n",
       "              0.937500  1.156250  1.381250  1.421094  0.587500  1.218750  \\\n",
       " Unnamed: 19         1         1         1         1         1         1   \n",
       " \n",
       "              1.022656  0.656250  \n",
       " Unnamed: 19         1         1  \n",
       " \n",
       " [1 rows x 321 columns],\n",
       "              760   259   455   904   386   133   700   820   312   536   ...  \\\n",
       " Unnamed: 20    13    12     9     9     9     9     8     8     8     8  ...   \n",
       " \n",
       "              248   249   284   794   793   785   773   754   355   1000  \n",
       " Unnamed: 20     1     1     1     1     1     1     1     1     1     1  \n",
       " \n",
       " [1 rows x 324 columns],\n",
       "       760   259   455   904   386   133   700   820   312   536   ...  248   \\\n",
       " Rank    13    12     9     9     9     9     8     8     8     8  ...     1   \n",
       " \n",
       "       249   284   794   793   785   773   754   355   1000  \n",
       " Rank     1     1     1     1     1     1     1     1     1  \n",
       " \n",
       " [1 rows x 324 columns],\n",
       "        0.637500  1.062500  1.237500  0.892500  0.945625  0.500000  0.825000  \\\n",
       " Value        13        12         9         9         9         9         8   \n",
       " \n",
       "        1.020000  0.687500  0.584375  ...  0.810156  0.781250  0.620000  \\\n",
       " Value         8         8         8  ...         1         1         1   \n",
       " \n",
       "        0.773500  0.650000  0.630000  0.340000  0.875500  0.867000  1.142187  \n",
       " Value         1         1         1         1         1         1         1  \n",
       " \n",
       " [1 rows x 324 columns]]"
      ]
     },
     "execution_count": 36,
     "metadata": {},
     "output_type": "execute_result"
    }
   ],
   "source": [
    "new_customer_value_counts=[pd.DataFrame(new_customer_list[new_customer_list.columns[i]].value_counts()).T for i in range(len(new_customer_list.columns))]\n",
    "new_customer_value_counts"
   ]
  },
  {
   "cell_type": "code",
   "execution_count": 37,
   "metadata": {},
   "outputs": [
    {
     "data": {
      "text/html": [
       "<div>\n",
       "<style scoped>\n",
       "    .dataframe tbody tr th:only-of-type {\n",
       "        vertical-align: middle;\n",
       "    }\n",
       "\n",
       "    .dataframe tbody tr th {\n",
       "        vertical-align: top;\n",
       "    }\n",
       "\n",
       "    .dataframe thead th {\n",
       "        text-align: right;\n",
       "    }\n",
       "</style>\n",
       "<table border=\"1\" class=\"dataframe\">\n",
       "  <thead>\n",
       "    <tr style=\"text-align: right;\">\n",
       "      <th></th>\n",
       "      <th>customer_id</th>\n",
       "      <th>first_name</th>\n",
       "      <th>last_name</th>\n",
       "      <th>gender</th>\n",
       "      <th>past_3_years_bike_related_purchases</th>\n",
       "      <th>DOB</th>\n",
       "      <th>job_title</th>\n",
       "      <th>job_industry_category</th>\n",
       "      <th>wealth_segment</th>\n",
       "      <th>deceased_indicator</th>\n",
       "      <th>default</th>\n",
       "      <th>owns_car</th>\n",
       "      <th>tenure</th>\n",
       "    </tr>\n",
       "  </thead>\n",
       "  <tbody>\n",
       "    <tr>\n",
       "      <th>0</th>\n",
       "      <td>1</td>\n",
       "      <td>Laraine</td>\n",
       "      <td>Medendorp</td>\n",
       "      <td>F</td>\n",
       "      <td>93</td>\n",
       "      <td>1953-10-12</td>\n",
       "      <td>Executive Secretary</td>\n",
       "      <td>Health</td>\n",
       "      <td>Mass Customer</td>\n",
       "      <td>N</td>\n",
       "      <td>\"'</td>\n",
       "      <td>Yes</td>\n",
       "      <td>11.0</td>\n",
       "    </tr>\n",
       "    <tr>\n",
       "      <th>1</th>\n",
       "      <td>2</td>\n",
       "      <td>Eli</td>\n",
       "      <td>Bockman</td>\n",
       "      <td>Male</td>\n",
       "      <td>81</td>\n",
       "      <td>1980-12-16</td>\n",
       "      <td>Administrative Officer</td>\n",
       "      <td>Financial Services</td>\n",
       "      <td>Mass Customer</td>\n",
       "      <td>N</td>\n",
       "      <td>&lt;script&gt;alert('hi')&lt;/script&gt;</td>\n",
       "      <td>Yes</td>\n",
       "      <td>16.0</td>\n",
       "    </tr>\n",
       "    <tr>\n",
       "      <th>2</th>\n",
       "      <td>3</td>\n",
       "      <td>Arlin</td>\n",
       "      <td>Dearle</td>\n",
       "      <td>Male</td>\n",
       "      <td>61</td>\n",
       "      <td>1954-01-20</td>\n",
       "      <td>Recruiting Manager</td>\n",
       "      <td>Property</td>\n",
       "      <td>Mass Customer</td>\n",
       "      <td>N</td>\n",
       "      <td>2018-02-01 00:00:00</td>\n",
       "      <td>Yes</td>\n",
       "      <td>15.0</td>\n",
       "    </tr>\n",
       "    <tr>\n",
       "      <th>3</th>\n",
       "      <td>4</td>\n",
       "      <td>Talbot</td>\n",
       "      <td>NaN</td>\n",
       "      <td>Male</td>\n",
       "      <td>33</td>\n",
       "      <td>1961-10-03</td>\n",
       "      <td>NaN</td>\n",
       "      <td>IT</td>\n",
       "      <td>Mass Customer</td>\n",
       "      <td>N</td>\n",
       "      <td>() { _; } &gt;_[$($())] { touch /tmp/blns.shellsh...</td>\n",
       "      <td>No</td>\n",
       "      <td>7.0</td>\n",
       "    </tr>\n",
       "    <tr>\n",
       "      <th>4</th>\n",
       "      <td>5</td>\n",
       "      <td>Sheila-kathryn</td>\n",
       "      <td>Calton</td>\n",
       "      <td>Female</td>\n",
       "      <td>56</td>\n",
       "      <td>1977-05-13</td>\n",
       "      <td>Senior Editor</td>\n",
       "      <td>NaN</td>\n",
       "      <td>Affluent Customer</td>\n",
       "      <td>N</td>\n",
       "      <td>NIL</td>\n",
       "      <td>Yes</td>\n",
       "      <td>8.0</td>\n",
       "    </tr>\n",
       "  </tbody>\n",
       "</table>\n",
       "</div>"
      ],
      "text/plain": [
       "   customer_id      first_name  last_name  gender  \\\n",
       "0            1         Laraine  Medendorp       F   \n",
       "1            2             Eli    Bockman    Male   \n",
       "2            3           Arlin     Dearle    Male   \n",
       "3            4          Talbot        NaN    Male   \n",
       "4            5  Sheila-kathryn     Calton  Female   \n",
       "\n",
       "   past_3_years_bike_related_purchases        DOB               job_title  \\\n",
       "0                                   93 1953-10-12     Executive Secretary   \n",
       "1                                   81 1980-12-16  Administrative Officer   \n",
       "2                                   61 1954-01-20      Recruiting Manager   \n",
       "3                                   33 1961-10-03                     NaN   \n",
       "4                                   56 1977-05-13           Senior Editor   \n",
       "\n",
       "  job_industry_category     wealth_segment deceased_indicator  \\\n",
       "0                Health      Mass Customer                  N   \n",
       "1    Financial Services      Mass Customer                  N   \n",
       "2              Property      Mass Customer                  N   \n",
       "3                    IT      Mass Customer                  N   \n",
       "4                   NaN  Affluent Customer                  N   \n",
       "\n",
       "                                             default owns_car  tenure  \n",
       "0                                                 \"'      Yes    11.0  \n",
       "1                       <script>alert('hi')</script>      Yes    16.0  \n",
       "2                                2018-02-01 00:00:00      Yes    15.0  \n",
       "3  () { _; } >_[$($())] { touch /tmp/blns.shellsh...       No     7.0  \n",
       "4                                                NIL      Yes     8.0  "
      ]
     },
     "execution_count": 37,
     "metadata": {},
     "output_type": "execute_result"
    }
   ],
   "source": [
    "customer_demographic=pd.read_excel('Sprocket Central Data - KPMG.xlsx',sheet_name='CustomerDemographic',skiprows=1)\n",
    "customer_demographic.to_csv('customer_demographic.csv') # Remove extra column created\n",
    "customer_demographic.head()"
   ]
  },
  {
   "cell_type": "code",
   "execution_count": 38,
   "metadata": {},
   "outputs": [
    {
     "data": {
      "text/plain": [
       "(4000, 13)"
      ]
     },
     "execution_count": 38,
     "metadata": {},
     "output_type": "execute_result"
    }
   ],
   "source": [
    "customer_demographic.shape"
   ]
  },
  {
   "cell_type": "code",
   "execution_count": 39,
   "metadata": {},
   "outputs": [
    {
     "data": {
      "text/plain": [
       "customer_id                            4000\n",
       "first_name                             4000\n",
       "last_name                              3875\n",
       "gender                                 4000\n",
       "past_3_years_bike_related_purchases    4000\n",
       "DOB                                    3913\n",
       "job_title                              3494\n",
       "job_industry_category                  3344\n",
       "wealth_segment                         4000\n",
       "deceased_indicator                     4000\n",
       "default                                3698\n",
       "owns_car                               4000\n",
       "tenure                                 3913\n",
       "dtype: int64"
      ]
     },
     "execution_count": 39,
     "metadata": {},
     "output_type": "execute_result"
    }
   ],
   "source": [
    "customer_demographic.count()"
   ]
  },
  {
   "cell_type": "code",
   "execution_count": 40,
   "metadata": {},
   "outputs": [],
   "source": [
    "customer_demographic_complete_rows_count=len(customer_demographic.columns[customer_demographic.count() == customer_demographic.shape[0]])"
   ]
  },
  {
   "cell_type": "code",
   "execution_count": 41,
   "metadata": {},
   "outputs": [
    {
     "data": {
      "text/plain": [
       "0.5384615384615384"
      ]
     },
     "execution_count": 41,
     "metadata": {},
     "output_type": "execute_result"
    }
   ],
   "source": [
    "customer_demographic_complete_rows_count / len(customer_demographic.count())"
   ]
  },
  {
   "cell_type": "code",
   "execution_count": 42,
   "metadata": {},
   "outputs": [
    {
     "data": {
      "text/html": [
       "<div>\n",
       "<style scoped>\n",
       "    .dataframe tbody tr th:only-of-type {\n",
       "        vertical-align: middle;\n",
       "    }\n",
       "\n",
       "    .dataframe tbody tr th {\n",
       "        vertical-align: top;\n",
       "    }\n",
       "\n",
       "    .dataframe thead th {\n",
       "        text-align: right;\n",
       "    }\n",
       "</style>\n",
       "<table border=\"1\" class=\"dataframe\">\n",
       "  <thead>\n",
       "    <tr style=\"text-align: right;\">\n",
       "      <th></th>\n",
       "      <th>customer_id</th>\n",
       "      <th>first_name</th>\n",
       "      <th>last_name</th>\n",
       "      <th>gender</th>\n",
       "      <th>past_3_years_bike_related_purchases</th>\n",
       "      <th>DOB</th>\n",
       "      <th>job_title</th>\n",
       "      <th>job_industry_category</th>\n",
       "      <th>wealth_segment</th>\n",
       "      <th>deceased_indicator</th>\n",
       "      <th>default</th>\n",
       "      <th>owns_car</th>\n",
       "      <th>tenure</th>\n",
       "    </tr>\n",
       "  </thead>\n",
       "  <tbody>\n",
       "    <tr>\n",
       "      <th>1350</th>\n",
       "      <td>1351</td>\n",
       "      <td>Lorettalorna</td>\n",
       "      <td>NaN</td>\n",
       "      <td>U</td>\n",
       "      <td>32</td>\n",
       "      <td>NaT</td>\n",
       "      <td>Office Assistant IV</td>\n",
       "      <td>IT</td>\n",
       "      <td>High Net Worth</td>\n",
       "      <td>N</td>\n",
       "      <td>NaN</td>\n",
       "      <td>No</td>\n",
       "      <td>NaN</td>\n",
       "    </tr>\n",
       "    <tr>\n",
       "      <th>1904</th>\n",
       "      <td>1905</td>\n",
       "      <td>Corabelle</td>\n",
       "      <td>NaN</td>\n",
       "      <td>Female</td>\n",
       "      <td>21</td>\n",
       "      <td>1953-09-17</td>\n",
       "      <td>Help Desk Technician</td>\n",
       "      <td>Manufacturing</td>\n",
       "      <td>Affluent Customer</td>\n",
       "      <td>N</td>\n",
       "      <td>00ËÆ$-</td>\n",
       "      <td>No</td>\n",
       "      <td>15.0</td>\n",
       "    </tr>\n",
       "  </tbody>\n",
       "</table>\n",
       "</div>"
      ],
      "text/plain": [
       "      customer_id    first_name last_name  gender  \\\n",
       "1350         1351  Lorettalorna       NaN       U   \n",
       "1904         1905     Corabelle       NaN  Female   \n",
       "\n",
       "      past_3_years_bike_related_purchases        DOB             job_title  \\\n",
       "1350                                   32        NaT   Office Assistant IV   \n",
       "1904                                   21 1953-09-17  Help Desk Technician   \n",
       "\n",
       "     job_industry_category     wealth_segment deceased_indicator default  \\\n",
       "1350                    IT     High Net Worth                  N     NaN   \n",
       "1904         Manufacturing  Affluent Customer                  N  00ËÆ$-   \n",
       "\n",
       "     owns_car  tenure  \n",
       "1350       No     NaN  \n",
       "1904       No    15.0  "
      ]
     },
     "execution_count": 42,
     "metadata": {},
     "output_type": "execute_result"
    }
   ],
   "source": [
    "customer_demographic[customer_demographic.duplicated(['first_name','last_name'])]"
   ]
  },
  {
   "cell_type": "code",
   "execution_count": 43,
   "metadata": {},
   "outputs": [
    {
     "data": {
      "text/plain": [
       "customer_id                            4000\n",
       "first_name                             4000\n",
       "last_name                              3875\n",
       "gender                                 4000\n",
       "past_3_years_bike_related_purchases    4000\n",
       "DOB                                    3913\n",
       "job_title                              3494\n",
       "job_industry_category                  3344\n",
       "wealth_segment                         4000\n",
       "deceased_indicator                     4000\n",
       "default                                3698\n",
       "owns_car                               4000\n",
       "tenure                                 3913\n",
       "dtype: int64"
      ]
     },
     "execution_count": 43,
     "metadata": {},
     "output_type": "execute_result"
    }
   ],
   "source": [
    "customer_demographic.count()"
   ]
  },
  {
   "cell_type": "code",
   "execution_count": 44,
   "metadata": {},
   "outputs": [
    {
     "data": {
      "text/plain": [
       "0.9660961538461539"
      ]
     },
     "execution_count": 44,
     "metadata": {},
     "output_type": "execute_result"
    }
   ],
   "source": [
    "customer_demographic.count().sum() / (customer_demographic.shape[0] * customer_demographic.shape[1])"
   ]
  },
  {
   "cell_type": "code",
   "execution_count": 45,
   "metadata": {},
   "outputs": [],
   "source": [
    "# Default has missing values, but it seems to be a irrelevant column either way"
   ]
  },
  {
   "cell_type": "code",
   "execution_count": 46,
   "metadata": {},
   "outputs": [
    {
     "data": {
      "text/html": [
       "<div>\n",
       "<style scoped>\n",
       "    .dataframe tbody tr th:only-of-type {\n",
       "        vertical-align: middle;\n",
       "    }\n",
       "\n",
       "    .dataframe tbody tr th {\n",
       "        vertical-align: top;\n",
       "    }\n",
       "\n",
       "    .dataframe thead th {\n",
       "        text-align: right;\n",
       "    }\n",
       "</style>\n",
       "<table border=\"1\" class=\"dataframe\">\n",
       "  <thead>\n",
       "    <tr style=\"text-align: right;\">\n",
       "      <th></th>\n",
       "      <th>customer_id</th>\n",
       "      <th>past_3_years_bike_related_purchases</th>\n",
       "      <th>tenure</th>\n",
       "    </tr>\n",
       "  </thead>\n",
       "  <tbody>\n",
       "    <tr>\n",
       "      <th>count</th>\n",
       "      <td>4000.000000</td>\n",
       "      <td>4000.000000</td>\n",
       "      <td>3913.000000</td>\n",
       "    </tr>\n",
       "    <tr>\n",
       "      <th>mean</th>\n",
       "      <td>2000.500000</td>\n",
       "      <td>48.890000</td>\n",
       "      <td>10.657041</td>\n",
       "    </tr>\n",
       "    <tr>\n",
       "      <th>std</th>\n",
       "      <td>1154.844867</td>\n",
       "      <td>28.715005</td>\n",
       "      <td>5.660146</td>\n",
       "    </tr>\n",
       "    <tr>\n",
       "      <th>min</th>\n",
       "      <td>1.000000</td>\n",
       "      <td>0.000000</td>\n",
       "      <td>1.000000</td>\n",
       "    </tr>\n",
       "    <tr>\n",
       "      <th>25%</th>\n",
       "      <td>1000.750000</td>\n",
       "      <td>24.000000</td>\n",
       "      <td>6.000000</td>\n",
       "    </tr>\n",
       "    <tr>\n",
       "      <th>50%</th>\n",
       "      <td>2000.500000</td>\n",
       "      <td>48.000000</td>\n",
       "      <td>11.000000</td>\n",
       "    </tr>\n",
       "    <tr>\n",
       "      <th>75%</th>\n",
       "      <td>3000.250000</td>\n",
       "      <td>73.000000</td>\n",
       "      <td>15.000000</td>\n",
       "    </tr>\n",
       "    <tr>\n",
       "      <th>max</th>\n",
       "      <td>4000.000000</td>\n",
       "      <td>99.000000</td>\n",
       "      <td>22.000000</td>\n",
       "    </tr>\n",
       "  </tbody>\n",
       "</table>\n",
       "</div>"
      ],
      "text/plain": [
       "       customer_id  past_3_years_bike_related_purchases       tenure\n",
       "count  4000.000000                          4000.000000  3913.000000\n",
       "mean   2000.500000                            48.890000    10.657041\n",
       "std    1154.844867                            28.715005     5.660146\n",
       "min       1.000000                             0.000000     1.000000\n",
       "25%    1000.750000                            24.000000     6.000000\n",
       "50%    2000.500000                            48.000000    11.000000\n",
       "75%    3000.250000                            73.000000    15.000000\n",
       "max    4000.000000                            99.000000    22.000000"
      ]
     },
     "execution_count": 46,
     "metadata": {},
     "output_type": "execute_result"
    }
   ],
   "source": [
    "customer_demographic.describe()"
   ]
  },
  {
   "cell_type": "code",
   "execution_count": 47,
   "metadata": {},
   "outputs": [
    {
     "data": {
      "image/png": "[encoded data removed]",
      "text/plain": [
       "<Figure size 1080x720 with 1 Axes>"
      ]
     },
     "metadata": {
      "needs_background": "light"
     },
     "output_type": "display_data"
    }
   ],
   "source": [
    "yearly_customer_demographic=customer_demographic.set_index('DOB')['customer_id'].resample('Y').nunique()\n",
    "yearly_customer_demographic.plot(figsize=(15,10)).set_title('Customers by Birth Year');"
   ]
  },
  {
   "cell_type": "code",
   "execution_count": 48,
   "metadata": {},
   "outputs": [],
   "source": [
    "# There seems to be an outlier in our customer date range, otherwise the data looks good"
   ]
  },
  {
   "cell_type": "code",
   "execution_count": 49,
   "metadata": {},
   "outputs": [
    {
     "data": {
      "text/plain": [
       "0      1953-10-12\n",
       "1      1980-12-16\n",
       "2      1954-01-20\n",
       "3      1961-10-03\n",
       "4      1977-05-13\n",
       "          ...    \n",
       "3995   1975-08-09\n",
       "3996   2001-07-13\n",
       "3997          NaT\n",
       "3998   1973-10-24\n",
       "3999   1991-11-05\n",
       "Name: DOB, Length: 4000, dtype: datetime64[ns]"
      ]
     },
     "execution_count": 49,
     "metadata": {},
     "output_type": "execute_result"
    }
   ],
   "source": [
    "customer_demographic['DOB']"
   ]
  },
  {
   "cell_type": "code",
   "execution_count": 50,
   "metadata": {},
   "outputs": [],
   "source": [
    "#customer_list_dummies.groupby(customer_list_dummies.set_index('DOB').index.year).sum()"
   ]
  },
  {
   "cell_type": "code",
   "execution_count": 51,
   "metadata": {},
   "outputs": [],
   "source": [
    "customer_dummies=pd.get_dummies(customer_demographic[['wealth_segment']])\n",
    "customer_list_dummies=pd.concat([customer_demographic['DOB'],customer_dummies],axis=1).dropna()\n",
    "customer_by_year_by_wealth=customer_list_dummies.groupby(customer_list_dummies.set_index('DOB').index.year).sum()"
   ]
  },
  {
   "cell_type": "code",
   "execution_count": 52,
   "metadata": {},
   "outputs": [
    {
     "data": {
      "text/html": [
       "<div>\n",
       "<style scoped>\n",
       "    .dataframe tbody tr th:only-of-type {\n",
       "        vertical-align: middle;\n",
       "    }\n",
       "\n",
       "    .dataframe tbody tr th {\n",
       "        vertical-align: top;\n",
       "    }\n",
       "\n",
       "    .dataframe thead th {\n",
       "        text-align: right;\n",
       "    }\n",
       "</style>\n",
       "<table border=\"1\" class=\"dataframe\">\n",
       "  <thead>\n",
       "    <tr style=\"text-align: right;\">\n",
       "      <th></th>\n",
       "      <th>wealth_segment_Affluent Customer</th>\n",
       "      <th>wealth_segment_High Net Worth</th>\n",
       "      <th>wealth_segment_Mass Customer</th>\n",
       "    </tr>\n",
       "    <tr>\n",
       "      <th>DOB</th>\n",
       "      <th></th>\n",
       "      <th></th>\n",
       "      <th></th>\n",
       "    </tr>\n",
       "  </thead>\n",
       "  <tbody>\n",
       "    <tr>\n",
       "      <th>1843</th>\n",
       "      <td>1</td>\n",
       "      <td>0</td>\n",
       "      <td>0</td>\n",
       "    </tr>\n",
       "    <tr>\n",
       "      <th>1931</th>\n",
       "      <td>1</td>\n",
       "      <td>0</td>\n",
       "      <td>0</td>\n",
       "    </tr>\n",
       "    <tr>\n",
       "      <th>1935</th>\n",
       "      <td>0</td>\n",
       "      <td>0</td>\n",
       "      <td>1</td>\n",
       "    </tr>\n",
       "    <tr>\n",
       "      <th>1940</th>\n",
       "      <td>0</td>\n",
       "      <td>0</td>\n",
       "      <td>1</td>\n",
       "    </tr>\n",
       "    <tr>\n",
       "      <th>1943</th>\n",
       "      <td>0</td>\n",
       "      <td>1</td>\n",
       "      <td>0</td>\n",
       "    </tr>\n",
       "  </tbody>\n",
       "</table>\n",
       "</div>"
      ],
      "text/plain": [
       "      wealth_segment_Affluent Customer  wealth_segment_High Net Worth  \\\n",
       "DOB                                                                     \n",
       "1843                                 1                              0   \n",
       "1931                                 1                              0   \n",
       "1935                                 0                              0   \n",
       "1940                                 0                              0   \n",
       "1943                                 0                              1   \n",
       "\n",
       "      wealth_segment_Mass Customer  \n",
       "DOB                                 \n",
       "1843                             0  \n",
       "1931                             0  \n",
       "1935                             1  \n",
       "1940                             1  \n",
       "1943                             0  "
      ]
     },
     "execution_count": 52,
     "metadata": {},
     "output_type": "execute_result"
    }
   ],
   "source": [
    "customer_by_year_by_wealth.head()"
   ]
  },
  {
   "cell_type": "code",
   "execution_count": 53,
   "metadata": {},
   "outputs": [
    {
     "data": {
      "image/png": "[encoded data removed]",
      "text/plain": [
       "<Figure size 1080x720 with 1 Axes>"
      ]
     },
     "metadata": {
      "needs_background": "light"
     },
     "output_type": "display_data"
    }
   ],
   "source": [
    "customer_by_year_by_wealth.plot(figsize=(15,10)).set_title('Customers by Wealth by Birth Year');"
   ]
  },
  {
   "cell_type": "code",
   "execution_count": 54,
   "metadata": {},
   "outputs": [
    {
     "data": {
      "text/plain": [
       "[             2047  657   2732  681   2728  677   2724  673   2720  669   ...  \\\n",
       " customer_id     1     1     1     1     1     1     1     1     1     1  ...   \n",
       " \n",
       "              1334  3379  1330  3375  1326  3371  1322  3367  1318  2049  \n",
       " customer_id     1     1     1     1     1     1     1     1     1     1  \n",
       " \n",
       " [1 rows x 4000 columns],\n",
       "             Max  Tobe  Timmie  Osgood  Corabelle  Emlyn  Basile  Lindsay  \\\n",
       " first_name    5     5       5       4          4      4       4        4   \n",
       " \n",
       "             Hubie  Gerome  ...  Augusta  Quintin  Lucius  Tiphani  Job  \\\n",
       " first_name      4       4  ...        1        1       1        1    1   \n",
       " \n",
       "             Rosamund  Filippo  Jana  Phil  Elton  \n",
       " first_name         1        1     1     1      1  \n",
       " \n",
       " [1 rows x 3139 columns],\n",
       "            Pristnor  Ramsdell  Crosse  Cerman  Rounds  Wonfor  Helleckas  \\\n",
       " last_name         3         3       2       2       2       2          2   \n",
       " \n",
       "            Bernardini  Duke  Tixall  ...  Mortimer  Denys  Sealy  Barnham  \\\n",
       " last_name           2     2       2  ...         1      1      1        1   \n",
       " \n",
       "            O'Hallagan  Hartnell  Dymick  Olexa  Bruhnke  Neenan  \n",
       " last_name           1         1       1      1        1       1  \n",
       " \n",
       " [1 rows x 3725 columns],\n",
       "         Female  Male   U  Femal  M  F\n",
       " gender    2037  1872  88      1  1  1,\n",
       "                                      16  19  20  67  2   80  44  53  33  37  \\\n",
       " past_3_years_bike_related_purchases  56  56  54  54  50  49  49  49  49  49   \n",
       " \n",
       "                                      ...  3   21  45  61  58  8   86  95  85  \\\n",
       " past_3_years_bike_related_purchases  ...  30  30  29  29  29  28  27  27  27   \n",
       " \n",
       "                                      92  \n",
       " past_3_years_bike_related_purchases  24  \n",
       " \n",
       " [1 rows x 100 columns],\n",
       "      1978-01-30  1977-05-13  1976-07-16  1978-08-19  1976-09-25  1964-07-08  \\\n",
       " DOB           7           4           4           4           4           4   \n",
       " \n",
       "      1962-12-17  1985-12-28  1978-08-07  1999-07-28  ...  1967-05-23  \\\n",
       " DOB           4           3           3           3  ...           1   \n",
       " \n",
       "      1954-10-31  1992-11-24  1985-11-15  1975-08-07  1974-06-16  1969-11-21  \\\n",
       " DOB           1           1           1           1           1           1   \n",
       " \n",
       "      1961-11-24  1995-05-03  1972-04-14  \n",
       " DOB           1           1           1  \n",
       " \n",
       " [1 rows x 3448 columns],\n",
       "            Business Systems Development Analyst  Social Worker  \\\n",
       " job_title                                    45             44   \n",
       " \n",
       "            Tax Accountant  Internal Auditor  Legal Assistant  \\\n",
       " job_title              44                42               41   \n",
       " \n",
       "            Recruiting Manager  General Manager  Associate Professor  \\\n",
       " job_title                  41               40                   39   \n",
       " \n",
       "            Structural Engineer  Sales Representative  ...  \\\n",
       " job_title                   39                    38  ...   \n",
       " \n",
       "            Computer Systems Analyst III  Geologist II  \\\n",
       " job_title                             4             4   \n",
       " \n",
       "            Database Administrator I  Administrative Assistant II  \\\n",
       " job_title                         4                            4   \n",
       " \n",
       "            Human Resources Assistant IV  Database Administrator II  \\\n",
       " job_title                             4                          4   \n",
       " \n",
       "            Health Coach I  Health Coach III  Research Assistant III  \\\n",
       " job_title               3                 3                       3   \n",
       " \n",
       "            Developer I  \n",
       " job_title            1  \n",
       " \n",
       " [1 rows x 195 columns],\n",
       "                        Manufacturing  Financial Services  Health  Retail  \\\n",
       " job_industry_category            799                 774     602     358   \n",
       " \n",
       "                        Property   IT  Entertainment  Argiculture  \\\n",
       " job_industry_category       267  223            136          113   \n",
       " \n",
       "                        Telecommunications  \n",
       " job_industry_category                  72  ,\n",
       "                 Mass Customer  High Net Worth  Affluent Customer\n",
       " wealth_segment           2000            1021                979,\n",
       "                        N  Y\n",
       " deceased_indicator  3998  2,\n",
       "          100    1   -1  -100  Ù¡Ù¢Ù£  â°â´âµâââ  ï½ï½¨(Â´âï½â©  \\\n",
       " default  113  112  111    99      53         53             52   \n",
       " \n",
       "          ../../../../../../../../../../../etc/passwd%00  !@#$%^&*()  â°â´âµ  \\\n",
       " default                                              50          48      48   \n",
       " \n",
       "          ...  -0.5  '\"''''\"  ç¤¾æç§å­¸é¢èªå­¸ç ç©¶æ  ð¾ ð ð ð ð ð ð ð  \\\n",
       " default  ...    32       31                      31                31   \n",
       " \n",
       "          testâ testâ«  <img src=x onerror=alert('hi') />  \\\n",
       " default            31                                 31   \n",
       " \n",
       "          /dev/null; touch /tmp/blns.fail ; echo  âªâªtestâª  ì¸ëë°í ë¥´  \\\n",
       " default                                      30          29          27   \n",
       " \n",
       "          ,ãã»:*:ã»ãâ( â» Ï â» )ãã»:*:ã»ãâ  \n",
       " default                                25  \n",
       " \n",
       " [1 rows x 90 columns],\n",
       "            Yes    No\n",
       " owns_car  2024  1976,\n",
       "         7.0   5.0   11.0  10.0  16.0  8.0   18.0  12.0  9.0   14.0  ...  4.0   \\\n",
       " tenure   235   228   221   218   215   211   208   202   200   200  ...   191   \n",
       " \n",
       "         17.0  15.0  1.0   3.0   19.0  2.0   20.0  22.0  21.0  \n",
       " tenure   182   179   166   160   159   150    96    55    54  \n",
       " \n",
       " [1 rows x 22 columns]]"
      ]
     },
     "execution_count": 54,
     "metadata": {},
     "output_type": "execute_result"
    }
   ],
   "source": [
    "customer_demographic_value_counts=[pd.DataFrame(customer_demographic[customer_demographic.columns[i]].value_counts()).T for i in range(len(customer_demographic.columns))]\n",
    "customer_demographic_value_counts"
   ]
  },
  {
   "cell_type": "code",
   "execution_count": 55,
   "metadata": {},
   "outputs": [],
   "source": [
    "# 'Gender' column for customer demographics needs to be formatted"
   ]
  },
  {
   "cell_type": "code",
   "execution_count": 56,
   "metadata": {},
   "outputs": [
    {
     "data": {
      "image/png": "[encoded data removed]",
      "text/plain": [
       "<Figure size 1440x720 with 1 Axes>"
      ]
     },
     "metadata": {
      "needs_background": "light"
     },
     "output_type": "display_data"
    }
   ],
   "source": [
    "past_3_year_purchases=customer_demographic['past_3_years_bike_related_purchases'].value_counts().sort_index().plot.bar(figsize=(20,10)).set_title('Bike Related Purchases Past 3 Years')\n",
    "past_3_year_purchases;"
   ]
  },
  {
   "cell_type": "code",
   "execution_count": 57,
   "metadata": {},
   "outputs": [],
   "source": [
    "past_3_year_purchases.figure.savefig('Bike Related Purchases Past 3 Years.png')"
   ]
  },
  {
   "cell_type": "code",
   "execution_count": 58,
   "metadata": {},
   "outputs": [
    {
     "data": {
      "image/png": "[encoded data removed]",
      "text/plain": [
       "<Figure size 1440x720 with 1 Axes>"
      ]
     },
     "metadata": {
      "needs_background": "light"
     },
     "output_type": "display_data"
    }
   ],
   "source": [
    "customer_demographic['past_3_years_bike_related_purchases'].value_counts().sort_index().plot.hist(figsize=(20,10));"
   ]
  },
  {
   "cell_type": "code",
   "execution_count": 59,
   "metadata": {},
   "outputs": [
    {
     "data": {
      "text/html": [
       "<div>\n",
       "<style scoped>\n",
       "    .dataframe tbody tr th:only-of-type {\n",
       "        vertical-align: middle;\n",
       "    }\n",
       "\n",
       "    .dataframe tbody tr th {\n",
       "        vertical-align: top;\n",
       "    }\n",
       "\n",
       "    .dataframe thead th {\n",
       "        text-align: right;\n",
       "    }\n",
       "</style>\n",
       "<table border=\"1\" class=\"dataframe\">\n",
       "  <thead>\n",
       "    <tr style=\"text-align: right;\">\n",
       "      <th></th>\n",
       "      <th>customer_id</th>\n",
       "      <th>address</th>\n",
       "      <th>postcode</th>\n",
       "      <th>state</th>\n",
       "      <th>country</th>\n",
       "      <th>property_valuation</th>\n",
       "    </tr>\n",
       "  </thead>\n",
       "  <tbody>\n",
       "    <tr>\n",
       "      <th>0</th>\n",
       "      <td>1</td>\n",
       "      <td>060 Morning Avenue</td>\n",
       "      <td>2016</td>\n",
       "      <td>New South Wales</td>\n",
       "      <td>Australia</td>\n",
       "      <td>10</td>\n",
       "    </tr>\n",
       "    <tr>\n",
       "      <th>1</th>\n",
       "      <td>2</td>\n",
       "      <td>6 Meadow Vale Court</td>\n",
       "      <td>2153</td>\n",
       "      <td>New South Wales</td>\n",
       "      <td>Australia</td>\n",
       "      <td>10</td>\n",
       "    </tr>\n",
       "    <tr>\n",
       "      <th>2</th>\n",
       "      <td>4</td>\n",
       "      <td>0 Holy Cross Court</td>\n",
       "      <td>4211</td>\n",
       "      <td>QLD</td>\n",
       "      <td>Australia</td>\n",
       "      <td>9</td>\n",
       "    </tr>\n",
       "    <tr>\n",
       "      <th>3</th>\n",
       "      <td>5</td>\n",
       "      <td>17979 Del Mar Point</td>\n",
       "      <td>2448</td>\n",
       "      <td>New South Wales</td>\n",
       "      <td>Australia</td>\n",
       "      <td>4</td>\n",
       "    </tr>\n",
       "    <tr>\n",
       "      <th>4</th>\n",
       "      <td>6</td>\n",
       "      <td>9 Oakridge Court</td>\n",
       "      <td>3216</td>\n",
       "      <td>VIC</td>\n",
       "      <td>Australia</td>\n",
       "      <td>9</td>\n",
       "    </tr>\n",
       "  </tbody>\n",
       "</table>\n",
       "</div>"
      ],
      "text/plain": [
       "   customer_id              address  postcode            state    country  \\\n",
       "0            1   060 Morning Avenue      2016  New South Wales  Australia   \n",
       "1            2  6 Meadow Vale Court      2153  New South Wales  Australia   \n",
       "2            4   0 Holy Cross Court      4211              QLD  Australia   \n",
       "3            5  17979 Del Mar Point      2448  New South Wales  Australia   \n",
       "4            6     9 Oakridge Court      3216              VIC  Australia   \n",
       "\n",
       "   property_valuation  \n",
       "0                  10  \n",
       "1                  10  \n",
       "2                   9  \n",
       "3                   4  \n",
       "4                   9  "
      ]
     },
     "execution_count": 59,
     "metadata": {},
     "output_type": "execute_result"
    }
   ],
   "source": [
    "customer_address=pd.read_excel('Sprocket Central Data - KPMG.xlsx',sheet_name='CustomerAddress',skiprows=1)\n",
    "customer_address.to_csv('customer_address.csv') # Remove extra column created\n",
    "customer_address.head()"
   ]
  },
  {
   "cell_type": "code",
   "execution_count": 60,
   "metadata": {},
   "outputs": [
    {
     "data": {
      "text/html": [
       "<div>\n",
       "<style scoped>\n",
       "    .dataframe tbody tr th:only-of-type {\n",
       "        vertical-align: middle;\n",
       "    }\n",
       "\n",
       "    .dataframe tbody tr th {\n",
       "        vertical-align: top;\n",
       "    }\n",
       "\n",
       "    .dataframe thead th {\n",
       "        text-align: right;\n",
       "    }\n",
       "</style>\n",
       "<table border=\"1\" class=\"dataframe\">\n",
       "  <thead>\n",
       "    <tr style=\"text-align: right;\">\n",
       "      <th></th>\n",
       "      <th>customer_id</th>\n",
       "      <th>address</th>\n",
       "      <th>postcode</th>\n",
       "      <th>state</th>\n",
       "      <th>country</th>\n",
       "      <th>property_valuation</th>\n",
       "    </tr>\n",
       "  </thead>\n",
       "  <tbody>\n",
       "    <tr>\n",
       "      <th>2470</th>\n",
       "      <td>2475</td>\n",
       "      <td>3 Talisman Place</td>\n",
       "      <td>4017</td>\n",
       "      <td>QLD</td>\n",
       "      <td>Australia</td>\n",
       "      <td>5</td>\n",
       "    </tr>\n",
       "    <tr>\n",
       "      <th>2980</th>\n",
       "      <td>2985</td>\n",
       "      <td>3 Mariners Cove Terrace</td>\n",
       "      <td>2216</td>\n",
       "      <td>NSW</td>\n",
       "      <td>Australia</td>\n",
       "      <td>10</td>\n",
       "    </tr>\n",
       "    <tr>\n",
       "      <th>3535</th>\n",
       "      <td>3540</td>\n",
       "      <td>64 Macpherson Junction</td>\n",
       "      <td>4061</td>\n",
       "      <td>QLD</td>\n",
       "      <td>Australia</td>\n",
       "      <td>8</td>\n",
       "    </tr>\n",
       "  </tbody>\n",
       "</table>\n",
       "</div>"
      ],
      "text/plain": [
       "      customer_id                  address  postcode state    country  \\\n",
       "2470         2475         3 Talisman Place      4017   QLD  Australia   \n",
       "2980         2985  3 Mariners Cove Terrace      2216   NSW  Australia   \n",
       "3535         3540   64 Macpherson Junction      4061   QLD  Australia   \n",
       "\n",
       "      property_valuation  \n",
       "2470                   5  \n",
       "2980                  10  \n",
       "3535                   8  "
      ]
     },
     "execution_count": 60,
     "metadata": {},
     "output_type": "execute_result"
    }
   ],
   "source": [
    "customer_address[customer_address.duplicated(['address'])]"
   ]
  },
  {
   "cell_type": "code",
   "execution_count": 61,
   "metadata": {},
   "outputs": [
    {
     "data": {
      "text/plain": [
       "(3999, 6)"
      ]
     },
     "execution_count": 61,
     "metadata": {},
     "output_type": "execute_result"
    }
   ],
   "source": [
    "customer_address.shape\n",
    "# Mismatch between customer demographic (4000) and customer address (3999) means that we will delete the last row in customer demographic to smooth the merge"
   ]
  },
  {
   "cell_type": "code",
   "execution_count": 62,
   "metadata": {},
   "outputs": [
    {
     "data": {
      "text/plain": [
       "customer_id           3999\n",
       "address               3999\n",
       "postcode              3999\n",
       "state                 3999\n",
       "country               3999\n",
       "property_valuation    3999\n",
       "dtype: int64"
      ]
     },
     "execution_count": 62,
     "metadata": {},
     "output_type": "execute_result"
    }
   ],
   "source": [
    "customer_address.count()"
   ]
  },
  {
   "cell_type": "code",
   "execution_count": 63,
   "metadata": {},
   "outputs": [
    {
     "data": {
      "text/plain": [
       "6"
      ]
     },
     "execution_count": 63,
     "metadata": {},
     "output_type": "execute_result"
    }
   ],
   "source": [
    "len(customer_address.all())"
   ]
  },
  {
   "cell_type": "code",
   "execution_count": 64,
   "metadata": {},
   "outputs": [],
   "source": [
    "# Not missing any rows (except for the last one)"
   ]
  },
  {
   "cell_type": "code",
   "execution_count": 65,
   "metadata": {},
   "outputs": [
    {
     "data": {
      "text/html": [
       "<div>\n",
       "<style scoped>\n",
       "    .dataframe tbody tr th:only-of-type {\n",
       "        vertical-align: middle;\n",
       "    }\n",
       "\n",
       "    .dataframe tbody tr th {\n",
       "        vertical-align: top;\n",
       "    }\n",
       "\n",
       "    .dataframe thead th {\n",
       "        text-align: right;\n",
       "    }\n",
       "</style>\n",
       "<table border=\"1\" class=\"dataframe\">\n",
       "  <thead>\n",
       "    <tr style=\"text-align: right;\">\n",
       "      <th></th>\n",
       "      <th>customer_id</th>\n",
       "      <th>postcode</th>\n",
       "      <th>property_valuation</th>\n",
       "    </tr>\n",
       "  </thead>\n",
       "  <tbody>\n",
       "    <tr>\n",
       "      <th>count</th>\n",
       "      <td>3999.000000</td>\n",
       "      <td>3999.000000</td>\n",
       "      <td>3999.000000</td>\n",
       "    </tr>\n",
       "    <tr>\n",
       "      <th>mean</th>\n",
       "      <td>2003.987997</td>\n",
       "      <td>2985.755939</td>\n",
       "      <td>7.514379</td>\n",
       "    </tr>\n",
       "    <tr>\n",
       "      <th>std</th>\n",
       "      <td>1154.576912</td>\n",
       "      <td>844.878364</td>\n",
       "      <td>2.824663</td>\n",
       "    </tr>\n",
       "    <tr>\n",
       "      <th>min</th>\n",
       "      <td>1.000000</td>\n",
       "      <td>2000.000000</td>\n",
       "      <td>1.000000</td>\n",
       "    </tr>\n",
       "    <tr>\n",
       "      <th>25%</th>\n",
       "      <td>1004.500000</td>\n",
       "      <td>2200.000000</td>\n",
       "      <td>6.000000</td>\n",
       "    </tr>\n",
       "    <tr>\n",
       "      <th>50%</th>\n",
       "      <td>2004.000000</td>\n",
       "      <td>2768.000000</td>\n",
       "      <td>8.000000</td>\n",
       "    </tr>\n",
       "    <tr>\n",
       "      <th>75%</th>\n",
       "      <td>3003.500000</td>\n",
       "      <td>3750.000000</td>\n",
       "      <td>10.000000</td>\n",
       "    </tr>\n",
       "    <tr>\n",
       "      <th>max</th>\n",
       "      <td>4003.000000</td>\n",
       "      <td>4883.000000</td>\n",
       "      <td>12.000000</td>\n",
       "    </tr>\n",
       "  </tbody>\n",
       "</table>\n",
       "</div>"
      ],
      "text/plain": [
       "       customer_id     postcode  property_valuation\n",
       "count  3999.000000  3999.000000         3999.000000\n",
       "mean   2003.987997  2985.755939            7.514379\n",
       "std    1154.576912   844.878364            2.824663\n",
       "min       1.000000  2000.000000            1.000000\n",
       "25%    1004.500000  2200.000000            6.000000\n",
       "50%    2004.000000  2768.000000            8.000000\n",
       "75%    3003.500000  3750.000000           10.000000\n",
       "max    4003.000000  4883.000000           12.000000"
      ]
     },
     "execution_count": 65,
     "metadata": {},
     "output_type": "execute_result"
    }
   ],
   "source": [
    "customer_address.describe()"
   ]
  },
  {
   "cell_type": "code",
   "execution_count": 66,
   "metadata": {},
   "outputs": [
    {
     "data": {
      "image/png": "[encoded data removed]",
      "text/plain": [
       "<Figure size 432x288 with 1 Axes>"
      ]
     },
     "metadata": {
      "needs_background": "light"
     },
     "output_type": "display_data"
    }
   ],
   "source": [
    "propery_values=customer_address['property_valuation'].value_counts().sort_index().plot.bar().set_title('Property Values')\n",
    "propery_values;"
   ]
  },
  {
   "cell_type": "code",
   "execution_count": 67,
   "metadata": {},
   "outputs": [],
   "source": [
    "propery_values.figure.savefig('Property Values.png')"
   ]
  },
  {
   "cell_type": "code",
   "execution_count": 68,
   "metadata": {},
   "outputs": [
    {
     "data": {
      "text/plain": [
       "[             2047  653   2728  677   2724  673   2720  669   2716  665   ...  \\\n",
       " customer_id     1     1     1     1     1     1     1     1     1     1  ...   \n",
       " \n",
       "              1334  3379  1330  3375  1326  3371  1322  3367  1318  2049  \n",
       " customer_id     1     1     1     1     1     1     1     1     1     1  \n",
       " \n",
       " [1 rows x 3999 columns],\n",
       "          64 Macpherson Junction  3 Talisman Place  3 Mariners Cove Terrace  \\\n",
       " address                       2                 2                        2   \n",
       " \n",
       "          03742 Granby Parkway  5468 Moose Lane  274 Ludington Trail  \\\n",
       " address                     1                1                    1   \n",
       " \n",
       "          087 Fallview Plaza  66 Talmadge Terrace  3525 Buena Vista Plaza  \\\n",
       " address                   1                    1                       1   \n",
       " \n",
       "          58047 Westport Road  ...  25413 Delaware Pass  48 Cascade Terrace  \\\n",
       " address                    1  ...                    1                   1   \n",
       " \n",
       "          8766 Onsgard Plaza  1 Schiller Place  505 Village Pass  \\\n",
       " address                   1                 1                 1   \n",
       " \n",
       "          5772 Ridgeway Place  51152 Brickson Park Crossing  64 Quincy Alley  \\\n",
       " address                    1                             1                1   \n",
       " \n",
       "          59901 Bartelt Terrace  6 Rockefeller Lane  \n",
       " address                      1                   1  \n",
       " \n",
       " [1 rows x 3996 columns],\n",
       "           2170  2155  2145  2153  2770  3977  2560  2065  2148  2763  ...  \\\n",
       " postcode    31    30    30    29    26    26    26    25    22    22  ...   \n",
       " \n",
       "           2517  4564  4562  2474  3556  4552  4555  2485  3580  4421  \n",
       " postcode     1     1     1     1     1     1     1     1     1     1  \n",
       " \n",
       " [1 rows x 873 columns],\n",
       "         NSW  VIC  QLD  New South Wales  Victoria\n",
       " state  2054  939  838               86        82,\n",
       "          Australia\n",
       " country       3999,\n",
       "                      9    8    10   7    11   6    5    4    12   3    1    2 \n",
       " property_valuation  647  646  577  493  281  238  225  214  195  186  154  143]"
      ]
     },
     "execution_count": 68,
     "metadata": {},
     "output_type": "execute_result"
    }
   ],
   "source": [
    "customer_address_value_counts=[pd.DataFrame(customer_address[customer_address.columns[i]].value_counts()).T for i in range(len(customer_address.columns))]\n",
    "customer_address_value_counts"
   ]
  },
  {
   "cell_type": "code",
   "execution_count": 69,
   "metadata": {},
   "outputs": [],
   "source": [
    "# 'Country' needs to be reformatted as well"
   ]
  },
  {
   "cell_type": "code",
   "execution_count": 70,
   "metadata": {},
   "outputs": [
    {
     "data": {
      "text/plain": [
       "0          1\n",
       "1          2\n",
       "2          3\n",
       "3          4\n",
       "4          5\n",
       "        ... \n",
       "3995    3996\n",
       "3996    3997\n",
       "3997    3998\n",
       "3998    3999\n",
       "3999    4000\n",
       "Name: customer_id, Length: 4000, dtype: int64"
      ]
     },
     "execution_count": 70,
     "metadata": {},
     "output_type": "execute_result"
    }
   ],
   "source": [
    "customer_demographic['customer_id']"
   ]
  },
  {
   "cell_type": "code",
   "execution_count": 71,
   "metadata": {},
   "outputs": [
    {
     "data": {
      "text/plain": [
       "0          1\n",
       "1          2\n",
       "2          4\n",
       "3          5\n",
       "4          6\n",
       "        ... \n",
       "3994    3999\n",
       "3995    4000\n",
       "3996    4001\n",
       "3997    4002\n",
       "3998    4003\n",
       "Name: customer_id, Length: 3999, dtype: int64"
      ]
     },
     "execution_count": 71,
     "metadata": {},
     "output_type": "execute_result"
    }
   ],
   "source": [
    "customer_address['customer_id']"
   ]
  },
  {
   "cell_type": "code",
   "execution_count": 72,
   "metadata": {},
   "outputs": [
    {
     "data": {
      "text/plain": [
       "0        2950\n",
       "1        3120\n",
       "2         402\n",
       "3        3135\n",
       "4         787\n",
       "         ... \n",
       "19995    1018\n",
       "19996     127\n",
       "19997    2284\n",
       "19998    2764\n",
       "19999    1144\n",
       "Name: customer_id, Length: 20000, dtype: int64"
      ]
     },
     "execution_count": 72,
     "metadata": {},
     "output_type": "execute_result"
    }
   ],
   "source": [
    "transactions['customer_id']"
   ]
  },
  {
   "cell_type": "code",
   "execution_count": 73,
   "metadata": {},
   "outputs": [
    {
     "data": {
      "text/plain": [
       "array([   1,    2,    3, ..., 3499, 3500, 5034], dtype=int64)"
      ]
     },
     "execution_count": 73,
     "metadata": {},
     "output_type": "execute_result"
    }
   ],
   "source": [
    "transactions['customer_id'].sort_values().unique()"
   ]
  }
 ],
 "metadata": {
  "kernelspec": {
   "display_name": "Python 3",
   "language": "python",
   "name": "python3"
  },
  "language_info": {
   "codemirror_mode": {
    "name": "ipython",
    "version": 3
   },
   "file_extension": ".py",
   "mimetype": "text/x-python",
   "name": "python",
   "nbconvert_exporter": "python",
   "pygments_lexer": "ipython3",
   "version": "3.8.2"
  }
 },
 "nbformat": 4,
 "nbformat_minor": 4
}
